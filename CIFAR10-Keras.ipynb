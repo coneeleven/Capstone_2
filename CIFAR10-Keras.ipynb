{
 "cells": [
  {
   "cell_type": "markdown",
   "metadata": {},
   "source": [
    "# Image classification using TensorFlow\n",
    "\n",
    "### Springboard Career Track Capstone Project 2"
   ]
  },
  {
   "cell_type": "markdown",
   "metadata": {},
   "source": [
    "#### Linear Model in TensorFlow"
   ]
  },
  {
   "cell_type": "markdown",
   "metadata": {},
   "source": [
    "#### Import libraries"
   ]
  },
  {
   "cell_type": "code",
   "execution_count": 1,
   "metadata": {},
   "outputs": [
    {
     "name": "stderr",
     "output_type": "stream",
     "text": [
      "/home/ec2-user/anaconda3/envs/tensorflow_p36/lib/python3.6/importlib/_bootstrap.py:219: RuntimeWarning: compiletime version 3.5 of module 'tensorflow.python.framework.fast_tensor_util' does not match runtime version 3.6\n",
      "  return f(*args, **kwds)\n"
     ]
    }
   ],
   "source": [
    "import pandas as pd\n",
    "import numpy as np\n",
    "import matplotlib.pyplot as plt\n",
    "import tensorflow as tf\n",
    "%matplotlib inline \n",
    "from sklearn.preprocessing import OneHotEncoder, LabelBinarizer\n",
    "\n",
    "from IPython.core.interactiveshell import InteractiveShell\n",
    "InteractiveShell.ast_node_interactivity = \"all\"\n",
    "\n",
    "from IPython.core.pylabtools import figsize\n",
    "figsize(12, 8)"
   ]
  },
  {
   "cell_type": "markdown",
   "metadata": {},
   "source": [
    "#### Import data"
   ]
  },
  {
   "cell_type": "markdown",
   "metadata": {},
   "source": [
    "Data acquired from https://www.cs.toronto.edu/~kriz/cifar.html"
   ]
  },
  {
   "cell_type": "code",
   "execution_count": 2,
   "metadata": {},
   "outputs": [],
   "source": [
    "import tarfile\n",
    "tar = tarfile.open(\"cifar-10-python.tar.gz\")\n",
    "tar.extractall()\n",
    "tar.close()"
   ]
  },
  {
   "cell_type": "markdown",
   "metadata": {},
   "source": [
    "#### Create function to unpickle data"
   ]
  },
  {
   "cell_type": "code",
   "execution_count": 3,
   "metadata": {},
   "outputs": [],
   "source": [
    "def unpickle(file):\n",
    "    import pickle\n",
    "    with open(file, 'rb') as fo:\n",
    "        dict = pickle.load(fo, encoding='bytes')\n",
    "    return dict"
   ]
  },
  {
   "cell_type": "code",
   "execution_count": 4,
   "metadata": {},
   "outputs": [],
   "source": [
    "def one_hot_encode(x):\n",
    "    \"\"\"\n",
    "    One hot encode a list of sample labels. Return a one-hot encoded vector for each label.\n",
    "    : x: List of sample Labels\n",
    "    : return: Numpy array of one-hot encoded labels\n",
    "    \"\"\"  \n",
    "    from sklearn.preprocessing import OneHotEncoder, LabelBinarizer\n",
    "    encoder = LabelBinarizer()\n",
    "    encoder.fit(range(10))\n",
    "\n",
    "    return encoder.transform(x)"
   ]
  },
  {
   "cell_type": "markdown",
   "metadata": {},
   "source": [
    "#### Assign batch names, unpickle batches, and concatenate"
   ]
  },
  {
   "cell_type": "code",
   "execution_count": 5,
   "metadata": {},
   "outputs": [],
   "source": [
    "f1 = 'cifar-10-batches-py/data_batch_1'\n",
    "f2 = 'cifar-10-batches-py/data_batch_2'\n",
    "f3 = 'cifar-10-batches-py/data_batch_3'\n",
    "f4 = 'cifar-10-batches-py/data_batch_4'\n",
    "f5 = 'cifar-10-batches-py/data_batch_5'\n",
    "x_test = 'cifar-10-batches-py/test_batch'\n",
    "label_names = 'cifar-10-batches-py/batches.meta'"
   ]
  },
  {
   "cell_type": "code",
   "execution_count": 6,
   "metadata": {},
   "outputs": [],
   "source": [
    "b1 = unpickle(f1)"
   ]
  },
  {
   "cell_type": "code",
   "execution_count": 7,
   "metadata": {},
   "outputs": [
    {
     "data": {
      "text/plain": [
       "dict_keys([b'batch_label', b'labels', b'data', b'filenames'])"
      ]
     },
     "execution_count": 7,
     "metadata": {},
     "output_type": "execute_result"
    }
   ],
   "source": [
    "b1.keys()"
   ]
  },
  {
   "cell_type": "code",
   "execution_count": 8,
   "metadata": {},
   "outputs": [],
   "source": [
    "train_y1 = b1.get(b'labels')\n",
    "b1data = b1.get(b'data')\n",
    "\n",
    "b2 = unpickle(f2)\n",
    "train_y2 = b2.get(b'labels')\n",
    "b2data = b2.get(b'data')\n",
    "\n",
    "b3 = unpickle(f3)\n",
    "train_y3 = b3.get(b'labels')\n",
    "b3data = b3.get(b'data')\n",
    "\n",
    "b4 = unpickle(f4)\n",
    "train_y4 = b4.get(b'labels')\n",
    "b4data = b4.get(b'data')\n",
    "\n",
    "b5 = unpickle(f5)\n",
    "train_y5 = b5.get(b'labels')\n",
    "b5data = b5.get(b'data')\n",
    "\n",
    "x_train = np.concatenate((b1data, b2data, b3data, b4data, b5data), axis=0)\n",
    "y_train = np.concatenate((train_y1, train_y2, train_y3, train_y4, train_y5), axis=0)\n",
    "\n",
    "y_train_cls = y_train\n",
    "y_train = one_hot_encode(y_train)\n",
    "\n",
    "test = unpickle(x_test)\n",
    "x_test = test.get(b'data')\n",
    "y_test_cls = test.get(b'labels')\n",
    "y_test = one_hot_encode(y_test_cls)\n",
    "label_names = unpickle(label_names)"
   ]
  },
  {
   "cell_type": "code",
   "execution_count": 9,
   "metadata": {},
   "outputs": [
    {
     "data": {
      "text/plain": [
       "(50000, 3072)"
      ]
     },
     "execution_count": 9,
     "metadata": {},
     "output_type": "execute_result"
    }
   ],
   "source": [
    "x_train.shape"
   ]
  },
  {
   "cell_type": "code",
   "execution_count": 10,
   "metadata": {},
   "outputs": [
    {
     "data": {
      "text/plain": [
       "array([[ 59,  43,  50, ..., 140,  84,  72],\n",
       "       [154, 126, 105, ..., 139, 142, 144],\n",
       "       [255, 253, 253, ...,  83,  83,  84],\n",
       "       ..., \n",
       "       [ 35,  40,  42, ...,  77,  66,  50],\n",
       "       [189, 186, 185, ..., 169, 171, 171],\n",
       "       [229, 236, 234, ..., 173, 162, 161]], dtype=uint8)"
      ]
     },
     "execution_count": 10,
     "metadata": {},
     "output_type": "execute_result"
    }
   ],
   "source": [
    "x_train"
   ]
  },
  {
   "cell_type": "code",
   "execution_count": 11,
   "metadata": {},
   "outputs": [
    {
     "data": {
      "text/plain": [
       "array([[0, 0, 0, ..., 0, 0, 0],\n",
       "       [0, 0, 0, ..., 0, 0, 1],\n",
       "       [0, 0, 0, ..., 0, 0, 1],\n",
       "       ..., \n",
       "       [0, 0, 0, ..., 0, 0, 1],\n",
       "       [0, 1, 0, ..., 0, 0, 0],\n",
       "       [0, 1, 0, ..., 0, 0, 0]])"
      ]
     },
     "execution_count": 11,
     "metadata": {},
     "output_type": "execute_result"
    }
   ],
   "source": [
    "y_train"
   ]
  },
  {
   "cell_type": "code",
   "execution_count": 12,
   "metadata": {},
   "outputs": [
    {
     "data": {
      "text/plain": [
       "(50000, 10)"
      ]
     },
     "execution_count": 12,
     "metadata": {},
     "output_type": "execute_result"
    }
   ],
   "source": [
    "y_train.shape"
   ]
  },
  {
   "cell_type": "code",
   "execution_count": 13,
   "metadata": {},
   "outputs": [
    {
     "data": {
      "text/plain": [
       "{b'label_names': [b'airplane',\n",
       "  b'automobile',\n",
       "  b'bird',\n",
       "  b'cat',\n",
       "  b'deer',\n",
       "  b'dog',\n",
       "  b'frog',\n",
       "  b'horse',\n",
       "  b'ship',\n",
       "  b'truck'],\n",
       " b'num_cases_per_batch': 10000,\n",
       " b'num_vis': 3072}"
      ]
     },
     "execution_count": 13,
     "metadata": {},
     "output_type": "execute_result"
    }
   ],
   "source": [
    "label_names"
   ]
  },
  {
   "cell_type": "code",
   "execution_count": 14,
   "metadata": {},
   "outputs": [
    {
     "data": {
      "text/plain": [
       "(10000, 3072)"
      ]
     },
     "execution_count": 14,
     "metadata": {},
     "output_type": "execute_result"
    }
   ],
   "source": [
    "x_test.shape"
   ]
  },
  {
   "cell_type": "code",
   "execution_count": 15,
   "metadata": {},
   "outputs": [
    {
     "data": {
      "text/plain": [
       "(10000, 10)"
      ]
     },
     "execution_count": 15,
     "metadata": {},
     "output_type": "execute_result"
    }
   ],
   "source": [
    "y_test.shape"
   ]
  },
  {
   "cell_type": "code",
   "execution_count": 16,
   "metadata": {},
   "outputs": [
    {
     "data": {
      "text/plain": [
       "(array([[ 59,  43,  50, ..., 140,  84,  72],\n",
       "        [154, 126, 105, ..., 139, 142, 144],\n",
       "        [255, 253, 253, ...,  83,  83,  84],\n",
       "        ..., \n",
       "        [ 35,  40,  42, ...,  77,  66,  50],\n",
       "        [189, 186, 185, ..., 169, 171, 171],\n",
       "        [229, 236, 234, ..., 173, 162, 161]], dtype=uint8),\n",
       " array([[158, 159, 165, ..., 124, 129, 110],\n",
       "        [235, 231, 232, ..., 178, 191, 199],\n",
       "        [158, 158, 139, ...,   8,   3,   7],\n",
       "        ..., \n",
       "        [ 20,  19,  15, ...,  50,  53,  47],\n",
       "        [ 25,  15,  23, ...,  80,  81,  80],\n",
       "        [ 73,  98,  99, ...,  94,  58,  26]], dtype=uint8))"
      ]
     },
     "execution_count": 16,
     "metadata": {},
     "output_type": "execute_result"
    }
   ],
   "source": [
    "x_train, x_test"
   ]
  },
  {
   "cell_type": "code",
   "execution_count": 17,
   "metadata": {},
   "outputs": [],
   "source": [
    "# normalize inputs from 0-255 to 0-1\n",
    "x_train = x_train / 255\n",
    "x_test = x_test / 255"
   ]
  },
  {
   "cell_type": "code",
   "execution_count": 18,
   "metadata": {},
   "outputs": [
    {
     "data": {
      "text/plain": [
       "array([[ 0.23137255,  0.16862745,  0.19607843, ...,  0.54901961,\n",
       "         0.32941176,  0.28235294],\n",
       "       [ 0.60392157,  0.49411765,  0.41176471, ...,  0.54509804,\n",
       "         0.55686275,  0.56470588],\n",
       "       [ 1.        ,  0.99215686,  0.99215686, ...,  0.3254902 ,\n",
       "         0.3254902 ,  0.32941176],\n",
       "       ..., \n",
       "       [ 0.1372549 ,  0.15686275,  0.16470588, ...,  0.30196078,\n",
       "         0.25882353,  0.19607843],\n",
       "       [ 0.74117647,  0.72941176,  0.7254902 , ...,  0.6627451 ,\n",
       "         0.67058824,  0.67058824],\n",
       "       [ 0.89803922,  0.9254902 ,  0.91764706, ...,  0.67843137,\n",
       "         0.63529412,  0.63137255]])"
      ]
     },
     "execution_count": 18,
     "metadata": {},
     "output_type": "execute_result"
    }
   ],
   "source": [
    "x_train"
   ]
  },
  {
   "cell_type": "code",
   "execution_count": 19,
   "metadata": {
    "scrolled": true
   },
   "outputs": [
    {
     "data": {
      "text/plain": [
       "array([[ 0.61960784,  0.62352941,  0.64705882, ...,  0.48627451,\n",
       "         0.50588235,  0.43137255],\n",
       "       [ 0.92156863,  0.90588235,  0.90980392, ...,  0.69803922,\n",
       "         0.74901961,  0.78039216],\n",
       "       [ 0.61960784,  0.61960784,  0.54509804, ...,  0.03137255,\n",
       "         0.01176471,  0.02745098],\n",
       "       ..., \n",
       "       [ 0.07843137,  0.0745098 ,  0.05882353, ...,  0.19607843,\n",
       "         0.20784314,  0.18431373],\n",
       "       [ 0.09803922,  0.05882353,  0.09019608, ...,  0.31372549,\n",
       "         0.31764706,  0.31372549],\n",
       "       [ 0.28627451,  0.38431373,  0.38823529, ...,  0.36862745,\n",
       "         0.22745098,  0.10196078]])"
      ]
     },
     "execution_count": 19,
     "metadata": {},
     "output_type": "execute_result"
    }
   ],
   "source": [
    "x_test"
   ]
  },
  {
   "cell_type": "markdown",
   "metadata": {},
   "source": [
    "Using Keras (adapted from https://blog.keras.io/keras-as-a-simplified-interface-to-tensorflow-tutorial.html)"
   ]
  },
  {
   "cell_type": "markdown",
   "metadata": {},
   "source": [
    "Using baseline model Keras example from https://machinelearningmastery.com/handwritten-digit-recognition-using-convolutional-neural-networks-python-keras/"
   ]
  },
  {
   "cell_type": "code",
   "execution_count": null,
   "metadata": {},
   "outputs": [],
   "source": [
    "import tensorflow as tf\n",
    "sess = tf.Session()\n",
    "\n",
    "# from keras import backend as K\n",
    "# K.set_session(sess)\n",
    "\n",
    "import keras\n",
    "from keras.models import Sequential\n",
    "from keras.layers import Dense\n",
    "from keras.layers import Dropout\n",
    "import keras.utils"
   ]
  },
  {
   "cell_type": "code",
   "execution_count": null,
   "metadata": {},
   "outputs": [],
   "source": [
    "# define baseline model\n",
    "def baseline_model():\n",
    "    # create model\n",
    "    np.random.seed(1337)\n",
    "    model = Sequential()\n",
    "    model.add(Dense(num_pixels, input_dim=num_pixels, kernel_initializer='normal', activation='relu'))\n",
    "    model.add(Dense(num_classes, kernel_initializer='normal', activation='softmax'))\n",
    "    # Compile model\n",
    "#     adam = keras.optimizers.Adam(lr=0.01, beta_1=0.9, beta_2=0.999, epsilon=1e-08, decay=0.0)\n",
    "    SGD = keras.optimizers.SGD(lr=0.001, momentum=0.0, decay=0.0, nesterov=False)\n",
    "    model.compile(loss='categorical_crossentropy', optimizer=SGD, metrics=['accuracy'])\n",
    "    return model"
   ]
  },
  {
   "cell_type": "code",
   "execution_count": null,
   "metadata": {
    "scrolled": true
   },
   "outputs": [],
   "source": [
    "num_pixels = 32 * 32 * 3\n",
    "num_classes = 10\n",
    "\n",
    "from keras import optimizers\n",
    "\n",
    "# build the model\n",
    "model = baseline_model()\n",
    "# Fit the model\n",
    "model.fit(x_train, y_train, validation_split=0.2, epochs=50, batch_size=1000, verbose=1)\n",
    "# Final evaluation of the model\n",
    "scores = model.evaluate(x_test, y_test, verbose=1)\n",
    "print(\"Baseline Error: %.2f%%\" % (100-scores[1]*100))"
   ]
  },
  {
   "cell_type": "code",
   "execution_count": null,
   "metadata": {
    "scrolled": true
   },
   "outputs": [],
   "source": [
    "model.fit(x_train, y_train, validation_split=0.2, epochs=50, batch_size=1000, verbose=1)\n",
    "# Final evaluation of the model\n",
    "scores = model.evaluate(x_test, y_test, verbose=1)\n",
    "print(\"Baseline Error: %.2f%%\" % (100-scores[1]*100))"
   ]
  },
  {
   "cell_type": "code",
   "execution_count": null,
   "metadata": {
    "scrolled": true
   },
   "outputs": [],
   "source": [
    "model.fit(x_train, y_train, validation_split=0.2, epochs=50, batch_size=1000, verbose=1)\n",
    "# Final evaluation of the model\n",
    "scores = model.evaluate(x_test, y_test, verbose=1)\n",
    "print(\"Baseline Error: %.2f%%\" % (100-scores[1]*100))"
   ]
  },
  {
   "cell_type": "code",
   "execution_count": null,
   "metadata": {
    "scrolled": true
   },
   "outputs": [],
   "source": [
    "model.fit(x_train, y_train, validation_split=0.2, epochs=50, batch_size=1000, verbose=1)\n",
    "# Final evaluation of the model\n",
    "scores = model.evaluate(x_test, y_test, verbose=1)\n",
    "print(\"Baseline Error: %.2f%%\" % (100-scores[1]*100))"
   ]
  },
  {
   "cell_type": "code",
   "execution_count": null,
   "metadata": {
    "scrolled": true
   },
   "outputs": [],
   "source": [
    "model.fit(x_train, y_train, validation_split=0.2, epochs=50, batch_size=1000, verbose=1)\n",
    "# Final evaluation of the model\n",
    "scores = model.evaluate(x_test, y_test, verbose=1)\n",
    "print(\"Baseline Error: %.2f%%\" % (100-scores[1]*100))"
   ]
  },
  {
   "cell_type": "markdown",
   "metadata": {},
   "source": [
    "GridSearchCV for learning rate"
   ]
  },
  {
   "cell_type": "code",
   "execution_count": null,
   "metadata": {},
   "outputs": [],
   "source": [
    "# define baseline model\n",
    "def baseline_model(learning_rate):\n",
    "    # create model\n",
    "    np.random.seed(1337)\n",
    "    model = Sequential()\n",
    "    model.add(Dense(num_pixels, input_dim=num_pixels, kernel_initializer='normal', activation='relu'))\n",
    "    model.add(Dense(num_classes, kernel_initializer='normal', activation='softmax'))\n",
    "    # Compile model\n",
    "#     adam = keras.optimizers.Adam(lr=0.01, beta_1=0.9, beta_2=0.999, epsilon=1e-08, decay=0.0)\n",
    "    SGD = keras.optimizers.SGD(lr=learning_rate, momentum=0.0, decay=0.0, nesterov=False)\n",
    "    model.compile(loss='categorical_crossentropy', optimizer=SGD, metrics=['accuracy'])\n",
    "    return model\n",
    "\n",
    "from keras.wrappers.scikit_learn import KerasClassifier\n",
    "from sklearn.model_selection import GridSearchCV\n",
    "\n",
    "model = KerasClassifier(build_fn=baseline_model, verbose=1)\n",
    "\n",
    "# define the grid search parameters\n",
    "batch_size = 500\n",
    "epochs = 500\n",
    "learning_rate = [.0001, .001, .01, .1, .2]\n",
    "param_grid = dict(learning_rate=learning_rate)\n",
    "grid = GridSearchCV(estimator=model, param_grid=param_grid, n_jobs=1)\n",
    "grid_result = grid.fit(x_train, y_train)\n",
    "# summarize results\n",
    "print(\"Best: %f using %s\" % (grid_result.best_score_, grid_result.best_params_))\n",
    "means = grid_result.cv_results_['mean_test_score']\n",
    "stds = grid_result.cv_results_['std_test_score']\n",
    "params = grid_result.cv_results_['params']\n",
    "for mean, stdev, param in zip(means, stds, params):\n",
    "    print(\"%f (%f) with: %r\" % (mean, stdev, param))"
   ]
  },
  {
   "cell_type": "markdown",
   "metadata": {},
   "source": [
    "Optimized baseline model"
   ]
  },
  {
   "cell_type": "code",
   "execution_count": null,
   "metadata": {},
   "outputs": [],
   "source": [
    "# define baseline model, optimized for optimizer, batch size, epochs, learning rate\n",
    "def baseline_model_opt():\n",
    "    # create model\n",
    "    np.random.seed(1337)\n",
    "    model = Sequential()\n",
    "    model.add(Dense(num_pixels, input_dim=num_pixels, kernel_initializer='normal', activation='relu'))\n",
    "    model.add(Dense(num_classes, kernel_initializer='normal', activation='softmax'))\n",
    "    # Compile model\n",
    "    Adagrad = keras.optimizers.Adagrad(lr=0.01, epsilon=None, decay=0.0)\n",
    "    model.compile(loss='categorical_crossentropy', optimizer=Adagrad, metrics=['accuracy'])\n",
    "    return model"
   ]
  },
  {
   "cell_type": "code",
   "execution_count": null,
   "metadata": {},
   "outputs": [],
   "source": [
    "num_pixels = 32 * 32 * 3\n",
    "num_classes = 10\n",
    "\n",
    "from keras import optimizers\n",
    "\n",
    "# build the model\n",
    "model = baseline_model_opt()\n",
    "# Fit the model\n",
    "model.fit(x_train, y_train, validation_split=0.2, epochs=500, batch_size=500, verbose=1)\n",
    "# Final evaluation of the model\n",
    "scores = model.evaluate(x_test, y_test, verbose=1)\n",
    "print(\"Baseline Error: %.2f%%\" % (100-scores[1]*100))"
   ]
  },
  {
   "cell_type": "code",
   "execution_count": null,
   "metadata": {},
   "outputs": [],
   "source": []
  },
  {
   "cell_type": "code",
   "execution_count": null,
   "metadata": {},
   "outputs": [],
   "source": [
    "num_pixels = 32 * 32 * 3   # 3072\n",
    "num_classes = 10\n",
    "\n",
    "from keras.optimizers import Adam\n",
    "\n",
    "# define baseline model\n",
    "def baseline_plus_hidden():\n",
    "    # create model\n",
    "    model = Sequential()\n",
    "    model.add(Dense(num_pixels, input_dim=num_pixels, kernel_initializer='normal', activation='relu'))\n",
    "    model.add(Dropout(0.5))\n",
    "    model.add(Dense(64, activation='relu'))\n",
    "    model.add(Dropout(0.5))\n",
    "    model.add(Dense(num_classes, kernel_initializer='normal', activation='softmax'))\n",
    "    # Compile model\n",
    "    SGD = keras.optimizers.SGD(lr=0.001, momentum=0.0, decay=0.0, nesterov=False)\n",
    "    model.compile(loss='categorical_crossentropy', optimizer=SGD, metrics=['accuracy'])\n",
    "    return model\n",
    "\n",
    "# build the model\n",
    "model = baseline_plus_hidden()\n",
    "# Fit the model\n",
    "model.fit(x_train, y_train, validation_split=0.2, epochs=10, batch_size=200, verbose=1)\n",
    "# Final evaluation of the model\n",
    "scores = model.evaluate(x_test, y_test, verbose=0)\n",
    "print(\"Baseline Error: %.2f%%\" % (100-scores[1]*100))"
   ]
  },
  {
   "cell_type": "code",
   "execution_count": null,
   "metadata": {},
   "outputs": [],
   "source": [
    "num_pixels = 32 * 32 * 3   # 3072\n",
    "num_classes = 10\n",
    "\n",
    "from keras.optimizers import Adadelta\n",
    "\n",
    "# define baseline model\n",
    "def baseline_plus_hidden():\n",
    "    # create model\n",
    "    model = Sequential()\n",
    "    model.add(Dense(num_pixels, input_dim=num_pixels, kernel_initializer='normal', activation='relu'))\n",
    "    model.add(Dropout(0.5))\n",
    "    model.add(Dense(64, activation='relu'))\n",
    "    model.add(Dropout(0.5))\n",
    "    model.add(Dense(num_classes, kernel_initializer='normal', activation='softmax'))\n",
    "    # Compile model\n",
    "    Adadelta = keras.optimizers.Adadelta(lr=1.0, rho=0.95, epsilon=None, decay=0.0)\n",
    "    model.compile(loss='categorical_crossentropy', optimizer=SGD, metrics=['accuracy'])\n",
    "    return model\n",
    "\n",
    "# build the model\n",
    "model = baseline_plus_hidden()\n",
    "# Fit the model\n",
    "model.fit(x_train, y_train, validation_split=0.2, epochs=10, batch_size=200, verbose=1)\n",
    "# Final evaluation of the model\n",
    "scores = model.evaluate(x_test, y_test, verbose=0)\n",
    "print(\"Baseline Error: %.2f%%\" % (100-scores[1]*100))"
   ]
  },
  {
   "cell_type": "code",
   "execution_count": 20,
   "metadata": {},
   "outputs": [
    {
     "name": "stderr",
     "output_type": "stream",
     "text": [
      "Using TensorFlow backend.\n"
     ]
    }
   ],
   "source": [
    "from keras.models import Sequential\n",
    "from keras.layers import Dense\n",
    "from keras.layers import Dropout\n",
    "from keras.layers import Flatten\n",
    "from keras.layers.convolutional import Conv2D\n",
    "from keras.layers.convolutional import MaxPooling2D\n",
    "from keras.utils import np_utils\n",
    "from keras import backend as K\n",
    "K.set_image_dim_ordering('tf')\n",
    "\n",
    "import tensorflow as tf\n",
    "sess = tf.Session()\n",
    "\n",
    "from keras.optimizers import Adam\n",
    "from keras.optimizers import SGD"
   ]
  },
  {
   "cell_type": "code",
   "execution_count": 21,
   "metadata": {},
   "outputs": [],
   "source": [
    "X_train = x_train.reshape(50000, 32, 32, 3)\n",
    "X_test = x_test.reshape(10000, 32, 32, 3)"
   ]
  },
  {
   "cell_type": "code",
   "execution_count": 22,
   "metadata": {},
   "outputs": [
    {
     "data": {
      "text/plain": [
       "((50000, 32, 32, 3), (10000, 32, 32, 3))"
      ]
     },
     "execution_count": 22,
     "metadata": {},
     "output_type": "execute_result"
    },
    {
     "data": {
      "text/plain": [
       "((50000, 10), (10000, 10))"
      ]
     },
     "execution_count": 22,
     "metadata": {},
     "output_type": "execute_result"
    }
   ],
   "source": [
    "X_train.shape, X_test.shape\n",
    "y_train.shape, y_test.shape"
   ]
  },
  {
   "cell_type": "code",
   "execution_count": 24,
   "metadata": {
    "scrolled": false
   },
   "outputs": [
    {
     "name": "stdout",
     "output_type": "stream",
     "text": [
      "Train on 49000 samples, validate on 1000 samples\n",
      "Epoch 1/50\n",
      "49000/49000 [==============================] - 4s 88us/step - loss: 1.9026 - acc: 0.3162 - val_loss: 1.6257 - val_acc: 0.4330\n",
      "Epoch 2/50\n",
      "49000/49000 [==============================] - 4s 80us/step - loss: 1.6079 - acc: 0.4287 - val_loss: 1.4673 - val_acc: 0.4780\n",
      "Epoch 3/50\n",
      "49000/49000 [==============================] - 4s 80us/step - loss: 1.5168 - acc: 0.4612 - val_loss: 1.3835 - val_acc: 0.5060\n",
      "Epoch 4/50\n",
      "49000/49000 [==============================] - 4s 80us/step - loss: 1.4336 - acc: 0.4939 - val_loss: 1.3200 - val_acc: 0.5340\n",
      "Epoch 5/50\n",
      "49000/49000 [==============================] - 4s 80us/step - loss: 1.3945 - acc: 0.5091 - val_loss: 1.3713 - val_acc: 0.5050\n",
      "Epoch 6/50\n",
      "49000/49000 [==============================] - 4s 80us/step - loss: 1.3615 - acc: 0.5183 - val_loss: 1.3028 - val_acc: 0.5420\n",
      "Epoch 7/50\n",
      "49000/49000 [==============================] - 4s 80us/step - loss: 1.3139 - acc: 0.5385 - val_loss: 1.2907 - val_acc: 0.5380\n",
      "Epoch 8/50\n",
      "49000/49000 [==============================] - 4s 80us/step - loss: 1.2877 - acc: 0.5454 - val_loss: 1.2407 - val_acc: 0.5560\n",
      "Epoch 9/50\n",
      "49000/49000 [==============================] - 4s 80us/step - loss: 1.2616 - acc: 0.5556 - val_loss: 1.2091 - val_acc: 0.5630\n",
      "Epoch 10/50\n",
      "49000/49000 [==============================] - 4s 80us/step - loss: 1.2374 - acc: 0.5651 - val_loss: 1.2106 - val_acc: 0.5620\n",
      "Epoch 11/50\n",
      "49000/49000 [==============================] - 4s 80us/step - loss: 1.2118 - acc: 0.5741 - val_loss: 1.1889 - val_acc: 0.5860\n",
      "Epoch 12/50\n",
      "49000/49000 [==============================] - 4s 80us/step - loss: 1.1854 - acc: 0.5837 - val_loss: 1.1545 - val_acc: 0.5970\n",
      "Epoch 13/50\n",
      "49000/49000 [==============================] - 4s 80us/step - loss: 1.1640 - acc: 0.5900 - val_loss: 1.1399 - val_acc: 0.6010\n",
      "Epoch 14/50\n",
      "49000/49000 [==============================] - 4s 81us/step - loss: 1.1434 - acc: 0.5995 - val_loss: 1.1211 - val_acc: 0.6020\n",
      "Epoch 15/50\n",
      "49000/49000 [==============================] - 4s 80us/step - loss: 1.1313 - acc: 0.6032 - val_loss: 1.1066 - val_acc: 0.6080\n",
      "Epoch 16/50\n",
      "49000/49000 [==============================] - 4s 80us/step - loss: 1.1040 - acc: 0.6107 - val_loss: 1.1103 - val_acc: 0.6080\n",
      "Epoch 17/50\n",
      "49000/49000 [==============================] - 4s 80us/step - loss: 1.0942 - acc: 0.6158 - val_loss: 1.0856 - val_acc: 0.6270\n",
      "Epoch 18/50\n",
      "49000/49000 [==============================] - 4s 80us/step - loss: 1.0744 - acc: 0.6242 - val_loss: 1.1369 - val_acc: 0.6030\n",
      "Epoch 19/50\n",
      "49000/49000 [==============================] - 4s 80us/step - loss: 1.0587 - acc: 0.6273 - val_loss: 1.0600 - val_acc: 0.6300\n",
      "Epoch 20/50\n",
      "49000/49000 [==============================] - 4s 80us/step - loss: 1.0350 - acc: 0.6361 - val_loss: 1.0678 - val_acc: 0.6220\n",
      "Epoch 21/50\n",
      "49000/49000 [==============================] - 4s 80us/step - loss: 1.0254 - acc: 0.6419 - val_loss: 1.0536 - val_acc: 0.6350\n",
      "Epoch 22/50\n",
      "49000/49000 [==============================] - 4s 80us/step - loss: 1.0054 - acc: 0.6482 - val_loss: 1.1065 - val_acc: 0.6140\n",
      "Epoch 23/50\n",
      "49000/49000 [==============================] - 4s 80us/step - loss: 1.0002 - acc: 0.6513 - val_loss: 1.0403 - val_acc: 0.6610\n",
      "Epoch 24/50\n",
      "49000/49000 [==============================] - 4s 80us/step - loss: 0.9822 - acc: 0.6555 - val_loss: 1.0720 - val_acc: 0.6300\n",
      "Epoch 25/50\n",
      "49000/49000 [==============================] - 4s 80us/step - loss: 0.9686 - acc: 0.6618 - val_loss: 1.0313 - val_acc: 0.6520\n",
      "Epoch 26/50\n",
      "49000/49000 [==============================] - 4s 80us/step - loss: 0.9494 - acc: 0.6682 - val_loss: 1.0596 - val_acc: 0.6460\n",
      "Epoch 27/50\n",
      "49000/49000 [==============================] - 4s 80us/step - loss: 0.9365 - acc: 0.6716 - val_loss: 1.0357 - val_acc: 0.6410\n",
      "Epoch 28/50\n",
      "49000/49000 [==============================] - 4s 80us/step - loss: 0.9310 - acc: 0.6724 - val_loss: 1.0385 - val_acc: 0.6610\n",
      "Epoch 29/50\n",
      "49000/49000 [==============================] - 4s 80us/step - loss: 0.9089 - acc: 0.6823 - val_loss: 1.0171 - val_acc: 0.6630\n",
      "Epoch 30/50\n",
      "49000/49000 [==============================] - 4s 80us/step - loss: 0.9045 - acc: 0.6837 - val_loss: 1.0436 - val_acc: 0.6460\n",
      "Epoch 31/50\n",
      "49000/49000 [==============================] - 4s 80us/step - loss: 0.8968 - acc: 0.6861 - val_loss: 1.0426 - val_acc: 0.6570\n",
      "Epoch 32/50\n",
      "49000/49000 [==============================] - 4s 80us/step - loss: 0.8870 - acc: 0.6895 - val_loss: 1.0217 - val_acc: 0.6600\n",
      "Epoch 33/50\n",
      "49000/49000 [==============================] - 4s 80us/step - loss: 0.8642 - acc: 0.6981 - val_loss: 1.0151 - val_acc: 0.6650\n",
      "Epoch 34/50\n",
      "49000/49000 [==============================] - 4s 80us/step - loss: 0.8591 - acc: 0.6996 - val_loss: 1.0054 - val_acc: 0.6740\n",
      "Epoch 35/50\n",
      "49000/49000 [==============================] - 4s 80us/step - loss: 0.8443 - acc: 0.7040 - val_loss: 1.0045 - val_acc: 0.6700\n",
      "Epoch 36/50\n",
      "49000/49000 [==============================] - 4s 80us/step - loss: 0.8325 - acc: 0.7093 - val_loss: 1.0234 - val_acc: 0.6690\n",
      "Epoch 37/50\n",
      "49000/49000 [==============================] - 4s 80us/step - loss: 0.8233 - acc: 0.7120 - val_loss: 1.0000 - val_acc: 0.6700\n",
      "Epoch 38/50\n",
      "49000/49000 [==============================] - 4s 80us/step - loss: 0.8115 - acc: 0.7164 - val_loss: 1.0403 - val_acc: 0.6500\n",
      "Epoch 39/50\n",
      "49000/49000 [==============================] - 4s 80us/step - loss: 0.8071 - acc: 0.7197 - val_loss: 1.0404 - val_acc: 0.6700\n",
      "Epoch 40/50\n",
      "49000/49000 [==============================] - 4s 80us/step - loss: 0.7811 - acc: 0.7271 - val_loss: 1.0420 - val_acc: 0.6720\n",
      "Epoch 41/50\n",
      "49000/49000 [==============================] - 4s 80us/step - loss: 0.7693 - acc: 0.7323 - val_loss: 1.0094 - val_acc: 0.6760\n",
      "Epoch 42/50\n",
      "49000/49000 [==============================] - 4s 80us/step - loss: 0.7656 - acc: 0.7313 - val_loss: 1.0118 - val_acc: 0.6900\n",
      "Epoch 43/50\n",
      "49000/49000 [==============================] - 4s 80us/step - loss: 0.7550 - acc: 0.7369 - val_loss: 1.0251 - val_acc: 0.6660\n",
      "Epoch 44/50\n",
      "49000/49000 [==============================] - 4s 80us/step - loss: 0.7492 - acc: 0.7373 - val_loss: 1.0182 - val_acc: 0.6840\n",
      "Epoch 45/50\n",
      "49000/49000 [==============================] - 4s 80us/step - loss: 0.7369 - acc: 0.7420 - val_loss: 1.0063 - val_acc: 0.6740\n",
      "Epoch 46/50\n",
      "49000/49000 [==============================] - 4s 80us/step - loss: 0.7310 - acc: 0.7422 - val_loss: 1.0600 - val_acc: 0.6640\n",
      "Epoch 47/50\n",
      "49000/49000 [==============================] - 4s 80us/step - loss: 0.7121 - acc: 0.7513 - val_loss: 1.0168 - val_acc: 0.6830\n",
      "Epoch 48/50\n",
      "49000/49000 [==============================] - 4s 80us/step - loss: 0.7074 - acc: 0.7521 - val_loss: 1.0529 - val_acc: 0.6760\n",
      "Epoch 49/50\n",
      "49000/49000 [==============================] - 4s 80us/step - loss: 0.6938 - acc: 0.7558 - val_loss: 1.0368 - val_acc: 0.6750\n",
      "Epoch 50/50\n",
      "49000/49000 [==============================] - 4s 80us/step - loss: 0.6861 - acc: 0.7587 - val_loss: 1.0400 - val_acc: 0.6770\n"
     ]
    },
    {
     "data": {
      "text/plain": [
       "[<matplotlib.lines.Line2D at 0x7fbd786faba8>]"
      ]
     },
     "execution_count": 24,
     "metadata": {},
     "output_type": "execute_result"
    },
    {
     "name": "stdout",
     "output_type": "stream",
     "text": [
      "10000/10000 [==============================] - 1s 84us/step\n",
      "Convolution Error: 37.03%\n"
     ]
    },
    {
     "data": {
      "image/png": "[encoded data removed]",
      "text/plain": [
       "<matplotlib.figure.Figure at 0x7fbd78cbab38>"
      ]
     },
     "metadata": {},
     "output_type": "display_data"
    }
   ],
   "source": [
    "def convolution_model():\n",
    "    # create model\n",
    "    model = Sequential()\n",
    "    model.add(Conv2D(32, (5, 5), input_shape=(32, 32, 3), activation='relu'))\n",
    "    model.add(MaxPooling2D(pool_size=(2, 2), strides=(2,2)))\n",
    "    model.add(Conv2D(64, (5, 5), activation='relu'))\n",
    "    model.add(MaxPooling2D(pool_size=(2, 2)))\n",
    "    model.add(Dropout(0.2))\n",
    "    model.add(Flatten())\n",
    "    model.add(Dense(128, activation='relu'))\n",
    "    model.add(Dense(10, activation='softmax'))\n",
    "    # Compile model\n",
    "    model.compile(loss='categorical_crossentropy', optimizer='Adam', metrics=['accuracy'])\n",
    "    return model\n",
    "\n",
    "# build the model\n",
    "convmodel = convolution_model()\n",
    "# Fit the model\n",
    "results_conv = convmodel.fit(X_train, y_train, validation_split=0.02, epochs=50, batch_size=500, verbose=1)\n",
    "plt.plot(results_conv.history['loss'])\n",
    "# Final evaluation of the model\n",
    "scores = convmodel.evaluate(X_test, y_test, verbose=1)\n",
    "print(\"Convolution Error: %.2f%%\" % (100-scores[1]*100))"
   ]
  },
  {
   "cell_type": "code",
   "execution_count": 26,
   "metadata": {},
   "outputs": [
    {
     "data": {
      "text/plain": [
       "[<matplotlib.lines.Line2D at 0x7fbd78671470>]"
      ]
     },
     "execution_count": 26,
     "metadata": {},
     "output_type": "execute_result"
    },
    {
     "name": "stdout",
     "output_type": "stream",
     "text": [
      "10000/10000 [==============================] - 1s 98us/step\n",
      "Accuracy: 62.97%\n"
     ]
    },
    {
     "data": {
      "image/png": "[encoded data removed]",
      "text/plain": [
       "<matplotlib.figure.Figure at 0x7fbd786a4128>"
      ]
     },
     "metadata": {},
     "output_type": "display_data"
    }
   ],
   "source": [
    "plt.plot(results_conv.history['loss'])\n",
    "# Final evaluation of the model\n",
    "scores = convmodel.evaluate(X_test, y_test, verbose=1)\n",
    "print(\"Accuracy: %.2f%%\" % (scores[1]*100))"
   ]
  },
  {
   "cell_type": "code",
   "execution_count": 27,
   "metadata": {},
   "outputs": [
    {
     "data": {
      "text/plain": [
       "[<matplotlib.lines.Line2D at 0x7fbd785d1630>]"
      ]
     },
     "execution_count": 27,
     "metadata": {},
     "output_type": "execute_result"
    },
    {
     "data": {
      "text/plain": [
       "[<matplotlib.lines.Line2D at 0x7fbd786c3358>]"
      ]
     },
     "execution_count": 27,
     "metadata": {},
     "output_type": "execute_result"
    },
    {
     "data": {
      "text/plain": [
       "[<matplotlib.lines.Line2D at 0x7fbd785d1be0>]"
      ]
     },
     "execution_count": 27,
     "metadata": {},
     "output_type": "execute_result"
    },
    {
     "data": {
      "text/plain": [
       "[<matplotlib.lines.Line2D at 0x7fbd785d1d30>]"
      ]
     },
     "execution_count": 27,
     "metadata": {},
     "output_type": "execute_result"
    },
    {
     "data": {
      "text/plain": [
       "<matplotlib.legend.Legend at 0x7fbd785d75f8>"
      ]
     },
     "execution_count": 27,
     "metadata": {},
     "output_type": "execute_result"
    },
    {
     "data": {
      "image/png": "[encoded data removed]",
      "text/plain": [
       "<matplotlib.figure.Figure at 0x7fbd786a4470>"
      ]
     },
     "metadata": {},
     "output_type": "display_data"
    }
   ],
   "source": [
    "plt.plot(results_conv.history['loss'])\n",
    "plt.plot(results_conv.history['val_loss'])\n",
    "plt.plot(results_conv.history['acc'])\n",
    "plt.plot(results_conv.history['val_acc'])\n",
    "plt.legend(['loss','val_loss','acc','val_acc'])"
   ]
  },
  {
   "cell_type": "code",
   "execution_count": 28,
   "metadata": {},
   "outputs": [
    {
     "data": {
      "text/plain": [
       "[1.0903804883003234, 0.62970000000000004]"
      ]
     },
     "execution_count": 28,
     "metadata": {},
     "output_type": "execute_result"
    }
   ],
   "source": [
    "scores"
   ]
  },
  {
   "cell_type": "code",
   "execution_count": 30,
   "metadata": {
    "scrolled": false
   },
   "outputs": [
    {
     "name": "stdout",
     "output_type": "stream",
     "text": [
      "Train on 49000 samples, validate on 1000 samples\n",
      "Epoch 1/50\n",
      "49000/49000 [==============================] - 8s 163us/step - loss: 1.9089 - acc: 0.3030 - val_loss: 1.5670 - val_acc: 0.4400\n",
      "Epoch 2/50\n",
      "49000/49000 [==============================] - 8s 154us/step - loss: 1.6095 - acc: 0.4204 - val_loss: 1.4229 - val_acc: 0.4720\n",
      "Epoch 3/50\n",
      "49000/49000 [==============================] - 8s 154us/step - loss: 1.4923 - acc: 0.4666 - val_loss: 1.3053 - val_acc: 0.5380\n",
      "Epoch 4/50\n",
      "49000/49000 [==============================] - 8s 154us/step - loss: 1.4165 - acc: 0.4943 - val_loss: 1.2655 - val_acc: 0.5560\n",
      "Epoch 5/50\n",
      "49000/49000 [==============================] - 8s 154us/step - loss: 1.3518 - acc: 0.5188 - val_loss: 1.1907 - val_acc: 0.5630\n",
      "Epoch 6/50\n",
      "49000/49000 [==============================] - 8s 154us/step - loss: 1.2895 - acc: 0.5411 - val_loss: 1.1964 - val_acc: 0.5650\n",
      "Epoch 7/50\n",
      "49000/49000 [==============================] - 8s 154us/step - loss: 1.2513 - acc: 0.5552 - val_loss: 1.1080 - val_acc: 0.6050\n",
      "Epoch 8/50\n",
      "49000/49000 [==============================] - 8s 154us/step - loss: 1.2069 - acc: 0.5715 - val_loss: 1.1229 - val_acc: 0.5960\n",
      "Epoch 9/50\n",
      "49000/49000 [==============================] - 8s 154us/step - loss: 1.1812 - acc: 0.5799 - val_loss: 1.0603 - val_acc: 0.6250\n",
      "Epoch 10/50\n",
      "49000/49000 [==============================] - 8s 154us/step - loss: 1.1370 - acc: 0.5981 - val_loss: 1.0281 - val_acc: 0.6360\n",
      "Epoch 11/50\n",
      "49000/49000 [==============================] - 8s 154us/step - loss: 1.1078 - acc: 0.6090 - val_loss: 1.0106 - val_acc: 0.6440\n",
      "Epoch 12/50\n",
      "49000/49000 [==============================] - 8s 154us/step - loss: 1.0852 - acc: 0.6176 - val_loss: 0.9925 - val_acc: 0.6530\n",
      "Epoch 13/50\n",
      "49000/49000 [==============================] - 8s 154us/step - loss: 1.0636 - acc: 0.6248 - val_loss: 0.9841 - val_acc: 0.6540\n",
      "Epoch 14/50\n",
      "49000/49000 [==============================] - 8s 154us/step - loss: 1.0384 - acc: 0.6316 - val_loss: 0.9871 - val_acc: 0.6550\n",
      "Epoch 15/50\n",
      "49000/49000 [==============================] - 8s 155us/step - loss: 1.0200 - acc: 0.6409 - val_loss: 0.9821 - val_acc: 0.6500\n",
      "Epoch 16/50\n",
      "49000/49000 [==============================] - 8s 155us/step - loss: 1.0100 - acc: 0.6449 - val_loss: 0.9689 - val_acc: 0.6610\n",
      "Epoch 17/50\n",
      "49000/49000 [==============================] - 8s 155us/step - loss: 0.9858 - acc: 0.6509 - val_loss: 0.9634 - val_acc: 0.6800\n",
      "Epoch 18/50\n",
      "49000/49000 [==============================] - 8s 155us/step - loss: 0.9676 - acc: 0.6565 - val_loss: 0.9400 - val_acc: 0.6740\n",
      "Epoch 19/50\n",
      "49000/49000 [==============================] - 8s 155us/step - loss: 0.9434 - acc: 0.6659 - val_loss: 0.9389 - val_acc: 0.6700\n",
      "Epoch 20/50\n",
      "49000/49000 [==============================] - 8s 155us/step - loss: 0.9282 - acc: 0.6710 - val_loss: 0.9365 - val_acc: 0.6620\n",
      "Epoch 21/50\n",
      "49000/49000 [==============================] - 8s 155us/step - loss: 0.9160 - acc: 0.6747 - val_loss: 0.9272 - val_acc: 0.6750\n",
      "Epoch 22/50\n",
      "49000/49000 [==============================] - 8s 154us/step - loss: 0.9013 - acc: 0.6783 - val_loss: 0.9053 - val_acc: 0.6810\n",
      "Epoch 23/50\n",
      "49000/49000 [==============================] - 8s 153us/step - loss: 0.8870 - acc: 0.6861 - val_loss: 0.9233 - val_acc: 0.6750\n",
      "Epoch 24/50\n",
      "49000/49000 [==============================] - 8s 153us/step - loss: 0.8810 - acc: 0.6863 - val_loss: 0.9106 - val_acc: 0.6930\n",
      "Epoch 25/50\n",
      "49000/49000 [==============================] - 8s 153us/step - loss: 0.8676 - acc: 0.6932 - val_loss: 0.9011 - val_acc: 0.6860\n",
      "Epoch 26/50\n",
      "49000/49000 [==============================] - 8s 153us/step - loss: 0.8513 - acc: 0.6988 - val_loss: 0.9037 - val_acc: 0.6890\n",
      "Epoch 27/50\n",
      "49000/49000 [==============================] - 8s 153us/step - loss: 0.8366 - acc: 0.7055 - val_loss: 0.8977 - val_acc: 0.6910\n",
      "Epoch 28/50\n",
      "49000/49000 [==============================] - 8s 153us/step - loss: 0.8250 - acc: 0.7058 - val_loss: 0.8883 - val_acc: 0.6980\n",
      "Epoch 29/50\n",
      "49000/49000 [==============================] - 8s 153us/step - loss: 0.8088 - acc: 0.7117 - val_loss: 0.8812 - val_acc: 0.6880\n",
      "Epoch 30/50\n",
      "49000/49000 [==============================] - 8s 153us/step - loss: 0.8042 - acc: 0.7110 - val_loss: 0.9054 - val_acc: 0.6800\n",
      "Epoch 31/50\n",
      "49000/49000 [==============================] - 8s 153us/step - loss: 0.7989 - acc: 0.7169 - val_loss: 0.8871 - val_acc: 0.6810\n",
      "Epoch 32/50\n",
      "49000/49000 [==============================] - 8s 153us/step - loss: 0.7821 - acc: 0.7186 - val_loss: 0.8787 - val_acc: 0.7010\n",
      "Epoch 33/50\n",
      "49000/49000 [==============================] - 8s 153us/step - loss: 0.7656 - acc: 0.7270 - val_loss: 0.8927 - val_acc: 0.6910\n",
      "Epoch 34/50\n",
      "49000/49000 [==============================] - 8s 153us/step - loss: 0.7608 - acc: 0.7280 - val_loss: 0.8891 - val_acc: 0.7070\n",
      "Epoch 35/50\n",
      "49000/49000 [==============================] - 8s 153us/step - loss: 0.7541 - acc: 0.7321 - val_loss: 0.8870 - val_acc: 0.6890\n",
      "Epoch 36/50\n",
      "49000/49000 [==============================] - 8s 153us/step - loss: 0.7470 - acc: 0.7311 - val_loss: 0.8709 - val_acc: 0.6990\n",
      "Epoch 37/50\n",
      "49000/49000 [==============================] - 8s 153us/step - loss: 0.7326 - acc: 0.7384 - val_loss: 0.8745 - val_acc: 0.6920\n",
      "Epoch 38/50\n",
      "49000/49000 [==============================] - 8s 153us/step - loss: 0.7234 - acc: 0.7402 - val_loss: 0.9085 - val_acc: 0.6970\n",
      "Epoch 39/50\n",
      "49000/49000 [==============================] - 8s 153us/step - loss: 0.7167 - acc: 0.7443 - val_loss: 0.8821 - val_acc: 0.6940\n",
      "Epoch 40/50\n",
      "49000/49000 [==============================] - 8s 153us/step - loss: 0.7062 - acc: 0.7447 - val_loss: 0.8831 - val_acc: 0.6920\n",
      "Epoch 41/50\n",
      "49000/49000 [==============================] - 8s 153us/step - loss: 0.7025 - acc: 0.7494 - val_loss: 0.8779 - val_acc: 0.6950\n",
      "Epoch 42/50\n",
      "49000/49000 [==============================] - 8s 154us/step - loss: 0.6937 - acc: 0.7491 - val_loss: 0.8961 - val_acc: 0.7010\n",
      "Epoch 43/50\n",
      "49000/49000 [==============================] - 8s 154us/step - loss: 0.6856 - acc: 0.7546 - val_loss: 0.9078 - val_acc: 0.6930\n",
      "Epoch 44/50\n",
      "49000/49000 [==============================] - 8s 153us/step - loss: 0.6853 - acc: 0.7574 - val_loss: 0.8896 - val_acc: 0.7010\n",
      "Epoch 45/50\n",
      "49000/49000 [==============================] - 8s 153us/step - loss: 0.6720 - acc: 0.7564 - val_loss: 0.8894 - val_acc: 0.7000\n",
      "Epoch 46/50\n",
      "49000/49000 [==============================] - 8s 153us/step - loss: 0.6699 - acc: 0.7586 - val_loss: 0.8827 - val_acc: 0.7020\n",
      "Epoch 47/50\n",
      "49000/49000 [==============================] - 8s 153us/step - loss: 0.6653 - acc: 0.7607 - val_loss: 0.9178 - val_acc: 0.6980\n",
      "Epoch 48/50\n",
      "49000/49000 [==============================] - 8s 154us/step - loss: 0.6531 - acc: 0.7653 - val_loss: 0.8967 - val_acc: 0.6960\n",
      "Epoch 49/50\n",
      "49000/49000 [==============================] - 8s 154us/step - loss: 0.6478 - acc: 0.7658 - val_loss: 0.8941 - val_acc: 0.7000\n",
      "Epoch 50/50\n",
      "49000/49000 [==============================] - 8s 154us/step - loss: 0.6434 - acc: 0.7678 - val_loss: 0.9059 - val_acc: 0.7060\n"
     ]
    },
    {
     "data": {
      "text/plain": [
       "[<matplotlib.lines.Line2D at 0x7fbd5c9f2b38>]"
      ]
     },
     "execution_count": 30,
     "metadata": {},
     "output_type": "execute_result"
    },
    {
     "name": "stdout",
     "output_type": "stream",
     "text": [
      "10000/10000 [==============================] - 1s 116us/step\n"
     ]
    },
    {
     "data": {
      "text/plain": [
       "[0.95360311174392698, 0.68840000000000001]"
      ]
     },
     "execution_count": 30,
     "metadata": {},
     "output_type": "execute_result"
    },
    {
     "name": "stdout",
     "output_type": "stream",
     "text": [
      "Convolution Error with 2 hidden layers: 31.16%\n"
     ]
    },
    {
     "data": {
      "image/png": "[encoded data removed]",
      "text/plain": [
       "<matplotlib.figure.Figure at 0x7fbd5d1beef0>"
      ]
     },
     "metadata": {},
     "output_type": "display_data"
    }
   ],
   "source": [
    "from keras.models import Sequential\n",
    "from keras.layers import Dense\n",
    "from keras.layers import Dropout\n",
    "from keras.layers import Flatten\n",
    "from keras.layers.convolutional import Conv2D\n",
    "from keras.layers.convolutional import MaxPooling2D\n",
    "import keras.utils \n",
    "from keras.optimizers import Adam\n",
    "\n",
    "def convolution3_model():\n",
    "    # create model\n",
    "    model = Sequential()\n",
    "    model.add(Conv2D(32, (3, 3), input_shape=(32, 32, 3), activation='relu'))\n",
    "    model.add(Conv2D(32, (3, 3), activation='relu'))\n",
    "    model.add(MaxPooling2D(pool_size=(2, 2)))\n",
    "    model.add(Dropout(0.25))\n",
    "    model.add(Conv2D(64, (3, 3), activation='relu'))\n",
    "    model.add(Conv2D(64, (3, 3), activation='relu'))\n",
    "    model.add(MaxPooling2D(pool_size=(2, 2)))\n",
    "    model.add(Dropout(0.25))\n",
    "    model.add(Flatten())\n",
    "    model.add(Dense(512, activation='relu'))\n",
    "    model.add(Dropout(0.5))\n",
    "    model.add(Dense(10, activation='softmax'))\n",
    "    # Compile model\n",
    "    Adam = keras.optimizers.Adam()\n",
    "    model.compile(loss='categorical_crossentropy', optimizer=Adam, metrics=['accuracy'])\n",
    "    return model\n",
    "\n",
    "# build the model\n",
    "model3 = convolution3_model()\n",
    "# Fit the model\n",
    "results3 = model3.fit(X_train, y_train, validation_split=0.02, epochs=50, batch_size=500, verbose=1)\n",
    "plt.plot(results3.history['loss'])\n",
    "# Final evaluation of the model\n",
    "scores = model3.evaluate(X_test, y_test, verbose=1)\n",
    "scores\n",
    "print(\"Convolution Error with 2 hidden layers: %.2f%%\" % (100-scores[1]*100))"
   ]
  },
  {
   "cell_type": "code",
   "execution_count": 31,
   "metadata": {},
   "outputs": [
    {
     "data": {
      "text/plain": [
       "[<matplotlib.lines.Line2D at 0x7fbd5ca10668>]"
      ]
     },
     "execution_count": 31,
     "metadata": {},
     "output_type": "execute_result"
    },
    {
     "data": {
      "text/plain": [
       "[<matplotlib.lines.Line2D at 0x7fbd787f1b38>]"
      ]
     },
     "execution_count": 31,
     "metadata": {},
     "output_type": "execute_result"
    },
    {
     "data": {
      "text/plain": [
       "[<matplotlib.lines.Line2D at 0x7fbd5ca10b00>]"
      ]
     },
     "execution_count": 31,
     "metadata": {},
     "output_type": "execute_result"
    },
    {
     "data": {
      "text/plain": [
       "[<matplotlib.lines.Line2D at 0x7fbd5ca10c88>]"
      ]
     },
     "execution_count": 31,
     "metadata": {},
     "output_type": "execute_result"
    },
    {
     "data": {
      "text/plain": [
       "<matplotlib.legend.Legend at 0x7fbd5c9fd898>"
      ]
     },
     "execution_count": 31,
     "metadata": {},
     "output_type": "execute_result"
    },
    {
     "data": {
      "text/plain": [
       "[0.95360311174392698, 0.68840000000000001]"
      ]
     },
     "execution_count": 31,
     "metadata": {},
     "output_type": "execute_result"
    },
    {
     "data": {
      "image/png": "[encoded data removed]",
      "text/plain": [
       "<matplotlib.figure.Figure at 0x7fbd787f1860>"
      ]
     },
     "metadata": {},
     "output_type": "display_data"
    }
   ],
   "source": [
    "plt.plot(results3.history['loss'])\n",
    "plt.plot(results3.history['val_loss'])\n",
    "plt.plot(results3.history['acc'])\n",
    "plt.plot(results3.history['val_acc'])\n",
    "plt.legend(['loss','val_loss','acc','val_acc'])\n",
    "scores"
   ]
  },
  {
   "cell_type": "code",
   "execution_count": 32,
   "metadata": {},
   "outputs": [
    {
     "name": "stdout",
     "output_type": "stream",
     "text": [
      "Train on 49000 samples, validate on 1000 samples\n",
      "Epoch 1/50\n",
      "49000/49000 [==============================] - 9s 182us/step - loss: 2.2331 - acc: 0.1664 - val_loss: 2.0824 - val_acc: 0.2960\n",
      "Epoch 2/50\n",
      "49000/49000 [==============================] - 8s 163us/step - loss: 2.0195 - acc: 0.2409 - val_loss: 1.8551 - val_acc: 0.3920\n",
      "Epoch 3/50\n",
      "49000/49000 [==============================] - 8s 163us/step - loss: 1.8979 - acc: 0.2821 - val_loss: 1.7103 - val_acc: 0.4330\n",
      "Epoch 4/50\n",
      "49000/49000 [==============================] - 8s 163us/step - loss: 1.8279 - acc: 0.3086 - val_loss: 1.6332 - val_acc: 0.4440\n",
      "Epoch 5/50\n",
      "49000/49000 [==============================] - 8s 163us/step - loss: 1.7734 - acc: 0.3314 - val_loss: 1.5327 - val_acc: 0.4840\n",
      "Epoch 6/50\n",
      "49000/49000 [==============================] - 8s 163us/step - loss: 1.7430 - acc: 0.3372 - val_loss: 1.5169 - val_acc: 0.4960\n",
      "Epoch 7/50\n",
      "49000/49000 [==============================] - 8s 164us/step - loss: 1.7234 - acc: 0.3460 - val_loss: 1.4717 - val_acc: 0.5150\n",
      "Epoch 8/50\n",
      "49000/49000 [==============================] - 8s 164us/step - loss: 1.6929 - acc: 0.3551 - val_loss: 1.4490 - val_acc: 0.5240\n",
      "Epoch 9/50\n",
      "49000/49000 [==============================] - 8s 164us/step - loss: 1.6740 - acc: 0.3650 - val_loss: 1.4145 - val_acc: 0.5240\n",
      "Epoch 10/50\n",
      "49000/49000 [==============================] - 8s 164us/step - loss: 1.6642 - acc: 0.3697 - val_loss: 1.4042 - val_acc: 0.5380\n",
      "Epoch 11/50\n",
      "49000/49000 [==============================] - 8s 167us/step - loss: 1.6411 - acc: 0.3747 - val_loss: 1.3903 - val_acc: 0.5500\n",
      "Epoch 12/50\n",
      "49000/49000 [==============================] - 8s 169us/step - loss: 1.6253 - acc: 0.3793 - val_loss: 1.3570 - val_acc: 0.5550\n",
      "Epoch 13/50\n",
      "49000/49000 [==============================] - 8s 165us/step - loss: 1.6130 - acc: 0.3868 - val_loss: 1.3478 - val_acc: 0.5620\n",
      "Epoch 14/50\n",
      "49000/49000 [==============================] - 8s 164us/step - loss: 1.6109 - acc: 0.3891 - val_loss: 1.3239 - val_acc: 0.5630\n",
      "Epoch 15/50\n",
      "49000/49000 [==============================] - 8s 164us/step - loss: 1.6027 - acc: 0.3919 - val_loss: 1.3532 - val_acc: 0.5540\n",
      "Epoch 16/50\n",
      "49000/49000 [==============================] - 8s 164us/step - loss: 1.5913 - acc: 0.3979 - val_loss: 1.3350 - val_acc: 0.5630\n",
      "Epoch 17/50\n",
      "49000/49000 [==============================] - 8s 164us/step - loss: 1.5820 - acc: 0.3980 - val_loss: 1.3069 - val_acc: 0.5750\n",
      "Epoch 18/50\n",
      "49000/49000 [==============================] - 8s 164us/step - loss: 1.5771 - acc: 0.4000 - val_loss: 1.2893 - val_acc: 0.5810\n",
      "Epoch 19/50\n",
      "49000/49000 [==============================] - 8s 164us/step - loss: 1.5702 - acc: 0.4038 - val_loss: 1.2886 - val_acc: 0.5690\n",
      "Epoch 20/50\n",
      "49000/49000 [==============================] - 8s 164us/step - loss: 1.5546 - acc: 0.4104 - val_loss: 1.2731 - val_acc: 0.5890\n",
      "Epoch 21/50\n",
      "49000/49000 [==============================] - 8s 163us/step - loss: 1.5544 - acc: 0.4095 - val_loss: 1.2659 - val_acc: 0.6030\n",
      "Epoch 22/50\n",
      "49000/49000 [==============================] - 8s 163us/step - loss: 1.5436 - acc: 0.4156 - val_loss: 1.2721 - val_acc: 0.6060\n",
      "Epoch 23/50\n",
      "49000/49000 [==============================] - 8s 163us/step - loss: 1.5399 - acc: 0.4152 - val_loss: 1.2687 - val_acc: 0.5910\n",
      "Epoch 24/50\n",
      "49000/49000 [==============================] - 8s 163us/step - loss: 1.5376 - acc: 0.4164 - val_loss: 1.2608 - val_acc: 0.5960\n",
      "Epoch 25/50\n",
      "49000/49000 [==============================] - 8s 163us/step - loss: 1.5263 - acc: 0.4191 - val_loss: 1.2335 - val_acc: 0.6140\n",
      "Epoch 26/50\n",
      "49000/49000 [==============================] - 8s 163us/step - loss: 1.5220 - acc: 0.4231 - val_loss: 1.2404 - val_acc: 0.6000\n",
      "Epoch 27/50\n",
      "49000/49000 [==============================] - 8s 167us/step - loss: 1.5168 - acc: 0.4268 - val_loss: 1.2188 - val_acc: 0.6110\n",
      "Epoch 28/50\n",
      "49000/49000 [==============================] - 8s 167us/step - loss: 1.5002 - acc: 0.4312 - val_loss: 1.2344 - val_acc: 0.6070\n",
      "Epoch 29/50\n",
      "49000/49000 [==============================] - 8s 164us/step - loss: 1.5047 - acc: 0.4273 - val_loss: 1.2417 - val_acc: 0.5990\n",
      "Epoch 30/50\n",
      "49000/49000 [==============================] - 8s 163us/step - loss: 1.4983 - acc: 0.4300 - val_loss: 1.2186 - val_acc: 0.6150\n",
      "Epoch 31/50\n",
      "49000/49000 [==============================] - 8s 168us/step - loss: 1.4999 - acc: 0.4313 - val_loss: 1.2006 - val_acc: 0.6280\n",
      "Epoch 32/50\n",
      "49000/49000 [==============================] - 8s 169us/step - loss: 1.4930 - acc: 0.4341 - val_loss: 1.2216 - val_acc: 0.6200\n",
      "Epoch 33/50\n",
      "49000/49000 [==============================] - 8s 164us/step - loss: 1.4831 - acc: 0.4356 - val_loss: 1.1850 - val_acc: 0.6120\n",
      "Epoch 34/50\n",
      "49000/49000 [==============================] - 8s 164us/step - loss: 1.4751 - acc: 0.4379 - val_loss: 1.1833 - val_acc: 0.6310\n",
      "Epoch 35/50\n",
      "49000/49000 [==============================] - 8s 163us/step - loss: 1.4759 - acc: 0.4391 - val_loss: 1.1929 - val_acc: 0.6190\n",
      "Epoch 36/50\n",
      "49000/49000 [==============================] - 8s 163us/step - loss: 1.4743 - acc: 0.4397 - val_loss: 1.1799 - val_acc: 0.6300\n",
      "Epoch 37/50\n",
      "49000/49000 [==============================] - 8s 163us/step - loss: 1.4625 - acc: 0.4426 - val_loss: 1.1650 - val_acc: 0.6320\n",
      "Epoch 38/50\n",
      "49000/49000 [==============================] - 8s 163us/step - loss: 1.4495 - acc: 0.4529 - val_loss: 1.1732 - val_acc: 0.6410\n",
      "Epoch 39/50\n",
      "49000/49000 [==============================] - 8s 163us/step - loss: 1.4446 - acc: 0.4561 - val_loss: 1.1519 - val_acc: 0.6330\n",
      "Epoch 40/50\n",
      "49000/49000 [==============================] - 8s 163us/step - loss: 1.4394 - acc: 0.4574 - val_loss: 1.1317 - val_acc: 0.6370\n",
      "Epoch 41/50\n",
      "49000/49000 [==============================] - 8s 163us/step - loss: 1.4360 - acc: 0.4597 - val_loss: 1.1396 - val_acc: 0.6420\n",
      "Epoch 42/50\n",
      "49000/49000 [==============================] - 8s 163us/step - loss: 1.4172 - acc: 0.4662 - val_loss: 1.1136 - val_acc: 0.6300\n",
      "Epoch 43/50\n",
      "49000/49000 [==============================] - 8s 163us/step - loss: 1.4078 - acc: 0.4717 - val_loss: 1.1329 - val_acc: 0.6390\n",
      "Epoch 44/50\n",
      "49000/49000 [==============================] - 8s 163us/step - loss: 1.3925 - acc: 0.4779 - val_loss: 1.1218 - val_acc: 0.6420\n",
      "Epoch 45/50\n",
      "49000/49000 [==============================] - 8s 163us/step - loss: 1.3822 - acc: 0.4829 - val_loss: 1.1074 - val_acc: 0.6350\n",
      "Epoch 46/50\n",
      "49000/49000 [==============================] - 8s 163us/step - loss: 1.3734 - acc: 0.4840 - val_loss: 1.0930 - val_acc: 0.6500\n",
      "Epoch 47/50\n",
      "49000/49000 [==============================] - 8s 163us/step - loss: 1.3727 - acc: 0.4867 - val_loss: 1.0900 - val_acc: 0.6530\n",
      "Epoch 48/50\n",
      "49000/49000 [==============================] - 8s 163us/step - loss: 1.3677 - acc: 0.4887 - val_loss: 1.0863 - val_acc: 0.6500\n",
      "Epoch 49/50\n",
      "49000/49000 [==============================] - 8s 163us/step - loss: 1.3668 - acc: 0.4878 - val_loss: 1.0817 - val_acc: 0.6510\n",
      "Epoch 50/50\n",
      "49000/49000 [==============================] - 8s 163us/step - loss: 1.3536 - acc: 0.4938 - val_loss: 1.0703 - val_acc: 0.6650\n"
     ]
    },
    {
     "data": {
      "text/plain": [
       "[<matplotlib.lines.Line2D at 0x7fbd5c2fc4e0>]"
      ]
     },
     "execution_count": 32,
     "metadata": {},
     "output_type": "execute_result"
    },
    {
     "name": "stdout",
     "output_type": "stream",
     "text": [
      "10000/10000 [==============================] - 1s 134us/step\n"
     ]
    },
    {
     "data": {
      "text/plain": [
       "[1.122375894165039, 0.62419999999999998]"
      ]
     },
     "execution_count": 32,
     "metadata": {},
     "output_type": "execute_result"
    },
    {
     "name": "stdout",
     "output_type": "stream",
     "text": [
      "Convolution Error with 2 hidden layers: 37.58%\n"
     ]
    },
    {
     "data": {
      "image/png": "[encoded data removed]",
      "text/plain": [
       "<matplotlib.figure.Figure at 0x7fbd5c88f9b0>"
      ]
     },
     "metadata": {},
     "output_type": "display_data"
    }
   ],
   "source": [
    "from keras.models import Sequential\n",
    "from keras.layers import Dense, Activation, Dropout, Flatten\n",
    "from keras.layers.convolutional import Conv2D, MaxPooling2D\n",
    "import keras.utils \n",
    "from keras.optimizers import Adam\n",
    "\n",
    "def convolution3a_model():\n",
    "    # create model\n",
    "    model = Sequential()\n",
    "    model.add(Conv2D(32, (3, 3), input_shape=(32, 32, 3), activation='relu'))\n",
    "    model.add(Dropout(0.4))\n",
    "    model.add(Conv2D(64, (3, 3), activation='relu'))\n",
    "    model.add(MaxPooling2D(pool_size=(2, 2)))\n",
    "    model.add(Dropout(0.4))\n",
    "    model.add(Flatten())\n",
    "    model.add(Dense(128, activation='relu'))\n",
    "    model.add(Dropout(0.5))\n",
    "    model.add(Dense(10, activation='softmax'))\n",
    "    # Compile model\n",
    "    Adam = keras.optimizers.Adam()\n",
    "    model.compile(loss='categorical_crossentropy', optimizer=Adam, metrics=['accuracy'])\n",
    "    return model\n",
    "\n",
    "# build the model\n",
    "model3a = convolution3a_model()\n",
    "# Fit the model\n",
    "results3a = model3a.fit(X_train, y_train, validation_split=0.02, epochs=50, batch_size=1000, verbose=1)\n",
    "plt.plot(results3a.history['loss'])\n",
    "# Final evaluation of the model\n",
    "scores = model3a.evaluate(X_test, y_test, verbose=1)\n",
    "scores\n",
    "print(\"Convolution Error with 2 hidden layers: %.2f%%\" % (100-scores[1]*100))"
   ]
  },
  {
   "cell_type": "code",
   "execution_count": 33,
   "metadata": {},
   "outputs": [
    {
     "data": {
      "text/plain": [
       "[<matplotlib.lines.Line2D at 0x7fbd5c2cf6a0>]"
      ]
     },
     "execution_count": 33,
     "metadata": {},
     "output_type": "execute_result"
    },
    {
     "data": {
      "text/plain": [
       "[<matplotlib.lines.Line2D at 0x7fbd5ca5f7b8>]"
      ]
     },
     "execution_count": 33,
     "metadata": {},
     "output_type": "execute_result"
    },
    {
     "data": {
      "text/plain": [
       "[<matplotlib.lines.Line2D at 0x7fbd5c2cfb38>]"
      ]
     },
     "execution_count": 33,
     "metadata": {},
     "output_type": "execute_result"
    },
    {
     "data": {
      "text/plain": [
       "[<matplotlib.lines.Line2D at 0x7fbd5c2db048>]"
      ]
     },
     "execution_count": 33,
     "metadata": {},
     "output_type": "execute_result"
    },
    {
     "data": {
      "text/plain": [
       "<matplotlib.legend.Legend at 0x7fbd5c2db470>"
      ]
     },
     "execution_count": 33,
     "metadata": {},
     "output_type": "execute_result"
    },
    {
     "data": {
      "text/plain": [
       "[1.122375894165039, 0.62419999999999998]"
      ]
     },
     "execution_count": 33,
     "metadata": {},
     "output_type": "execute_result"
    },
    {
     "data": {
      "image/png": "[encoded data removed]",
      "text/plain": [
       "<matplotlib.figure.Figure at 0x7fbd5c9fe668>"
      ]
     },
     "metadata": {},
     "output_type": "display_data"
    }
   ],
   "source": [
    "plt.plot(results3a.history['loss'])\n",
    "plt.plot(results3a.history['val_loss'])\n",
    "plt.plot(results3a.history['acc'])\n",
    "plt.plot(results3a.history['val_acc'])\n",
    "plt.legend(['loss','val_loss','acc','val_acc'])\n",
    "scores"
   ]
  },
  {
   "cell_type": "code",
   "execution_count": 34,
   "metadata": {},
   "outputs": [
    {
     "name": "stdout",
     "output_type": "stream",
     "text": [
      "_________________________________________________________________\n",
      "Layer (type)                 Output Shape              Param #   \n",
      "=================================================================\n",
      "conv2d_15 (Conv2D)           (None, 32, 32, 32)        896       \n",
      "_________________________________________________________________\n",
      "conv2d_16 (Conv2D)           (None, 30, 30, 32)        9248      \n",
      "_________________________________________________________________\n",
      "dropout_12 (Dropout)         (None, 30, 30, 32)        0         \n",
      "_________________________________________________________________\n",
      "max_pooling2d_10 (MaxPooling (None, 15, 15, 32)        0         \n",
      "_________________________________________________________________\n",
      "conv2d_17 (Conv2D)           (None, 15, 15, 64)        18496     \n",
      "_________________________________________________________________\n",
      "conv2d_18 (Conv2D)           (None, 15, 15, 64)        36928     \n",
      "_________________________________________________________________\n",
      "dropout_13 (Dropout)         (None, 15, 15, 64)        0         \n",
      "_________________________________________________________________\n",
      "max_pooling2d_11 (MaxPooling (None, 7, 7, 64)          0         \n",
      "_________________________________________________________________\n",
      "conv2d_19 (Conv2D)           (None, 7, 7, 128)         73856     \n",
      "_________________________________________________________________\n",
      "conv2d_20 (Conv2D)           (None, 7, 7, 256)         295168    \n",
      "_________________________________________________________________\n",
      "dropout_14 (Dropout)         (None, 7, 7, 256)         0         \n",
      "_________________________________________________________________\n",
      "max_pooling2d_12 (MaxPooling (None, 3, 3, 256)         0         \n",
      "_________________________________________________________________\n",
      "flatten_6 (Flatten)          (None, 2304)              0         \n",
      "_________________________________________________________________\n",
      "dense_11 (Dense)             (None, 512)               1180160   \n",
      "_________________________________________________________________\n",
      "dense_12 (Dense)             (None, 10)                5130      \n",
      "=================================================================\n",
      "Total params: 1,619,882\n",
      "Trainable params: 1,619,882\n",
      "Non-trainable params: 0\n",
      "_________________________________________________________________\n"
     ]
    }
   ],
   "source": [
    "from keras.models import Sequential\n",
    "from keras.layers import Dense, Activation, Dropout, Flatten\n",
    "from keras.layers.convolutional import Conv2D, MaxPooling2D\n",
    "import keras.utils \n",
    "from keras.optimizers import Adam\n",
    "\n",
    "def convolution3b_model():\n",
    "    # create model\n",
    "    model = Sequential()\n",
    "    model.add(Conv2D(32, (3, 3), input_shape=(32, 32, 3), activation='relu', padding='same'))\n",
    "    model.add(Conv2D(32, (3, 3), activation='relu'))\n",
    "    model.add(Dropout(0.25))\n",
    "    model.add(MaxPooling2D(pool_size=(2, 2)))\n",
    "    \n",
    "    model.add(Conv2D(64, (3, 3), activation='relu', padding='same'))\n",
    "    model.add(Conv2D(64, (3, 3), activation='relu', padding='same'))\n",
    "    model.add(Dropout(0.4))\n",
    "    model.add(MaxPooling2D(pool_size=(2, 2)))\n",
    "    \n",
    "    model.add(Conv2D(128, (3, 3), activation='relu', padding='same'))\n",
    "    model.add(Conv2D(256, (3, 3), activation='relu', padding='same'))\n",
    "    model.add(Dropout(0.5))\n",
    "    model.add(MaxPooling2D(pool_size=(2, 2)))\n",
    "    \n",
    "    model.add(Flatten())\n",
    "    model.add(Dense(512, activation='relu'))\n",
    "    model.add(Dense(10, activation='softmax'))\n",
    "    # Compile model\n",
    "    model.compile(loss='categorical_crossentropy', optimizer='Adam', metrics=['accuracy'])\n",
    "    model.summary()\n",
    "    return model\n",
    "\n",
    "# build the model\n",
    "model3b = convolution3b_model()"
   ]
  },
  {
   "cell_type": "code",
   "execution_count": 35,
   "metadata": {},
   "outputs": [
    {
     "name": "stdout",
     "output_type": "stream",
     "text": [
      "Train on 49000 samples, validate on 1000 samples\n",
      "Epoch 1/50\n",
      "49000/49000 [==============================] - 16s 320us/step - loss: 1.9258 - acc: 0.2887 - val_loss: 1.9013 - val_acc: 0.3890\n",
      "Epoch 2/50\n",
      "49000/49000 [==============================] - 14s 292us/step - loss: 1.5948 - acc: 0.4187 - val_loss: 1.8196 - val_acc: 0.3970\n",
      "Epoch 3/50\n",
      "49000/49000 [==============================] - 14s 292us/step - loss: 1.4710 - acc: 0.4660 - val_loss: 1.5908 - val_acc: 0.4890\n",
      "Epoch 4/50\n",
      "49000/49000 [==============================] - 14s 292us/step - loss: 1.3633 - acc: 0.5088 - val_loss: 1.6126 - val_acc: 0.4670\n",
      "Epoch 5/50\n",
      "49000/49000 [==============================] - 14s 292us/step - loss: 1.2759 - acc: 0.5443 - val_loss: 1.4435 - val_acc: 0.5320\n",
      "Epoch 6/50\n",
      "49000/49000 [==============================] - 14s 292us/step - loss: 1.2139 - acc: 0.5678 - val_loss: 1.4661 - val_acc: 0.5250\n",
      "Epoch 7/50\n",
      "49000/49000 [==============================] - 14s 292us/step - loss: 1.1614 - acc: 0.5851 - val_loss: 1.3413 - val_acc: 0.5720\n",
      "Epoch 8/50\n",
      "49000/49000 [==============================] - 14s 292us/step - loss: 1.1072 - acc: 0.6051 - val_loss: 1.3506 - val_acc: 0.5350\n",
      "Epoch 9/50\n",
      "49000/49000 [==============================] - 14s 292us/step - loss: 1.0806 - acc: 0.6118 - val_loss: 1.1991 - val_acc: 0.6190\n",
      "Epoch 10/50\n",
      "49000/49000 [==============================] - 14s 292us/step - loss: 1.0315 - acc: 0.6337 - val_loss: 1.2015 - val_acc: 0.6240\n",
      "Epoch 11/50\n",
      "49000/49000 [==============================] - 14s 292us/step - loss: 0.9951 - acc: 0.6452 - val_loss: 1.2066 - val_acc: 0.6140\n",
      "Epoch 12/50\n",
      "49000/49000 [==============================] - 14s 292us/step - loss: 0.9648 - acc: 0.6598 - val_loss: 1.1390 - val_acc: 0.6280\n",
      "Epoch 13/50\n",
      "49000/49000 [==============================] - 14s 292us/step - loss: 0.9315 - acc: 0.6679 - val_loss: 1.2061 - val_acc: 0.6100\n",
      "Epoch 14/50\n",
      "49000/49000 [==============================] - 14s 292us/step - loss: 0.9148 - acc: 0.6741 - val_loss: 1.1357 - val_acc: 0.6260\n",
      "Epoch 15/50\n",
      "49000/49000 [==============================] - 14s 292us/step - loss: 0.8804 - acc: 0.6867 - val_loss: 1.1293 - val_acc: 0.6220\n",
      "Epoch 16/50\n",
      "49000/49000 [==============================] - 14s 292us/step - loss: 0.8529 - acc: 0.6964 - val_loss: 1.1134 - val_acc: 0.6250\n",
      "Epoch 17/50\n",
      "49000/49000 [==============================] - 14s 293us/step - loss: 0.8279 - acc: 0.7056 - val_loss: 1.0412 - val_acc: 0.6440\n",
      "Epoch 18/50\n",
      "49000/49000 [==============================] - 14s 292us/step - loss: 0.8080 - acc: 0.7114 - val_loss: 1.0692 - val_acc: 0.6480\n",
      "Epoch 19/50\n",
      "49000/49000 [==============================] - 14s 292us/step - loss: 0.7908 - acc: 0.7176 - val_loss: 1.0523 - val_acc: 0.6400\n",
      "Epoch 20/50\n",
      "49000/49000 [==============================] - 14s 292us/step - loss: 0.7644 - acc: 0.7273 - val_loss: 1.0123 - val_acc: 0.6490\n",
      "Epoch 21/50\n",
      "49000/49000 [==============================] - 14s 292us/step - loss: 0.7435 - acc: 0.7358 - val_loss: 1.0225 - val_acc: 0.6500\n",
      "Epoch 22/50\n",
      "49000/49000 [==============================] - 14s 292us/step - loss: 0.7248 - acc: 0.7404 - val_loss: 1.0173 - val_acc: 0.6490\n",
      "Epoch 23/50\n",
      "49000/49000 [==============================] - 14s 293us/step - loss: 0.7124 - acc: 0.7454 - val_loss: 1.0194 - val_acc: 0.6600\n",
      "Epoch 24/50\n",
      "49000/49000 [==============================] - 14s 293us/step - loss: 0.6958 - acc: 0.7520 - val_loss: 1.0085 - val_acc: 0.6500\n",
      "Epoch 25/50\n",
      "49000/49000 [==============================] - 14s 293us/step - loss: 0.6659 - acc: 0.7611 - val_loss: 0.9474 - val_acc: 0.6780\n",
      "Epoch 26/50\n",
      "49000/49000 [==============================] - 14s 292us/step - loss: 0.6553 - acc: 0.7654 - val_loss: 1.0107 - val_acc: 0.6550\n",
      "Epoch 27/50\n",
      "49000/49000 [==============================] - 14s 292us/step - loss: 0.6402 - acc: 0.7709 - val_loss: 0.9485 - val_acc: 0.6730\n",
      "Epoch 28/50\n",
      "49000/49000 [==============================] - 14s 293us/step - loss: 0.6247 - acc: 0.7745 - val_loss: 0.9528 - val_acc: 0.6860\n",
      "Epoch 29/50\n",
      "49000/49000 [==============================] - 14s 293us/step - loss: 0.6070 - acc: 0.7829 - val_loss: 0.9428 - val_acc: 0.6800\n",
      "Epoch 30/50\n",
      "49000/49000 [==============================] - 14s 293us/step - loss: 0.5916 - acc: 0.7869 - val_loss: 0.9444 - val_acc: 0.6700\n",
      "Epoch 31/50\n",
      "49000/49000 [==============================] - 14s 293us/step - loss: 0.5763 - acc: 0.7919 - val_loss: 1.0327 - val_acc: 0.6420\n",
      "Epoch 32/50\n",
      "49000/49000 [==============================] - 14s 293us/step - loss: 0.5604 - acc: 0.7969 - val_loss: 0.9602 - val_acc: 0.6530\n",
      "Epoch 33/50\n",
      "49000/49000 [==============================] - 14s 293us/step - loss: 0.5442 - acc: 0.8032 - val_loss: 0.9770 - val_acc: 0.6680\n",
      "Epoch 34/50\n",
      "49000/49000 [==============================] - 14s 293us/step - loss: 0.5345 - acc: 0.8053 - val_loss: 0.9972 - val_acc: 0.6620\n",
      "Epoch 35/50\n",
      "49000/49000 [==============================] - 14s 293us/step - loss: 0.5128 - acc: 0.8141 - val_loss: 0.9414 - val_acc: 0.6720\n",
      "Epoch 36/50\n",
      "49000/49000 [==============================] - 14s 293us/step - loss: 0.4983 - acc: 0.8197 - val_loss: 0.9297 - val_acc: 0.6730\n",
      "Epoch 37/50\n",
      "49000/49000 [==============================] - 14s 293us/step - loss: 0.4979 - acc: 0.8202 - val_loss: 0.9612 - val_acc: 0.6590\n",
      "Epoch 38/50\n",
      "49000/49000 [==============================] - 15s 308us/step - loss: 0.4809 - acc: 0.8256 - val_loss: 0.9268 - val_acc: 0.6880\n",
      "Epoch 39/50\n",
      "49000/49000 [==============================] - 15s 304us/step - loss: 0.4774 - acc: 0.8265 - val_loss: 0.9046 - val_acc: 0.6910\n",
      "Epoch 40/50\n",
      "49000/49000 [==============================] - 15s 302us/step - loss: 0.4515 - acc: 0.8348 - val_loss: 0.9297 - val_acc: 0.6880\n",
      "Epoch 41/50\n",
      "49000/49000 [==============================] - 14s 293us/step - loss: 0.4475 - acc: 0.8386 - val_loss: 0.9500 - val_acc: 0.6840\n",
      "Epoch 42/50\n",
      "49000/49000 [==============================] - 14s 293us/step - loss: 0.4346 - acc: 0.8435 - val_loss: 0.9448 - val_acc: 0.6770\n",
      "Epoch 43/50\n",
      "49000/49000 [==============================] - 14s 293us/step - loss: 0.4293 - acc: 0.8448 - val_loss: 0.9502 - val_acc: 0.6770\n",
      "Epoch 44/50\n",
      "49000/49000 [==============================] - 14s 293us/step - loss: 0.4146 - acc: 0.8510 - val_loss: 0.9542 - val_acc: 0.6780\n",
      "Epoch 45/50\n",
      "49000/49000 [==============================] - 14s 293us/step - loss: 0.4064 - acc: 0.8528 - val_loss: 0.9349 - val_acc: 0.6810\n",
      "Epoch 46/50\n",
      "49000/49000 [==============================] - 14s 293us/step - loss: 0.3937 - acc: 0.8581 - val_loss: 0.9332 - val_acc: 0.6720\n",
      "Epoch 47/50\n",
      "49000/49000 [==============================] - 14s 293us/step - loss: 0.3938 - acc: 0.8554 - val_loss: 0.9075 - val_acc: 0.6810\n",
      "Epoch 48/50\n",
      "49000/49000 [==============================] - 14s 293us/step - loss: 0.3749 - acc: 0.8652 - val_loss: 0.9934 - val_acc: 0.6710\n",
      "Epoch 49/50\n",
      "49000/49000 [==============================] - 14s 293us/step - loss: 0.3696 - acc: 0.8651 - val_loss: 0.9446 - val_acc: 0.6950\n",
      "Epoch 50/50\n",
      "49000/49000 [==============================] - 14s 295us/step - loss: 0.3616 - acc: 0.8687 - val_loss: 0.9661 - val_acc: 0.6680\n"
     ]
    },
    {
     "data": {
      "text/plain": [
       "[<matplotlib.lines.Line2D at 0x7fbd5587d2e8>]"
      ]
     },
     "execution_count": 35,
     "metadata": {},
     "output_type": "execute_result"
    },
    {
     "name": "stdout",
     "output_type": "stream",
     "text": [
      "10000/10000 [==============================] - 2s 179us/step\n"
     ]
    },
    {
     "data": {
      "text/plain": [
       "[0.98513094949722291, 0.66339999999999999]"
      ]
     },
     "execution_count": 35,
     "metadata": {},
     "output_type": "execute_result"
    },
    {
     "name": "stdout",
     "output_type": "stream",
     "text": [
      "Validation accuracy: 66.34%\n"
     ]
    },
    {
     "data": {
      "image/png": "[encoded data removed]",
      "text/plain": [
       "<matplotlib.figure.Figure at 0x7fbd5c32a6a0>"
      ]
     },
     "metadata": {},
     "output_type": "display_data"
    }
   ],
   "source": [
    "# Fit the model\n",
    "results3b = model3b.fit(X_train, y_train, validation_split=0.02, epochs=50, batch_size=500, verbose=1)\n",
    "plt.plot(results3b.history['loss'])\n",
    "# Final evaluation of the model\n",
    "scores = model3b.evaluate(X_test, y_test, verbose=1)\n",
    "scores\n",
    "print(\"Validation accuracy: %.2f%%\" % (scores[1]*100))"
   ]
  },
  {
   "cell_type": "code",
   "execution_count": 36,
   "metadata": {},
   "outputs": [
    {
     "data": {
      "text/plain": [
       "[<matplotlib.lines.Line2D at 0x7fbd55839390>]"
      ]
     },
     "execution_count": 36,
     "metadata": {},
     "output_type": "execute_result"
    },
    {
     "data": {
      "text/plain": [
       "[<matplotlib.lines.Line2D at 0x7fbd55804128>]"
      ]
     },
     "execution_count": 36,
     "metadata": {},
     "output_type": "execute_result"
    },
    {
     "data": {
      "text/plain": [
       "[<matplotlib.lines.Line2D at 0x7fbd55839828>]"
      ]
     },
     "execution_count": 36,
     "metadata": {},
     "output_type": "execute_result"
    },
    {
     "data": {
      "text/plain": [
       "[<matplotlib.lines.Line2D at 0x7fbd558399b0>]"
      ]
     },
     "execution_count": 36,
     "metadata": {},
     "output_type": "execute_result"
    },
    {
     "data": {
      "text/plain": [
       "<matplotlib.legend.Legend at 0x7fbd55839e48>"
      ]
     },
     "execution_count": 36,
     "metadata": {},
     "output_type": "execute_result"
    },
    {
     "data": {
      "text/plain": [
       "[0.98513094949722291, 0.66339999999999999]"
      ]
     },
     "execution_count": 36,
     "metadata": {},
     "output_type": "execute_result"
    },
    {
     "data": {
      "image/png": "[encoded data removed]",
      "text/plain": [
       "<matplotlib.figure.Figure at 0x7fbd55869c50>"
      ]
     },
     "metadata": {},
     "output_type": "display_data"
    }
   ],
   "source": [
    "plt.plot(results3b.history['loss'])\n",
    "plt.plot(results3b.history['val_loss'])\n",
    "plt.plot(results3b.history['acc'])\n",
    "plt.plot(results3b.history['val_acc'])\n",
    "plt.legend(['loss','val_loss','acc','val_acc'])\n",
    "scores"
   ]
  },
  {
   "cell_type": "code",
   "execution_count": 40,
   "metadata": {
    "scrolled": true
   },
   "outputs": [
    {
     "name": "stdout",
     "output_type": "stream",
     "text": [
      "_________________________________________________________________\n",
      "Layer (type)                 Output Shape              Param #   \n",
      "=================================================================\n",
      "conv2d_25 (Conv2D)           (None, 30, 30, 32)        896       \n",
      "_________________________________________________________________\n",
      "conv2d_26 (Conv2D)           (None, 28, 28, 64)        18496     \n",
      "_________________________________________________________________\n",
      "max_pooling2d_16 (MaxPooling (None, 14, 14, 64)        0         \n",
      "_________________________________________________________________\n",
      "dropout_18 (Dropout)         (None, 14, 14, 64)        0         \n",
      "_________________________________________________________________\n",
      "conv2d_27 (Conv2D)           (None, 12, 12, 128)       73856     \n",
      "_________________________________________________________________\n",
      "max_pooling2d_17 (MaxPooling (None, 6, 6, 128)         0         \n",
      "_________________________________________________________________\n",
      "conv2d_28 (Conv2D)           (None, 4, 4, 128)         147584    \n",
      "_________________________________________________________________\n",
      "max_pooling2d_18 (MaxPooling (None, 2, 2, 128)         0         \n",
      "_________________________________________________________________\n",
      "dropout_19 (Dropout)         (None, 2, 2, 128)         0         \n",
      "_________________________________________________________________\n",
      "flatten_8 (Flatten)          (None, 512)               0         \n",
      "_________________________________________________________________\n",
      "dense_15 (Dense)             (None, 1024)              525312    \n",
      "_________________________________________________________________\n",
      "dropout_20 (Dropout)         (None, 1024)              0         \n",
      "_________________________________________________________________\n",
      "dense_16 (Dense)             (None, 10)                10250     \n",
      "=================================================================\n",
      "Total params: 776,394\n",
      "Trainable params: 776,394\n",
      "Non-trainable params: 0\n",
      "_________________________________________________________________\n"
     ]
    }
   ],
   "source": [
    "from keras.models import Sequential\n",
    "from keras.layers import Dense, Activation, Dropout, Flatten\n",
    "from keras.layers.convolutional import Conv2D, MaxPooling2D\n",
    "from keras.callbacks import EarlyStopping\n",
    "import keras.utils \n",
    "from keras.optimizers import Adam\n",
    "\n",
    "def convolution3c_model():\n",
    "    # create model\n",
    "    model = Sequential()\n",
    "    model.add(Conv2D(32, (3, 3), input_shape=(32, 32, 3), activation='relu'))\n",
    "    model.add(Conv2D(64, (3, 3), activation='relu'))\n",
    "    model.add(MaxPooling2D(pool_size=(2, 2)))\n",
    "    model.add(Dropout(0.25))\n",
    "    \n",
    "    model.add(Conv2D(128, (3, 3), activation='relu'))\n",
    "    model.add(MaxPooling2D(pool_size=(2, 2)))\n",
    "    model.add(Conv2D(128, (3, 3), activation='relu'))\n",
    "    model.add(MaxPooling2D(pool_size=(2, 2)))\n",
    "    model.add(Dropout(0.25))\n",
    "    \n",
    "    model.add(Flatten())\n",
    "    model.add(Dense(1024, activation='relu'))\n",
    "    model.add(Dropout(0.5))\n",
    "    model.add(Dense(10, activation='softmax'))\n",
    "    # Compile model\n",
    "    model.compile(loss='categorical_crossentropy', \n",
    "                  optimizer=Adam(lr=0.0001, decay=1e-6), \n",
    "                  metrics=['accuracy'])\n",
    "    model.summary()\n",
    "    return model\n",
    "\n",
    "# build the model\n",
    "model3c = convolution3c_model()"
   ]
  },
  {
   "cell_type": "code",
   "execution_count": 41,
   "metadata": {
    "scrolled": false
   },
   "outputs": [
    {
     "name": "stdout",
     "output_type": "stream",
     "text": [
      "Train on 49000 samples, validate on 1000 samples\n",
      "Epoch 1/250\n",
      "49000/49000 [==============================] - 14s 291us/step - loss: 2.0674 - acc: 0.2279 - val_loss: 1.7849 - val_acc: 0.3600\n",
      "Epoch 2/250\n",
      "49000/49000 [==============================] - 14s 280us/step - loss: 1.7787 - acc: 0.3455 - val_loss: 1.7010 - val_acc: 0.4080\n",
      "Epoch 3/250\n",
      "49000/49000 [==============================] - 14s 280us/step - loss: 1.6933 - acc: 0.3804 - val_loss: 1.5564 - val_acc: 0.4480\n",
      "Epoch 4/250\n",
      "49000/49000 [==============================] - 14s 280us/step - loss: 1.6283 - acc: 0.4044 - val_loss: 1.4983 - val_acc: 0.4740\n",
      "Epoch 5/250\n",
      "49000/49000 [==============================] - 14s 280us/step - loss: 1.5786 - acc: 0.4277 - val_loss: 1.4384 - val_acc: 0.4890\n",
      "Epoch 6/250\n",
      "49000/49000 [==============================] - 14s 280us/step - loss: 1.5350 - acc: 0.4441 - val_loss: 1.3938 - val_acc: 0.4980\n",
      "Epoch 7/250\n",
      "49000/49000 [==============================] - 14s 281us/step - loss: 1.4938 - acc: 0.4597 - val_loss: 1.3824 - val_acc: 0.5000\n",
      "Epoch 8/250\n",
      "49000/49000 [==============================] - 14s 280us/step - loss: 1.4597 - acc: 0.4744 - val_loss: 1.3323 - val_acc: 0.5380\n",
      "Epoch 9/250\n",
      "49000/49000 [==============================] - 14s 280us/step - loss: 1.4257 - acc: 0.4882 - val_loss: 1.3091 - val_acc: 0.5400\n",
      "Epoch 10/250\n",
      "49000/49000 [==============================] - 14s 281us/step - loss: 1.3951 - acc: 0.4996 - val_loss: 1.2840 - val_acc: 0.5590\n",
      "Epoch 11/250\n",
      "49000/49000 [==============================] - 14s 281us/step - loss: 1.3682 - acc: 0.5112 - val_loss: 1.2625 - val_acc: 0.5640\n",
      "Epoch 12/250\n",
      "49000/49000 [==============================] - 14s 280us/step - loss: 1.3482 - acc: 0.5193 - val_loss: 1.2454 - val_acc: 0.5630\n",
      "Epoch 13/250\n",
      "49000/49000 [==============================] - 14s 280us/step - loss: 1.3223 - acc: 0.5275 - val_loss: 1.2306 - val_acc: 0.5720\n",
      "Epoch 14/250\n",
      "49000/49000 [==============================] - 14s 280us/step - loss: 1.3013 - acc: 0.5380 - val_loss: 1.2120 - val_acc: 0.5750\n",
      "Epoch 15/250\n",
      "49000/49000 [==============================] - 14s 280us/step - loss: 1.2791 - acc: 0.5457 - val_loss: 1.2104 - val_acc: 0.5800\n",
      "Epoch 16/250\n",
      "49000/49000 [==============================] - 14s 280us/step - loss: 1.2604 - acc: 0.5519 - val_loss: 1.1783 - val_acc: 0.5860\n",
      "Epoch 17/250\n",
      "49000/49000 [==============================] - 14s 280us/step - loss: 1.2418 - acc: 0.5583 - val_loss: 1.1626 - val_acc: 0.5850\n",
      "Epoch 18/250\n",
      "49000/49000 [==============================] - 14s 280us/step - loss: 1.2266 - acc: 0.5662 - val_loss: 1.1586 - val_acc: 0.5890\n",
      "Epoch 19/250\n",
      "49000/49000 [==============================] - 14s 281us/step - loss: 1.2060 - acc: 0.5744 - val_loss: 1.1412 - val_acc: 0.5850\n",
      "Epoch 20/250\n",
      "49000/49000 [==============================] - 14s 281us/step - loss: 1.1920 - acc: 0.5794 - val_loss: 1.1245 - val_acc: 0.6070\n",
      "Epoch 21/250\n",
      "49000/49000 [==============================] - 14s 280us/step - loss: 1.1740 - acc: 0.5840 - val_loss: 1.1158 - val_acc: 0.5930\n",
      "Epoch 22/250\n",
      "49000/49000 [==============================] - 14s 280us/step - loss: 1.1562 - acc: 0.5909 - val_loss: 1.1117 - val_acc: 0.5980\n",
      "Epoch 23/250\n",
      "49000/49000 [==============================] - 14s 281us/step - loss: 1.1480 - acc: 0.5906 - val_loss: 1.0949 - val_acc: 0.6070\n",
      "Epoch 24/250\n",
      "49000/49000 [==============================] - 14s 281us/step - loss: 1.1337 - acc: 0.5974 - val_loss: 1.1014 - val_acc: 0.6130\n",
      "Epoch 25/250\n",
      "49000/49000 [==============================] - 14s 280us/step - loss: 1.1177 - acc: 0.6064 - val_loss: 1.0698 - val_acc: 0.6190\n",
      "Epoch 26/250\n",
      "49000/49000 [==============================] - 14s 281us/step - loss: 1.1039 - acc: 0.6100 - val_loss: 1.0806 - val_acc: 0.5960\n",
      "Epoch 27/250\n",
      "49000/49000 [==============================] - 14s 283us/step - loss: 1.0924 - acc: 0.6130 - val_loss: 1.0486 - val_acc: 0.6270\n",
      "Epoch 28/250\n",
      "49000/49000 [==============================] - 14s 284us/step - loss: 1.0789 - acc: 0.6183 - val_loss: 1.0533 - val_acc: 0.6190\n",
      "Epoch 29/250\n",
      "49000/49000 [==============================] - 14s 280us/step - loss: 1.0652 - acc: 0.6253 - val_loss: 1.0313 - val_acc: 0.6270\n",
      "Epoch 30/250\n",
      "49000/49000 [==============================] - 14s 281us/step - loss: 1.0513 - acc: 0.6277 - val_loss: 1.0300 - val_acc: 0.6350\n",
      "Epoch 31/250\n",
      "49000/49000 [==============================] - 14s 281us/step - loss: 1.0391 - acc: 0.6331 - val_loss: 1.0119 - val_acc: 0.6470\n",
      "Epoch 32/250\n",
      "49000/49000 [==============================] - 14s 282us/step - loss: 1.0316 - acc: 0.6331 - val_loss: 1.0423 - val_acc: 0.6290\n",
      "Epoch 33/250\n",
      "49000/49000 [==============================] - 14s 294us/step - loss: 1.0245 - acc: 0.6377 - val_loss: 0.9985 - val_acc: 0.6420\n",
      "Epoch 34/250\n",
      "49000/49000 [==============================] - 14s 289us/step - loss: 1.0112 - acc: 0.6417 - val_loss: 0.9880 - val_acc: 0.6360\n",
      "Epoch 35/250\n",
      "49000/49000 [==============================] - 14s 284us/step - loss: 0.9970 - acc: 0.6477 - val_loss: 0.9924 - val_acc: 0.6600\n",
      "Epoch 36/250\n",
      "49000/49000 [==============================] - 14s 282us/step - loss: 0.9833 - acc: 0.6526 - val_loss: 0.9840 - val_acc: 0.6600\n",
      "Epoch 37/250\n",
      "49000/49000 [==============================] - 14s 281us/step - loss: 0.9759 - acc: 0.6554 - val_loss: 0.9845 - val_acc: 0.6590\n",
      "Epoch 38/250\n",
      "49000/49000 [==============================] - 14s 280us/step - loss: 0.9627 - acc: 0.6606 - val_loss: 0.9611 - val_acc: 0.6660\n",
      "Epoch 39/250\n",
      "49000/49000 [==============================] - 14s 280us/step - loss: 0.9608 - acc: 0.6605 - val_loss: 0.9537 - val_acc: 0.6750\n",
      "Epoch 40/250\n",
      "49000/49000 [==============================] - 14s 280us/step - loss: 0.9480 - acc: 0.6665 - val_loss: 0.9596 - val_acc: 0.6570\n",
      "Epoch 41/250\n",
      "49000/49000 [==============================] - 14s 280us/step - loss: 0.9408 - acc: 0.6670 - val_loss: 0.9648 - val_acc: 0.6450\n",
      "Epoch 42/250\n",
      "49000/49000 [==============================] - 14s 280us/step - loss: 0.9322 - acc: 0.6701 - val_loss: 0.9407 - val_acc: 0.6730\n",
      "Epoch 43/250\n",
      "49000/49000 [==============================] - 14s 280us/step - loss: 0.9187 - acc: 0.6773 - val_loss: 0.9558 - val_acc: 0.6700\n",
      "Epoch 44/250\n",
      "49000/49000 [==============================] - 14s 280us/step - loss: 0.9069 - acc: 0.6781 - val_loss: 0.9344 - val_acc: 0.6750\n",
      "Epoch 45/250\n",
      "49000/49000 [==============================] - 14s 281us/step - loss: 0.9005 - acc: 0.6829 - val_loss: 0.9379 - val_acc: 0.6740\n",
      "Epoch 46/250\n",
      "49000/49000 [==============================] - 14s 280us/step - loss: 0.8931 - acc: 0.6867 - val_loss: 0.9245 - val_acc: 0.6810\n",
      "Epoch 47/250\n",
      "49000/49000 [==============================] - 14s 280us/step - loss: 0.8850 - acc: 0.6864 - val_loss: 0.9261 - val_acc: 0.6770\n",
      "Epoch 48/250\n",
      "49000/49000 [==============================] - 14s 281us/step - loss: 0.8740 - acc: 0.6909 - val_loss: 0.9288 - val_acc: 0.6750\n",
      "Epoch 49/250\n",
      "49000/49000 [==============================] - 14s 280us/step - loss: 0.8693 - acc: 0.6928 - val_loss: 0.9157 - val_acc: 0.6850\n",
      "Epoch 50/250\n",
      "49000/49000 [==============================] - 14s 280us/step - loss: 0.8559 - acc: 0.6951 - val_loss: 0.9104 - val_acc: 0.6860\n",
      "Epoch 51/250\n",
      "49000/49000 [==============================] - 14s 280us/step - loss: 0.8472 - acc: 0.7008 - val_loss: 0.9059 - val_acc: 0.6980\n",
      "Epoch 52/250\n",
      "49000/49000 [==============================] - 14s 280us/step - loss: 0.8411 - acc: 0.7013 - val_loss: 0.9089 - val_acc: 0.6900\n",
      "Epoch 53/250\n",
      "49000/49000 [==============================] - 14s 280us/step - loss: 0.8351 - acc: 0.7050 - val_loss: 0.8838 - val_acc: 0.6890\n",
      "Epoch 54/250\n",
      "49000/49000 [==============================] - 14s 280us/step - loss: 0.8253 - acc: 0.7070 - val_loss: 0.9024 - val_acc: 0.6810\n",
      "Epoch 55/250\n",
      "49000/49000 [==============================] - 14s 280us/step - loss: 0.8171 - acc: 0.7101 - val_loss: 0.8893 - val_acc: 0.6890\n",
      "Epoch 56/250\n",
      "49000/49000 [==============================] - 14s 280us/step - loss: 0.8091 - acc: 0.7137 - val_loss: 0.9257 - val_acc: 0.6770\n",
      "Epoch 57/250\n",
      "49000/49000 [==============================] - 14s 280us/step - loss: 0.8034 - acc: 0.7174 - val_loss: 0.8988 - val_acc: 0.6910\n",
      "Epoch 58/250\n",
      "49000/49000 [==============================] - 14s 280us/step - loss: 0.7998 - acc: 0.7171 - val_loss: 0.8903 - val_acc: 0.6870\n"
     ]
    },
    {
     "data": {
      "text/plain": [
       "[<matplotlib.lines.Line2D at 0x7fbd785ee6a0>]"
      ]
     },
     "execution_count": 41,
     "metadata": {},
     "output_type": "execute_result"
    },
    {
     "name": "stdout",
     "output_type": "stream",
     "text": [
      "10000/10000 [==============================] - 1s 139us/step\n"
     ]
    },
    {
     "data": {
      "text/plain": [
       "[0.93072165174484256, 0.67330000000000001]"
      ]
     },
     "execution_count": 41,
     "metadata": {},
     "output_type": "execute_result"
    },
    {
     "name": "stdout",
     "output_type": "stream",
     "text": [
      "Accuracy: 67.33%\n"
     ]
    },
    {
     "data": {
      "image/png": "[encoded data removed]",
      "text/plain": [
       "<matplotlib.figure.Figure at 0x7fbd54e4c860>"
      ]
     },
     "metadata": {},
     "output_type": "display_data"
    }
   ],
   "source": [
    "# Fit the model\n",
    "results3c = model3c.fit(X_train, y_train, validation_split=0.02, \n",
    "                        epochs=250, \n",
    "                        batch_size=128, \n",
    "                        shuffle=True, \n",
    "                        verbose=1, \n",
    "                        callbacks=[EarlyStopping(min_delta=0.001, patience=5)])\n",
    "plt.plot(results3c.history['loss'])\n",
    "# Final evaluation of the model\n",
    "scores = model3c.evaluate(X_test, y_test, verbose=1)\n",
    "scores\n",
    "print(\"Accuracy: %.2f%%\" % (scores[1]*100))"
   ]
  },
  {
   "cell_type": "code",
   "execution_count": 42,
   "metadata": {},
   "outputs": [
    {
     "data": {
      "text/plain": [
       "[<matplotlib.lines.Line2D at 0x7fbd547e7198>]"
      ]
     },
     "execution_count": 42,
     "metadata": {},
     "output_type": "execute_result"
    },
    {
     "data": {
      "text/plain": [
       "[<matplotlib.lines.Line2D at 0x7fbd54e4cba8>]"
      ]
     },
     "execution_count": 42,
     "metadata": {},
     "output_type": "execute_result"
    },
    {
     "data": {
      "text/plain": [
       "[<matplotlib.lines.Line2D at 0x7fbd547e7630>]"
      ]
     },
     "execution_count": 42,
     "metadata": {},
     "output_type": "execute_result"
    },
    {
     "data": {
      "text/plain": [
       "[<matplotlib.lines.Line2D at 0x7fbd547e7eb8>]"
      ]
     },
     "execution_count": 42,
     "metadata": {},
     "output_type": "execute_result"
    },
    {
     "data": {
      "text/plain": [
       "<matplotlib.legend.Legend at 0x7fbd547e7f98>"
      ]
     },
     "execution_count": 42,
     "metadata": {},
     "output_type": "execute_result"
    },
    {
     "data": {
      "text/plain": [
       "[0.93072165174484256, 0.67330000000000001]"
      ]
     },
     "execution_count": 42,
     "metadata": {},
     "output_type": "execute_result"
    },
    {
     "data": {
      "image/png": "[encoded data removed]",
      "text/plain": [
       "<matplotlib.figure.Figure at 0x7fbd54e4c4a8>"
      ]
     },
     "metadata": {},
     "output_type": "display_data"
    }
   ],
   "source": [
    "plt.plot(results3c.history['loss'])\n",
    "plt.plot(results3c.history['val_loss'])\n",
    "plt.plot(results3c.history['acc'])\n",
    "plt.plot(results3c.history['val_acc'])\n",
    "plt.legend(['loss','val_loss','acc','val_acc'])\n",
    "scores"
   ]
  },
  {
   "cell_type": "code",
   "execution_count": null,
   "metadata": {},
   "outputs": [],
   "source": [
    "from keras.models import Sequential\n",
    "from keras.layers import Dense, Activation, Dropout, Flatten\n",
    "from keras.layers.convolutional import Conv2D, MaxPooling2D\n",
    "from keras.callbacks import EarlyStopping\n",
    "import keras.utils \n",
    "from keras.optimizers import Adam\n",
    "\n",
    "def convolution3d_model():\n",
    "    # create model\n",
    "    model = Sequential()\n",
    "    model.add(Conv2D(64, (3, 3), input_shape=(32, 32, 3), activation='relu'))\n",
    "    model.add(Conv2D(128, (3, 3), activation='relu'))\n",
    "    model.add(MaxPooling2D(pool_size=(2, 2)))\n",
    "    model.add(Dropout(0.25))\n",
    "    \n",
    "    model.add(Conv2D(256, (3, 3), activation='relu'))\n",
    "    model.add(MaxPooling2D(pool_size=(2, 2)))\n",
    "    model.add(Conv2D(256, (3, 3), activation='relu'))\n",
    "    model.add(MaxPooling2D(pool_size=(2, 2)))\n",
    "    model.add(Dropout(0.25))\n",
    "    \n",
    "    model.add(Flatten())\n",
    "    model.add(Dense(1024, activation='relu'))\n",
    "    model.add(Dropout(0.5))\n",
    "    model.add(Dense(10, activation='softmax'))\n",
    "    # Compile model\n",
    "    model.compile(loss='categorical_crossentropy', \n",
    "                  optimizer=Adam(lr=0.001, decay=1e-6), \n",
    "                  metrics=['accuracy'])\n",
    "    model.summary()\n",
    "    return model\n",
    "\n",
    "# build the model\n",
    "model3d = convolution3d_model()"
   ]
  },
  {
   "cell_type": "code",
   "execution_count": null,
   "metadata": {},
   "outputs": [],
   "source": [
    "# Fit the model\n",
    "results3d = model3d.fit(X_train, y_train, validation_split=0.02, \n",
    "                        epochs=250, \n",
    "                        batch_size=128, \n",
    "                        shuffle=True, \n",
    "                        verbose=1, \n",
    "                        callbacks=[EarlyStopping(min_delta=0.0005, patience=5)])\n",
    "plt.plot(results3d.history['loss'])\n",
    "# Final evaluation of the model\n",
    "scores = model3d.evaluate(X_test, y_test, verbose=1)\n",
    "scores\n",
    "print(\"Accuracy: %.2f%%\" % (scores[1]*100))"
   ]
  },
  {
   "cell_type": "code",
   "execution_count": null,
   "metadata": {},
   "outputs": [],
   "source": [
    "plt.plot(results3d.history['loss'])\n",
    "plt.plot(results3d.history['val_loss'])\n",
    "plt.plot(results3d.history['acc'])\n",
    "plt.plot(results3d.history['val_acc'])\n",
    "plt.legend(['loss','val_loss','acc','val_acc'])\n",
    "scores"
   ]
  },
  {
   "cell_type": "code",
   "execution_count": null,
   "metadata": {},
   "outputs": [],
   "source": []
  },
  {
   "cell_type": "code",
   "execution_count": null,
   "metadata": {},
   "outputs": [],
   "source": [
    "from keras.preprocessing.image import ImageDataGenerator\n",
    "\n",
    "datagen = ImageDataGenerator(\n",
    "    featurewise_center=False,  # set input mean to 0 over the dataset\n",
    "    samplewise_center=False,  # set each sample mean to 0\n",
    "    featurewise_std_normalization=False,  # divide inputs by std of the dataset\n",
    "    samplewise_std_normalization=False,  # divide each input by its std\n",
    "    zca_whitening=False,  # apply ZCA whitening\n",
    "    rotation_range=45,  # randomly rotate images in the range (degrees, 0 to 180)\n",
    "    width_shift_range=0.2,  # randomly shift images horizontally (fraction of total width)\n",
    "    height_shift_range=0.2,  # randomly shift images vertically (fraction of total height)\n",
    "    horizontal_flip=True,  # randomly flip images\n",
    "    vertical_flip=False)  # randomly flip images\n",
    "\n",
    "datagen.fit(X_train)\n",
    "\n",
    "# X_batch, y_batch = next(datagen.flow(X_train, y_train))"
   ]
  },
  {
   "cell_type": "code",
   "execution_count": null,
   "metadata": {},
   "outputs": [],
   "source": [
    "# 3e is the same as 3d but with image augmentation\n",
    "\n",
    "\n",
    "def convolution3e_model():\n",
    "    # create model\n",
    "    model = Sequential()\n",
    "    model.add(Conv2D(64, (3, 3), input_shape=(32, 32, 3), activation='relu'))\n",
    "    model.add(Conv2D(128, (3, 3), activation='relu'))\n",
    "    model.add(MaxPooling2D(pool_size=(2, 2)))\n",
    "    model.add(Dropout(0.25))\n",
    "    \n",
    "    model.add(Conv2D(256, (3, 3), activation='relu'))\n",
    "    model.add(MaxPooling2D(pool_size=(2, 2)))\n",
    "    model.add(Conv2D(256, (3, 3), activation='relu'))\n",
    "    model.add(MaxPooling2D(pool_size=(2, 2)))\n",
    "    model.add(Dropout(0.25))\n",
    "    \n",
    "    model.add(Flatten())\n",
    "    model.add(Dense(1024, activation='relu'))\n",
    "    model.add(Dropout(0.5))\n",
    "    model.add(Dense(10, activation='softmax'))\n",
    "    # Compile model\n",
    "    model.compile(loss='categorical_crossentropy', \n",
    "                  optimizer=Adam(lr=0.001, decay=1e-6), \n",
    "                  metrics=['accuracy'])\n",
    "    model.summary()\n",
    "    return model\n",
    "\n",
    "# build the model\n",
    "model3e = convolution3e_model()"
   ]
  },
  {
   "cell_type": "code",
   "execution_count": null,
   "metadata": {},
   "outputs": [],
   "source": [
    "# Fit the model\n",
    "results3e = model3e.fit_generator(datagen.flow(X_train, y_train, batch_size=32, \n",
    "                                               steps_per_epoch=len(X_train), epochs=100))\n"
   ]
  },
  {
   "cell_type": "code",
   "execution_count": null,
   "metadata": {},
   "outputs": [],
   "source": [
    "plt.plot(results3e.history['loss'])\n",
    "# Final evaluation of the model\n",
    "scores = model3e.evaluate(X_test, y_test, verbose=1)\n",
    "scores\n",
    "print(\"Accuracy: %.2f%%\" % (scores[1]*100))"
   ]
  },
  {
   "cell_type": "code",
   "execution_count": null,
   "metadata": {},
   "outputs": [],
   "source": [
    "plt.plot(results3e.history['loss'])\n",
    "plt.plot(results3e.history['val_loss'])\n",
    "plt.plot(results3e.history['acc'])\n",
    "plt.plot(results3e.history['val_acc'])\n",
    "plt.legend(['loss','val_loss','acc','val_acc'])\n",
    "scores"
   ]
  }
 ],
 "metadata": {
  "kernelspec": {
   "display_name": "Python [default]",
   "language": "python",
   "name": "python3"
  },
  "language_info": {
   "codemirror_mode": {
    "name": "ipython",
    "version": 3
   },
   "file_extension": ".py",
   "mimetype": "text/x-python",
   "name": "python",
   "nbconvert_exporter": "python",
   "pygments_lexer": "ipython3",
   "version": "3.6.3"
  }
 },
 "nbformat": 4,
 "nbformat_minor": 2
}
