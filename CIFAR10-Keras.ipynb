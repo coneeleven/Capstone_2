{
 "cells": [
  {
   "cell_type": "markdown",
   "metadata": {},
   "source": [
    "# Image classification using TensorFlow\n",
    "\n",
    "### Springboard Career Track Capstone Project 2"
   ]
  },
  {
   "cell_type": "markdown",
   "metadata": {},
   "source": [
    "#### Linear Model in TensorFlow"
   ]
  },
  {
   "cell_type": "markdown",
   "metadata": {},
   "source": [
    "#### Import libraries"
   ]
  },
  {
   "cell_type": "code",
   "execution_count": 4,
   "metadata": {
    "collapsed": true
   },
   "outputs": [],
   "source": [
    "import pandas as pd\n",
    "import numpy as np\n",
    "import matplotlib.pyplot as plt\n",
    "import tensorflow as tf\n",
    "%matplotlib inline \n",
    "from sklearn.preprocessing import OneHotEncoder, LabelBinarizer\n",
    "\n",
    "from IPython.core.interactiveshell import InteractiveShell\n",
    "InteractiveShell.ast_node_interactivity = \"all\"\n",
    "\n",
    "from IPython.core.pylabtools import figsize\n",
    "figsize(12, 8)"
   ]
  },
  {
   "cell_type": "markdown",
   "metadata": {},
   "source": [
    "#### Import data"
   ]
  },
  {
   "cell_type": "markdown",
   "metadata": {},
   "source": [
    "Data acquired from https://www.cs.toronto.edu/~kriz/cifar.html"
   ]
  },
  {
   "cell_type": "code",
   "execution_count": 5,
   "metadata": {
    "collapsed": true
   },
   "outputs": [],
   "source": [
    "import tarfile\n",
    "tar = tarfile.open(\"cifar-10-python.tar.gz\")\n",
    "tar.extractall()\n",
    "tar.close()"
   ]
  },
  {
   "cell_type": "markdown",
   "metadata": {},
   "source": [
    "#### Create function to unpickle data"
   ]
  },
  {
   "cell_type": "code",
   "execution_count": 6,
   "metadata": {
    "collapsed": true
   },
   "outputs": [],
   "source": [
    "def unpickle(file):\n",
    "    import pickle\n",
    "    with open(file, 'rb') as fo:\n",
    "        dict = pickle.load(fo, encoding='bytes')\n",
    "    return dict"
   ]
  },
  {
   "cell_type": "code",
   "execution_count": 7,
   "metadata": {
    "collapsed": true
   },
   "outputs": [],
   "source": [
    "def one_hot_encode(x):\n",
    "    \"\"\"\n",
    "    One hot encode a list of sample labels. Return a one-hot encoded vector for each label.\n",
    "    : x: List of sample Labels\n",
    "    : return: Numpy array of one-hot encoded labels\n",
    "    \"\"\"  \n",
    "    from sklearn.preprocessing import OneHotEncoder, LabelBinarizer\n",
    "    encoder = LabelBinarizer()\n",
    "    encoder.fit(range(10))\n",
    "\n",
    "    return encoder.transform(x)"
   ]
  },
  {
   "cell_type": "markdown",
   "metadata": {},
   "source": [
    "#### Assign batch names, unpickle batches, and concatenate"
   ]
  },
  {
   "cell_type": "code",
   "execution_count": 8,
   "metadata": {
    "collapsed": true
   },
   "outputs": [],
   "source": [
    "f1 = 'cifar-10-batches-py\\data_batch_1'\n",
    "f2 = 'cifar-10-batches-py\\data_batch_2'\n",
    "f3 = 'cifar-10-batches-py\\data_batch_3'\n",
    "f4 = 'cifar-10-batches-py\\data_batch_4'\n",
    "f5 = 'cifar-10-batches-py\\data_batch_5'\n",
    "x_test = 'cifar-10-batches-py\\\\test_batch'\n",
    "label_names = 'cifar-10-batches-py\\\\batches.meta'"
   ]
  },
  {
   "cell_type": "code",
   "execution_count": 9,
   "metadata": {
    "collapsed": true
   },
   "outputs": [],
   "source": [
    "b1 = unpickle(f1)"
   ]
  },
  {
   "cell_type": "code",
   "execution_count": 10,
   "metadata": {},
   "outputs": [
    {
     "data": {
      "text/plain": [
       "dict_keys([b'batch_label', b'labels', b'data', b'filenames'])"
      ]
     },
     "execution_count": 10,
     "metadata": {},
     "output_type": "execute_result"
    }
   ],
   "source": [
    "b1.keys()"
   ]
  },
  {
   "cell_type": "code",
   "execution_count": 11,
   "metadata": {
    "collapsed": true
   },
   "outputs": [],
   "source": [
    "train_y1 = b1.get(b'labels')\n",
    "b1data = b1.get(b'data')\n",
    "\n",
    "b2 = unpickle(f2)\n",
    "train_y2 = b2.get(b'labels')\n",
    "b2data = b2.get(b'data')\n",
    "\n",
    "b3 = unpickle(f3)\n",
    "train_y3 = b3.get(b'labels')\n",
    "b3data = b3.get(b'data')\n",
    "\n",
    "b4 = unpickle(f4)\n",
    "train_y4 = b4.get(b'labels')\n",
    "b4data = b4.get(b'data')\n",
    "\n",
    "b5 = unpickle(f5)\n",
    "train_y5 = b5.get(b'labels')\n",
    "b5data = b5.get(b'data')\n",
    "\n",
    "x_train = np.concatenate((b1data, b2data, b3data, b4data, b5data), axis=0)\n",
    "y_train = np.concatenate((train_y1, train_y2, train_y3, train_y4, train_y5), axis=0)\n",
    "\n",
    "y_train_cls = y_train\n",
    "y_train = one_hot_encode(y_train)\n",
    "\n",
    "test = unpickle(x_test)\n",
    "x_test = test.get(b'data')\n",
    "y_test_cls = test.get(b'labels')\n",
    "y_test = one_hot_encode(y_test_cls)\n",
    "label_names = unpickle(label_names)"
   ]
  },
  {
   "cell_type": "code",
   "execution_count": 12,
   "metadata": {},
   "outputs": [
    {
     "data": {
      "text/plain": [
       "(50000, 3072)"
      ]
     },
     "execution_count": 12,
     "metadata": {},
     "output_type": "execute_result"
    }
   ],
   "source": [
    "x_train.shape"
   ]
  },
  {
   "cell_type": "code",
   "execution_count": 13,
   "metadata": {},
   "outputs": [
    {
     "data": {
      "text/plain": [
       "array([[ 59,  43,  50, ..., 140,  84,  72],\n",
       "       [154, 126, 105, ..., 139, 142, 144],\n",
       "       [255, 253, 253, ...,  83,  83,  84],\n",
       "       ..., \n",
       "       [ 35,  40,  42, ...,  77,  66,  50],\n",
       "       [189, 186, 185, ..., 169, 171, 171],\n",
       "       [229, 236, 234, ..., 173, 162, 161]], dtype=uint8)"
      ]
     },
     "execution_count": 13,
     "metadata": {},
     "output_type": "execute_result"
    }
   ],
   "source": [
    "x_train"
   ]
  },
  {
   "cell_type": "code",
   "execution_count": 14,
   "metadata": {},
   "outputs": [
    {
     "data": {
      "text/plain": [
       "array([[0, 0, 0, ..., 0, 0, 0],\n",
       "       [0, 0, 0, ..., 0, 0, 1],\n",
       "       [0, 0, 0, ..., 0, 0, 1],\n",
       "       ..., \n",
       "       [0, 0, 0, ..., 0, 0, 1],\n",
       "       [0, 1, 0, ..., 0, 0, 0],\n",
       "       [0, 1, 0, ..., 0, 0, 0]])"
      ]
     },
     "execution_count": 14,
     "metadata": {},
     "output_type": "execute_result"
    }
   ],
   "source": [
    "y_train"
   ]
  },
  {
   "cell_type": "code",
   "execution_count": 15,
   "metadata": {},
   "outputs": [
    {
     "data": {
      "text/plain": [
       "(50000, 10)"
      ]
     },
     "execution_count": 15,
     "metadata": {},
     "output_type": "execute_result"
    }
   ],
   "source": [
    "y_train.shape"
   ]
  },
  {
   "cell_type": "code",
   "execution_count": 16,
   "metadata": {},
   "outputs": [
    {
     "data": {
      "text/plain": [
       "{b'label_names': [b'airplane',\n",
       "  b'automobile',\n",
       "  b'bird',\n",
       "  b'cat',\n",
       "  b'deer',\n",
       "  b'dog',\n",
       "  b'frog',\n",
       "  b'horse',\n",
       "  b'ship',\n",
       "  b'truck'],\n",
       " b'num_cases_per_batch': 10000,\n",
       " b'num_vis': 3072}"
      ]
     },
     "execution_count": 16,
     "metadata": {},
     "output_type": "execute_result"
    }
   ],
   "source": [
    "label_names"
   ]
  },
  {
   "cell_type": "code",
   "execution_count": 17,
   "metadata": {},
   "outputs": [
    {
     "data": {
      "text/plain": [
       "(10000, 3072)"
      ]
     },
     "execution_count": 17,
     "metadata": {},
     "output_type": "execute_result"
    }
   ],
   "source": [
    "x_test.shape"
   ]
  },
  {
   "cell_type": "code",
   "execution_count": 18,
   "metadata": {},
   "outputs": [
    {
     "data": {
      "text/plain": [
       "(10000, 10)"
      ]
     },
     "execution_count": 18,
     "metadata": {},
     "output_type": "execute_result"
    }
   ],
   "source": [
    "y_test.shape"
   ]
  },
  {
   "cell_type": "markdown",
   "metadata": {},
   "source": [
    "Using Keras (adapted from https://blog.keras.io/keras-as-a-simplified-interface-to-tensorflow-tutorial.html)"
   ]
  },
  {
   "cell_type": "code",
   "execution_count": null,
   "metadata": {
    "collapsed": true
   },
   "outputs": [],
   "source": [
    "import tensorflow as tf\n",
    "sess = tf.Session()\n",
    "\n",
    "from keras import backend as K\n",
    "K.set_session(sess)"
   ]
  },
  {
   "cell_type": "code",
   "execution_count": null,
   "metadata": {
    "collapsed": true
   },
   "outputs": [],
   "source": [
    "img = tf.placeholder(tf.float32, shape=(None, 3072))"
   ]
  },
  {
   "cell_type": "code",
   "execution_count": null,
   "metadata": {
    "collapsed": true
   },
   "outputs": [],
   "source": [
    "from keras.layers import Dense\n",
    "\n",
    "# Keras layers can be called on TensorFlow tensors:\n",
    "x = Dense(128, activation='relu')(img)  # fully-connected layer with 128 units and ReLU activation\n",
    "x = Dense(128, activation='relu')(x)\n",
    "preds = Dense(10, activation='softmax')(x)  # output layer with 10 units and a softmax activation"
   ]
  },
  {
   "cell_type": "code",
   "execution_count": null,
   "metadata": {
    "collapsed": true
   },
   "outputs": [],
   "source": [
    "labels = tf.placeholder(tf.float32, shape=(None, 10))\n",
    "\n",
    "from keras.objectives import categorical_crossentropy\n",
    "loss = tf.reduce_mean(categorical_crossentropy(labels, preds))"
   ]
  },
  {
   "cell_type": "code",
   "execution_count": null,
   "metadata": {
    "collapsed": true
   },
   "outputs": [],
   "source": [
    "# from tensorflow.examples.tutorials.mnist import input_data\n",
    "# mnist_data = input_data.read_data_sets('MNIST_data', one_hot=True)\n",
    "\n",
    "train_step = tf.train.GradientDescentOptimizer(0.5).minimize(loss)\n",
    "\n",
    "# Initialize all variables\n",
    "init_op = tf.global_variables_initializer()\n",
    "sess.run(init_op)\n",
    "\n",
    "# Run training loop\n",
    "with sess.as_default():\n",
    "    for i in range(100):\n",
    "        batch = x_train.next_batch(50)\n",
    "        train_step.run(feed_dict={img: x_train,\n",
    "                                  labels: y_train})"
   ]
  },
  {
   "cell_type": "code",
   "execution_count": null,
   "metadata": {
    "collapsed": true
   },
   "outputs": [],
   "source": [
    "train_step = tf.train.GradientDescentOptimizer(0.5).minimize(loss)\n",
    "batch_size = 500\n",
    "\n",
    "# Initialize all variables\n",
    "init_op = tf.global_variables_initializer()\n",
    "sess.run(init_op)\n",
    "\n",
    "# Run training loop\n",
    "with sess.as_default():\n",
    "    for i in range(100):\n",
    "        j = 0\n",
    "        x_train_batch = x_train[j:j+batch_size,]\n",
    "        y_train_batch = y_train[j:j+batch_size,]\n",
    "        j = j + batch_size\n",
    "        if j > x_train.shape[0]:\n",
    "            j = 0\n",
    "            \n",
    "        train_step.run(feed_dict={img: x_train_batch,\n",
    "                                  labels: y_train_batch})"
   ]
  },
  {
   "cell_type": "code",
   "execution_count": null,
   "metadata": {
    "collapsed": true
   },
   "outputs": [],
   "source": [
    "from keras.metrics import categorical_accuracy as accuracy\n",
    "\n",
    "acc_value = accuracy(labels, preds)\n",
    "with sess.as_default():\n",
    "    print(acc_value.eval(feed_dict={img: x_test,\n",
    "                                    labels: y_test}))"
   ]
  },
  {
   "cell_type": "code",
   "execution_count": null,
   "metadata": {
    "collapsed": true
   },
   "outputs": [],
   "source": []
  },
  {
   "cell_type": "markdown",
   "metadata": {},
   "source": [
    "Using baseline model Keras example from https://machinelearningmastery.com/handwritten-digit-recognition-using-convolutional-neural-networks-python-keras/"
   ]
  },
  {
   "cell_type": "code",
   "execution_count": 19,
   "metadata": {},
   "outputs": [],
   "source": [
    "import tensorflow as tf\n",
    "sess = tf.Session()\n",
    "\n",
    "from keras import backend as K\n",
    "K.set_session(sess)\n",
    "\n",
    "from keras.models import Sequential\n",
    "from keras.layers import Dense\n",
    "from keras.layers import Dropout\n",
    "import keras.utils"
   ]
  },
  {
   "cell_type": "code",
   "execution_count": 20,
   "metadata": {
    "collapsed": true
   },
   "outputs": [],
   "source": [
    "# define baseline model\n",
    "def baseline_model():\n",
    "    # create model\n",
    "    model = Sequential()\n",
    "    model.add(Dense(num_pixels, input_dim=num_pixels, kernel_initializer='normal', activation='relu'))\n",
    "    model.add(Dense(num_classes, kernel_initializer='normal', activation='softmax'))\n",
    "    # Compile model\n",
    "    model.compile(loss='categorical_crossentropy', optimizer='adam', metrics=['accuracy'])\n",
    "    return model"
   ]
  },
  {
   "cell_type": "code",
   "execution_count": 21,
   "metadata": {},
   "outputs": [
    {
     "name": "stdout",
     "output_type": "stream",
     "text": [
      "Train on 40000 samples, validate on 10000 samples\n",
      "Epoch 1/10\n",
      "606s - loss: 14.5166 - acc: 0.0994 - val_loss: 14.4660 - val_acc: 0.1025\n",
      "Epoch 2/10\n",
      "628s - loss: 14.5164 - acc: 0.0994 - val_loss: 14.4660 - val_acc: 0.1025\n",
      "Epoch 3/10\n"
     ]
    },
    {
     "ename": "KeyboardInterrupt",
     "evalue": "",
     "output_type": "error",
     "traceback": [
      "\u001b[1;31m---------------------------------------------------------------------------\u001b[0m",
      "\u001b[1;31mKeyboardInterrupt\u001b[0m                         Traceback (most recent call last)",
      "\u001b[1;32m<ipython-input-21-2061c54f3265>\u001b[0m in \u001b[0;36m<module>\u001b[1;34m()\u001b[0m\n\u001b[0;32m      5\u001b[0m \u001b[0mmodel\u001b[0m \u001b[1;33m=\u001b[0m \u001b[0mbaseline_model\u001b[0m\u001b[1;33m(\u001b[0m\u001b[1;33m)\u001b[0m\u001b[1;33m\u001b[0m\u001b[0m\n\u001b[0;32m      6\u001b[0m \u001b[1;31m# Fit the model\u001b[0m\u001b[1;33m\u001b[0m\u001b[1;33m\u001b[0m\u001b[0m\n\u001b[1;32m----> 7\u001b[1;33m \u001b[0mmodel\u001b[0m\u001b[1;33m.\u001b[0m\u001b[0mfit\u001b[0m\u001b[1;33m(\u001b[0m\u001b[0mx_train\u001b[0m\u001b[1;33m,\u001b[0m \u001b[0my_train\u001b[0m\u001b[1;33m,\u001b[0m \u001b[0mvalidation_split\u001b[0m\u001b[1;33m=\u001b[0m\u001b[1;36m0.2\u001b[0m\u001b[1;33m,\u001b[0m \u001b[0mepochs\u001b[0m\u001b[1;33m=\u001b[0m\u001b[1;36m10\u001b[0m\u001b[1;33m,\u001b[0m \u001b[0mbatch_size\u001b[0m\u001b[1;33m=\u001b[0m\u001b[1;36m10\u001b[0m\u001b[1;33m,\u001b[0m \u001b[0mverbose\u001b[0m\u001b[1;33m=\u001b[0m\u001b[1;36m2\u001b[0m\u001b[1;33m)\u001b[0m\u001b[1;33m\u001b[0m\u001b[0m\n\u001b[0m\u001b[0;32m      8\u001b[0m \u001b[1;31m# Final evaluation of the model\u001b[0m\u001b[1;33m\u001b[0m\u001b[1;33m\u001b[0m\u001b[0m\n\u001b[0;32m      9\u001b[0m \u001b[0mscores\u001b[0m \u001b[1;33m=\u001b[0m \u001b[0mmodel\u001b[0m\u001b[1;33m.\u001b[0m\u001b[0mevaluate\u001b[0m\u001b[1;33m(\u001b[0m\u001b[0mx_test\u001b[0m\u001b[1;33m,\u001b[0m \u001b[0my_test\u001b[0m\u001b[1;33m,\u001b[0m \u001b[0mverbose\u001b[0m\u001b[1;33m=\u001b[0m\u001b[1;36m0\u001b[0m\u001b[1;33m)\u001b[0m\u001b[1;33m\u001b[0m\u001b[0m\n",
      "\u001b[1;32m~\\Anaconda3\\lib\\site-packages\\keras\\models.py\u001b[0m in \u001b[0;36mfit\u001b[1;34m(self, x, y, batch_size, epochs, verbose, callbacks, validation_split, validation_data, shuffle, class_weight, sample_weight, initial_epoch, **kwargs)\u001b[0m\n\u001b[0;32m    865\u001b[0m                               \u001b[0mclass_weight\u001b[0m\u001b[1;33m=\u001b[0m\u001b[0mclass_weight\u001b[0m\u001b[1;33m,\u001b[0m\u001b[1;33m\u001b[0m\u001b[0m\n\u001b[0;32m    866\u001b[0m                               \u001b[0msample_weight\u001b[0m\u001b[1;33m=\u001b[0m\u001b[0msample_weight\u001b[0m\u001b[1;33m,\u001b[0m\u001b[1;33m\u001b[0m\u001b[0m\n\u001b[1;32m--> 867\u001b[1;33m                               initial_epoch=initial_epoch)\n\u001b[0m\u001b[0;32m    868\u001b[0m \u001b[1;33m\u001b[0m\u001b[0m\n\u001b[0;32m    869\u001b[0m     def evaluate(self, x, y, batch_size=32, verbose=1,\n",
      "\u001b[1;32m~\\Anaconda3\\lib\\site-packages\\keras\\engine\\training.py\u001b[0m in \u001b[0;36mfit\u001b[1;34m(self, x, y, batch_size, epochs, verbose, callbacks, validation_split, validation_data, shuffle, class_weight, sample_weight, initial_epoch, steps_per_epoch, validation_steps, **kwargs)\u001b[0m\n\u001b[0;32m   1596\u001b[0m                               \u001b[0minitial_epoch\u001b[0m\u001b[1;33m=\u001b[0m\u001b[0minitial_epoch\u001b[0m\u001b[1;33m,\u001b[0m\u001b[1;33m\u001b[0m\u001b[0m\n\u001b[0;32m   1597\u001b[0m                               \u001b[0msteps_per_epoch\u001b[0m\u001b[1;33m=\u001b[0m\u001b[0msteps_per_epoch\u001b[0m\u001b[1;33m,\u001b[0m\u001b[1;33m\u001b[0m\u001b[0m\n\u001b[1;32m-> 1598\u001b[1;33m                               validation_steps=validation_steps)\n\u001b[0m\u001b[0;32m   1599\u001b[0m \u001b[1;33m\u001b[0m\u001b[0m\n\u001b[0;32m   1600\u001b[0m     def evaluate(self, x, y,\n",
      "\u001b[1;32m~\\Anaconda3\\lib\\site-packages\\keras\\engine\\training.py\u001b[0m in \u001b[0;36m_fit_loop\u001b[1;34m(self, f, ins, out_labels, batch_size, epochs, verbose, callbacks, val_f, val_ins, shuffle, callback_metrics, initial_epoch, steps_per_epoch, validation_steps)\u001b[0m\n\u001b[0;32m   1181\u001b[0m                     \u001b[0mbatch_logs\u001b[0m\u001b[1;33m[\u001b[0m\u001b[1;34m'size'\u001b[0m\u001b[1;33m]\u001b[0m \u001b[1;33m=\u001b[0m \u001b[0mlen\u001b[0m\u001b[1;33m(\u001b[0m\u001b[0mbatch_ids\u001b[0m\u001b[1;33m)\u001b[0m\u001b[1;33m\u001b[0m\u001b[0m\n\u001b[0;32m   1182\u001b[0m                     \u001b[0mcallbacks\u001b[0m\u001b[1;33m.\u001b[0m\u001b[0mon_batch_begin\u001b[0m\u001b[1;33m(\u001b[0m\u001b[0mbatch_index\u001b[0m\u001b[1;33m,\u001b[0m \u001b[0mbatch_logs\u001b[0m\u001b[1;33m)\u001b[0m\u001b[1;33m\u001b[0m\u001b[0m\n\u001b[1;32m-> 1183\u001b[1;33m                     \u001b[0mouts\u001b[0m \u001b[1;33m=\u001b[0m \u001b[0mf\u001b[0m\u001b[1;33m(\u001b[0m\u001b[0mins_batch\u001b[0m\u001b[1;33m)\u001b[0m\u001b[1;33m\u001b[0m\u001b[0m\n\u001b[0m\u001b[0;32m   1184\u001b[0m                     \u001b[1;32mif\u001b[0m \u001b[1;32mnot\u001b[0m \u001b[0misinstance\u001b[0m\u001b[1;33m(\u001b[0m\u001b[0mouts\u001b[0m\u001b[1;33m,\u001b[0m \u001b[0mlist\u001b[0m\u001b[1;33m)\u001b[0m\u001b[1;33m:\u001b[0m\u001b[1;33m\u001b[0m\u001b[0m\n\u001b[0;32m   1185\u001b[0m                         \u001b[0mouts\u001b[0m \u001b[1;33m=\u001b[0m \u001b[1;33m[\u001b[0m\u001b[0mouts\u001b[0m\u001b[1;33m]\u001b[0m\u001b[1;33m\u001b[0m\u001b[0m\n",
      "\u001b[1;32m~\\Anaconda3\\lib\\site-packages\\keras\\backend\\tensorflow_backend.py\u001b[0m in \u001b[0;36m__call__\u001b[1;34m(self, inputs)\u001b[0m\n\u001b[0;32m   2271\u001b[0m         updated = session.run(self.outputs + [self.updates_op],\n\u001b[0;32m   2272\u001b[0m                               \u001b[0mfeed_dict\u001b[0m\u001b[1;33m=\u001b[0m\u001b[0mfeed_dict\u001b[0m\u001b[1;33m,\u001b[0m\u001b[1;33m\u001b[0m\u001b[0m\n\u001b[1;32m-> 2273\u001b[1;33m                               **self.session_kwargs)\n\u001b[0m\u001b[0;32m   2274\u001b[0m         \u001b[1;32mreturn\u001b[0m \u001b[0mupdated\u001b[0m\u001b[1;33m[\u001b[0m\u001b[1;33m:\u001b[0m\u001b[0mlen\u001b[0m\u001b[1;33m(\u001b[0m\u001b[0mself\u001b[0m\u001b[1;33m.\u001b[0m\u001b[0moutputs\u001b[0m\u001b[1;33m)\u001b[0m\u001b[1;33m]\u001b[0m\u001b[1;33m\u001b[0m\u001b[0m\n\u001b[0;32m   2275\u001b[0m \u001b[1;33m\u001b[0m\u001b[0m\n",
      "\u001b[1;32m~\\Anaconda3\\lib\\site-packages\\tensorflow\\python\\client\\session.py\u001b[0m in \u001b[0;36mrun\u001b[1;34m(self, fetches, feed_dict, options, run_metadata)\u001b[0m\n\u001b[0;32m    787\u001b[0m     \u001b[1;32mtry\u001b[0m\u001b[1;33m:\u001b[0m\u001b[1;33m\u001b[0m\u001b[0m\n\u001b[0;32m    788\u001b[0m       result = self._run(None, fetches, feed_dict, options_ptr,\n\u001b[1;32m--> 789\u001b[1;33m                          run_metadata_ptr)\n\u001b[0m\u001b[0;32m    790\u001b[0m       \u001b[1;32mif\u001b[0m \u001b[0mrun_metadata\u001b[0m\u001b[1;33m:\u001b[0m\u001b[1;33m\u001b[0m\u001b[0m\n\u001b[0;32m    791\u001b[0m         \u001b[0mproto_data\u001b[0m \u001b[1;33m=\u001b[0m \u001b[0mtf_session\u001b[0m\u001b[1;33m.\u001b[0m\u001b[0mTF_GetBuffer\u001b[0m\u001b[1;33m(\u001b[0m\u001b[0mrun_metadata_ptr\u001b[0m\u001b[1;33m)\u001b[0m\u001b[1;33m\u001b[0m\u001b[0m\n",
      "\u001b[1;32m~\\Anaconda3\\lib\\site-packages\\tensorflow\\python\\client\\session.py\u001b[0m in \u001b[0;36m_run\u001b[1;34m(self, handle, fetches, feed_dict, options, run_metadata)\u001b[0m\n\u001b[0;32m    995\u001b[0m     \u001b[1;32mif\u001b[0m \u001b[0mfinal_fetches\u001b[0m \u001b[1;32mor\u001b[0m \u001b[0mfinal_targets\u001b[0m\u001b[1;33m:\u001b[0m\u001b[1;33m\u001b[0m\u001b[0m\n\u001b[0;32m    996\u001b[0m       results = self._do_run(handle, final_targets, final_fetches,\n\u001b[1;32m--> 997\u001b[1;33m                              feed_dict_string, options, run_metadata)\n\u001b[0m\u001b[0;32m    998\u001b[0m     \u001b[1;32melse\u001b[0m\u001b[1;33m:\u001b[0m\u001b[1;33m\u001b[0m\u001b[0m\n\u001b[0;32m    999\u001b[0m       \u001b[0mresults\u001b[0m \u001b[1;33m=\u001b[0m \u001b[1;33m[\u001b[0m\u001b[1;33m]\u001b[0m\u001b[1;33m\u001b[0m\u001b[0m\n",
      "\u001b[1;32m~\\Anaconda3\\lib\\site-packages\\tensorflow\\python\\client\\session.py\u001b[0m in \u001b[0;36m_do_run\u001b[1;34m(self, handle, target_list, fetch_list, feed_dict, options, run_metadata)\u001b[0m\n\u001b[0;32m   1130\u001b[0m     \u001b[1;32mif\u001b[0m \u001b[0mhandle\u001b[0m \u001b[1;32mis\u001b[0m \u001b[1;32mNone\u001b[0m\u001b[1;33m:\u001b[0m\u001b[1;33m\u001b[0m\u001b[0m\n\u001b[0;32m   1131\u001b[0m       return self._do_call(_run_fn, self._session, feed_dict, fetch_list,\n\u001b[1;32m-> 1132\u001b[1;33m                            target_list, options, run_metadata)\n\u001b[0m\u001b[0;32m   1133\u001b[0m     \u001b[1;32melse\u001b[0m\u001b[1;33m:\u001b[0m\u001b[1;33m\u001b[0m\u001b[0m\n\u001b[0;32m   1134\u001b[0m       return self._do_call(_prun_fn, self._session, handle, feed_dict,\n",
      "\u001b[1;32m~\\Anaconda3\\lib\\site-packages\\tensorflow\\python\\client\\session.py\u001b[0m in \u001b[0;36m_do_call\u001b[1;34m(self, fn, *args)\u001b[0m\n\u001b[0;32m   1137\u001b[0m   \u001b[1;32mdef\u001b[0m \u001b[0m_do_call\u001b[0m\u001b[1;33m(\u001b[0m\u001b[0mself\u001b[0m\u001b[1;33m,\u001b[0m \u001b[0mfn\u001b[0m\u001b[1;33m,\u001b[0m \u001b[1;33m*\u001b[0m\u001b[0margs\u001b[0m\u001b[1;33m)\u001b[0m\u001b[1;33m:\u001b[0m\u001b[1;33m\u001b[0m\u001b[0m\n\u001b[0;32m   1138\u001b[0m     \u001b[1;32mtry\u001b[0m\u001b[1;33m:\u001b[0m\u001b[1;33m\u001b[0m\u001b[0m\n\u001b[1;32m-> 1139\u001b[1;33m       \u001b[1;32mreturn\u001b[0m \u001b[0mfn\u001b[0m\u001b[1;33m(\u001b[0m\u001b[1;33m*\u001b[0m\u001b[0margs\u001b[0m\u001b[1;33m)\u001b[0m\u001b[1;33m\u001b[0m\u001b[0m\n\u001b[0m\u001b[0;32m   1140\u001b[0m     \u001b[1;32mexcept\u001b[0m \u001b[0merrors\u001b[0m\u001b[1;33m.\u001b[0m\u001b[0mOpError\u001b[0m \u001b[1;32mas\u001b[0m \u001b[0me\u001b[0m\u001b[1;33m:\u001b[0m\u001b[1;33m\u001b[0m\u001b[0m\n\u001b[0;32m   1141\u001b[0m       \u001b[0mmessage\u001b[0m \u001b[1;33m=\u001b[0m \u001b[0mcompat\u001b[0m\u001b[1;33m.\u001b[0m\u001b[0mas_text\u001b[0m\u001b[1;33m(\u001b[0m\u001b[0me\u001b[0m\u001b[1;33m.\u001b[0m\u001b[0mmessage\u001b[0m\u001b[1;33m)\u001b[0m\u001b[1;33m\u001b[0m\u001b[0m\n",
      "\u001b[1;32m~\\Anaconda3\\lib\\site-packages\\tensorflow\\python\\client\\session.py\u001b[0m in \u001b[0;36m_run_fn\u001b[1;34m(session, feed_dict, fetch_list, target_list, options, run_metadata)\u001b[0m\n\u001b[0;32m   1119\u001b[0m         return tf_session.TF_Run(session, options,\n\u001b[0;32m   1120\u001b[0m                                  \u001b[0mfeed_dict\u001b[0m\u001b[1;33m,\u001b[0m \u001b[0mfetch_list\u001b[0m\u001b[1;33m,\u001b[0m \u001b[0mtarget_list\u001b[0m\u001b[1;33m,\u001b[0m\u001b[1;33m\u001b[0m\u001b[0m\n\u001b[1;32m-> 1121\u001b[1;33m                                  status, run_metadata)\n\u001b[0m\u001b[0;32m   1122\u001b[0m \u001b[1;33m\u001b[0m\u001b[0m\n\u001b[0;32m   1123\u001b[0m     \u001b[1;32mdef\u001b[0m \u001b[0m_prun_fn\u001b[0m\u001b[1;33m(\u001b[0m\u001b[0msession\u001b[0m\u001b[1;33m,\u001b[0m \u001b[0mhandle\u001b[0m\u001b[1;33m,\u001b[0m \u001b[0mfeed_dict\u001b[0m\u001b[1;33m,\u001b[0m \u001b[0mfetch_list\u001b[0m\u001b[1;33m)\u001b[0m\u001b[1;33m:\u001b[0m\u001b[1;33m\u001b[0m\u001b[0m\n",
      "\u001b[1;31mKeyboardInterrupt\u001b[0m: "
     ]
    }
   ],
   "source": [
    "num_pixels = 32 * 32 * 3\n",
    "num_classes = 10\n",
    "\n",
    "# build the model\n",
    "model = baseline_model()\n",
    "# Fit the model\n",
    "model.fit(x_train, y_train, validation_split=0.2, epochs=10, batch_size=10, verbose=2)\n",
    "# Final evaluation of the model\n",
    "scores = model.evaluate(x_test, y_test, verbose=0)\n",
    "print(\"Baseline Error: %.2f%%\" % (100-scores[1]*100))"
   ]
  },
  {
   "cell_type": "markdown",
   "metadata": {},
   "source": [
    "Run with normalized inputs"
   ]
  },
  {
   "cell_type": "code",
   "execution_count": 20,
   "metadata": {
    "collapsed": true
   },
   "outputs": [],
   "source": [
    "# normalize inputs from 0-255 to 0-1\n",
    "x_train = x_train / 255\n",
    "x_test = x_test / 255"
   ]
  },
  {
   "cell_type": "code",
   "execution_count": 21,
   "metadata": {},
   "outputs": [
    {
     "name": "stdout",
     "output_type": "stream",
     "text": [
      "Train on 40000 samples, validate on 10000 samples\n",
      "Epoch 1/10\n",
      "49s - loss: 14.1651 - acc: 0.1005 - val_loss: 14.5385 - val_acc: 0.0980\n",
      "Epoch 2/10\n",
      "48s - loss: 14.4982 - acc: 0.1005 - val_loss: 14.5385 - val_acc: 0.0980\n",
      "Epoch 3/10\n",
      "47s - loss: 14.4982 - acc: 0.1005 - val_loss: 14.5385 - val_acc: 0.0980\n",
      "Epoch 4/10\n",
      "48s - loss: 14.4982 - acc: 0.1005 - val_loss: 14.5385 - val_acc: 0.0980\n",
      "Epoch 5/10\n",
      "48s - loss: 14.4982 - acc: 0.1005 - val_loss: 14.5385 - val_acc: 0.0980\n",
      "Epoch 6/10\n",
      "48s - loss: 14.4982 - acc: 0.1005 - val_loss: 14.5385 - val_acc: 0.0980\n",
      "Epoch 7/10\n",
      "48s - loss: 14.4982 - acc: 0.1005 - val_loss: 14.5385 - val_acc: 0.0980\n",
      "Epoch 8/10\n",
      "48s - loss: 14.4982 - acc: 0.1005 - val_loss: 14.5385 - val_acc: 0.0980\n",
      "Epoch 9/10\n",
      "48s - loss: 14.4982 - acc: 0.1005 - val_loss: 14.5385 - val_acc: 0.0980\n",
      "Epoch 10/10\n",
      "48s - loss: 14.4982 - acc: 0.1005 - val_loss: 14.5385 - val_acc: 0.0980\n"
     ]
    },
    {
     "data": {
      "text/plain": [
       "<keras.callbacks.History at 0x2be28cfcd68>"
      ]
     },
     "execution_count": 21,
     "metadata": {},
     "output_type": "execute_result"
    },
    {
     "name": "stdout",
     "output_type": "stream",
     "text": [
      "Baseline Error: 90.00%\n"
     ]
    }
   ],
   "source": [
    "num_pixels = 32 * 32 * 3\n",
    "num_classes = 10\n",
    "\n",
    "from keras import optimizers\n",
    "\n",
    "# build the model\n",
    "model = baseline_model()\n",
    "# Fit the model\n",
    "model.fit(x_train, y_train, validation_split=0.2, epochs=10, batch_size=1000, verbose=2)\n",
    "# Final evaluation of the model\n",
    "scores = model.evaluate(x_test, y_test, verbose=0)\n",
    "print(\"Baseline Error: %.2f%%\" % (100-scores[1]*100))"
   ]
  },
  {
   "cell_type": "code",
   "execution_count": 22,
   "metadata": {},
   "outputs": [
    {
     "name": "stdout",
     "output_type": "stream",
     "text": [
      "Train on 50000 samples, validate on 10000 samples\n",
      "Epoch 1/10\n",
      "105s - loss: 2.3060 - acc: 0.1017 - val_loss: 2.3026 - val_acc: 0.1000\n",
      "Epoch 2/10\n",
      "104s - loss: 2.3027 - acc: 0.0982 - val_loss: 2.3026 - val_acc: 0.1000\n",
      "Epoch 3/10\n",
      "103s - loss: 2.3037 - acc: 0.0970 - val_loss: 2.3026 - val_acc: 0.1001\n",
      "Epoch 4/10\n",
      "103s - loss: 2.3032 - acc: 0.0982 - val_loss: 2.3026 - val_acc: 0.1000\n",
      "Epoch 5/10\n",
      "103s - loss: 2.3027 - acc: 0.0991 - val_loss: 2.3026 - val_acc: 0.1000\n",
      "Epoch 6/10\n",
      "105s - loss: 2.3027 - acc: 0.0981 - val_loss: 2.3026 - val_acc: 0.1000\n",
      "Epoch 7/10\n",
      "120s - loss: 2.3030 - acc: 0.0958 - val_loss: 2.3026 - val_acc: 0.1000\n",
      "Epoch 8/10\n"
     ]
    },
    {
     "ename": "KeyboardInterrupt",
     "evalue": "",
     "output_type": "error",
     "traceback": [
      "\u001b[1;31m---------------------------------------------------------------------------\u001b[0m",
      "\u001b[1;31mKeyboardInterrupt\u001b[0m                         Traceback (most recent call last)",
      "\u001b[1;32m<ipython-input-22-aa8f967c4ec3>\u001b[0m in \u001b[0;36m<module>\u001b[1;34m()\u001b[0m\n\u001b[0;32m     21\u001b[0m \u001b[0mmodel\u001b[0m \u001b[1;33m=\u001b[0m \u001b[0mbaseline_plus_hidden\u001b[0m\u001b[1;33m(\u001b[0m\u001b[1;33m)\u001b[0m\u001b[1;33m\u001b[0m\u001b[0m\n\u001b[0;32m     22\u001b[0m \u001b[1;31m# Fit the model\u001b[0m\u001b[1;33m\u001b[0m\u001b[1;33m\u001b[0m\u001b[0m\n\u001b[1;32m---> 23\u001b[1;33m \u001b[0mmodel\u001b[0m\u001b[1;33m.\u001b[0m\u001b[0mfit\u001b[0m\u001b[1;33m(\u001b[0m\u001b[0mx_train\u001b[0m\u001b[1;33m,\u001b[0m \u001b[0my_train\u001b[0m\u001b[1;33m,\u001b[0m \u001b[0mvalidation_data\u001b[0m\u001b[1;33m=\u001b[0m\u001b[1;33m(\u001b[0m\u001b[0mx_test\u001b[0m\u001b[1;33m,\u001b[0m \u001b[0my_test\u001b[0m\u001b[1;33m)\u001b[0m\u001b[1;33m,\u001b[0m \u001b[0mepochs\u001b[0m\u001b[1;33m=\u001b[0m\u001b[1;36m10\u001b[0m\u001b[1;33m,\u001b[0m \u001b[0mbatch_size\u001b[0m\u001b[1;33m=\u001b[0m\u001b[1;36m200\u001b[0m\u001b[1;33m,\u001b[0m \u001b[0mverbose\u001b[0m\u001b[1;33m=\u001b[0m\u001b[1;36m2\u001b[0m\u001b[1;33m)\u001b[0m\u001b[1;33m\u001b[0m\u001b[0m\n\u001b[0m\u001b[0;32m     24\u001b[0m \u001b[1;31m# Final evaluation of the model\u001b[0m\u001b[1;33m\u001b[0m\u001b[1;33m\u001b[0m\u001b[0m\n\u001b[0;32m     25\u001b[0m \u001b[0mscores\u001b[0m \u001b[1;33m=\u001b[0m \u001b[0mmodel\u001b[0m\u001b[1;33m.\u001b[0m\u001b[0mevaluate\u001b[0m\u001b[1;33m(\u001b[0m\u001b[0mx_test\u001b[0m\u001b[1;33m,\u001b[0m \u001b[0my_test\u001b[0m\u001b[1;33m,\u001b[0m \u001b[0mverbose\u001b[0m\u001b[1;33m=\u001b[0m\u001b[1;36m0\u001b[0m\u001b[1;33m)\u001b[0m\u001b[1;33m\u001b[0m\u001b[0m\n",
      "\u001b[1;32m~\\Anaconda3\\lib\\site-packages\\keras\\models.py\u001b[0m in \u001b[0;36mfit\u001b[1;34m(self, x, y, batch_size, epochs, verbose, callbacks, validation_split, validation_data, shuffle, class_weight, sample_weight, initial_epoch, **kwargs)\u001b[0m\n\u001b[0;32m    865\u001b[0m                               \u001b[0mclass_weight\u001b[0m\u001b[1;33m=\u001b[0m\u001b[0mclass_weight\u001b[0m\u001b[1;33m,\u001b[0m\u001b[1;33m\u001b[0m\u001b[0m\n\u001b[0;32m    866\u001b[0m                               \u001b[0msample_weight\u001b[0m\u001b[1;33m=\u001b[0m\u001b[0msample_weight\u001b[0m\u001b[1;33m,\u001b[0m\u001b[1;33m\u001b[0m\u001b[0m\n\u001b[1;32m--> 867\u001b[1;33m                               initial_epoch=initial_epoch)\n\u001b[0m\u001b[0;32m    868\u001b[0m \u001b[1;33m\u001b[0m\u001b[0m\n\u001b[0;32m    869\u001b[0m     def evaluate(self, x, y, batch_size=32, verbose=1,\n",
      "\u001b[1;32m~\\Anaconda3\\lib\\site-packages\\keras\\engine\\training.py\u001b[0m in \u001b[0;36mfit\u001b[1;34m(self, x, y, batch_size, epochs, verbose, callbacks, validation_split, validation_data, shuffle, class_weight, sample_weight, initial_epoch, steps_per_epoch, validation_steps, **kwargs)\u001b[0m\n\u001b[0;32m   1596\u001b[0m                               \u001b[0minitial_epoch\u001b[0m\u001b[1;33m=\u001b[0m\u001b[0minitial_epoch\u001b[0m\u001b[1;33m,\u001b[0m\u001b[1;33m\u001b[0m\u001b[0m\n\u001b[0;32m   1597\u001b[0m                               \u001b[0msteps_per_epoch\u001b[0m\u001b[1;33m=\u001b[0m\u001b[0msteps_per_epoch\u001b[0m\u001b[1;33m,\u001b[0m\u001b[1;33m\u001b[0m\u001b[0m\n\u001b[1;32m-> 1598\u001b[1;33m                               validation_steps=validation_steps)\n\u001b[0m\u001b[0;32m   1599\u001b[0m \u001b[1;33m\u001b[0m\u001b[0m\n\u001b[0;32m   1600\u001b[0m     def evaluate(self, x, y,\n",
      "\u001b[1;32m~\\Anaconda3\\lib\\site-packages\\keras\\engine\\training.py\u001b[0m in \u001b[0;36m_fit_loop\u001b[1;34m(self, f, ins, out_labels, batch_size, epochs, verbose, callbacks, val_f, val_ins, shuffle, callback_metrics, initial_epoch, steps_per_epoch, validation_steps)\u001b[0m\n\u001b[0;32m   1181\u001b[0m                     \u001b[0mbatch_logs\u001b[0m\u001b[1;33m[\u001b[0m\u001b[1;34m'size'\u001b[0m\u001b[1;33m]\u001b[0m \u001b[1;33m=\u001b[0m \u001b[0mlen\u001b[0m\u001b[1;33m(\u001b[0m\u001b[0mbatch_ids\u001b[0m\u001b[1;33m)\u001b[0m\u001b[1;33m\u001b[0m\u001b[0m\n\u001b[0;32m   1182\u001b[0m                     \u001b[0mcallbacks\u001b[0m\u001b[1;33m.\u001b[0m\u001b[0mon_batch_begin\u001b[0m\u001b[1;33m(\u001b[0m\u001b[0mbatch_index\u001b[0m\u001b[1;33m,\u001b[0m \u001b[0mbatch_logs\u001b[0m\u001b[1;33m)\u001b[0m\u001b[1;33m\u001b[0m\u001b[0m\n\u001b[1;32m-> 1183\u001b[1;33m                     \u001b[0mouts\u001b[0m \u001b[1;33m=\u001b[0m \u001b[0mf\u001b[0m\u001b[1;33m(\u001b[0m\u001b[0mins_batch\u001b[0m\u001b[1;33m)\u001b[0m\u001b[1;33m\u001b[0m\u001b[0m\n\u001b[0m\u001b[0;32m   1184\u001b[0m                     \u001b[1;32mif\u001b[0m \u001b[1;32mnot\u001b[0m \u001b[0misinstance\u001b[0m\u001b[1;33m(\u001b[0m\u001b[0mouts\u001b[0m\u001b[1;33m,\u001b[0m \u001b[0mlist\u001b[0m\u001b[1;33m)\u001b[0m\u001b[1;33m:\u001b[0m\u001b[1;33m\u001b[0m\u001b[0m\n\u001b[0;32m   1185\u001b[0m                         \u001b[0mouts\u001b[0m \u001b[1;33m=\u001b[0m \u001b[1;33m[\u001b[0m\u001b[0mouts\u001b[0m\u001b[1;33m]\u001b[0m\u001b[1;33m\u001b[0m\u001b[0m\n",
      "\u001b[1;32m~\\Anaconda3\\lib\\site-packages\\keras\\backend\\tensorflow_backend.py\u001b[0m in \u001b[0;36m__call__\u001b[1;34m(self, inputs)\u001b[0m\n\u001b[0;32m   2271\u001b[0m         updated = session.run(self.outputs + [self.updates_op],\n\u001b[0;32m   2272\u001b[0m                               \u001b[0mfeed_dict\u001b[0m\u001b[1;33m=\u001b[0m\u001b[0mfeed_dict\u001b[0m\u001b[1;33m,\u001b[0m\u001b[1;33m\u001b[0m\u001b[0m\n\u001b[1;32m-> 2273\u001b[1;33m                               **self.session_kwargs)\n\u001b[0m\u001b[0;32m   2274\u001b[0m         \u001b[1;32mreturn\u001b[0m \u001b[0mupdated\u001b[0m\u001b[1;33m[\u001b[0m\u001b[1;33m:\u001b[0m\u001b[0mlen\u001b[0m\u001b[1;33m(\u001b[0m\u001b[0mself\u001b[0m\u001b[1;33m.\u001b[0m\u001b[0moutputs\u001b[0m\u001b[1;33m)\u001b[0m\u001b[1;33m]\u001b[0m\u001b[1;33m\u001b[0m\u001b[0m\n\u001b[0;32m   2275\u001b[0m \u001b[1;33m\u001b[0m\u001b[0m\n",
      "\u001b[1;32m~\\Anaconda3\\lib\\site-packages\\tensorflow\\python\\client\\session.py\u001b[0m in \u001b[0;36mrun\u001b[1;34m(self, fetches, feed_dict, options, run_metadata)\u001b[0m\n\u001b[0;32m    787\u001b[0m     \u001b[1;32mtry\u001b[0m\u001b[1;33m:\u001b[0m\u001b[1;33m\u001b[0m\u001b[0m\n\u001b[0;32m    788\u001b[0m       result = self._run(None, fetches, feed_dict, options_ptr,\n\u001b[1;32m--> 789\u001b[1;33m                          run_metadata_ptr)\n\u001b[0m\u001b[0;32m    790\u001b[0m       \u001b[1;32mif\u001b[0m \u001b[0mrun_metadata\u001b[0m\u001b[1;33m:\u001b[0m\u001b[1;33m\u001b[0m\u001b[0m\n\u001b[0;32m    791\u001b[0m         \u001b[0mproto_data\u001b[0m \u001b[1;33m=\u001b[0m \u001b[0mtf_session\u001b[0m\u001b[1;33m.\u001b[0m\u001b[0mTF_GetBuffer\u001b[0m\u001b[1;33m(\u001b[0m\u001b[0mrun_metadata_ptr\u001b[0m\u001b[1;33m)\u001b[0m\u001b[1;33m\u001b[0m\u001b[0m\n",
      "\u001b[1;32m~\\Anaconda3\\lib\\site-packages\\tensorflow\\python\\client\\session.py\u001b[0m in \u001b[0;36m_run\u001b[1;34m(self, handle, fetches, feed_dict, options, run_metadata)\u001b[0m\n\u001b[0;32m    995\u001b[0m     \u001b[1;32mif\u001b[0m \u001b[0mfinal_fetches\u001b[0m \u001b[1;32mor\u001b[0m \u001b[0mfinal_targets\u001b[0m\u001b[1;33m:\u001b[0m\u001b[1;33m\u001b[0m\u001b[0m\n\u001b[0;32m    996\u001b[0m       results = self._do_run(handle, final_targets, final_fetches,\n\u001b[1;32m--> 997\u001b[1;33m                              feed_dict_string, options, run_metadata)\n\u001b[0m\u001b[0;32m    998\u001b[0m     \u001b[1;32melse\u001b[0m\u001b[1;33m:\u001b[0m\u001b[1;33m\u001b[0m\u001b[0m\n\u001b[0;32m    999\u001b[0m       \u001b[0mresults\u001b[0m \u001b[1;33m=\u001b[0m \u001b[1;33m[\u001b[0m\u001b[1;33m]\u001b[0m\u001b[1;33m\u001b[0m\u001b[0m\n",
      "\u001b[1;32m~\\Anaconda3\\lib\\site-packages\\tensorflow\\python\\client\\session.py\u001b[0m in \u001b[0;36m_do_run\u001b[1;34m(self, handle, target_list, fetch_list, feed_dict, options, run_metadata)\u001b[0m\n\u001b[0;32m   1130\u001b[0m     \u001b[1;32mif\u001b[0m \u001b[0mhandle\u001b[0m \u001b[1;32mis\u001b[0m \u001b[1;32mNone\u001b[0m\u001b[1;33m:\u001b[0m\u001b[1;33m\u001b[0m\u001b[0m\n\u001b[0;32m   1131\u001b[0m       return self._do_call(_run_fn, self._session, feed_dict, fetch_list,\n\u001b[1;32m-> 1132\u001b[1;33m                            target_list, options, run_metadata)\n\u001b[0m\u001b[0;32m   1133\u001b[0m     \u001b[1;32melse\u001b[0m\u001b[1;33m:\u001b[0m\u001b[1;33m\u001b[0m\u001b[0m\n\u001b[0;32m   1134\u001b[0m       return self._do_call(_prun_fn, self._session, handle, feed_dict,\n",
      "\u001b[1;32m~\\Anaconda3\\lib\\site-packages\\tensorflow\\python\\client\\session.py\u001b[0m in \u001b[0;36m_do_call\u001b[1;34m(self, fn, *args)\u001b[0m\n\u001b[0;32m   1137\u001b[0m   \u001b[1;32mdef\u001b[0m \u001b[0m_do_call\u001b[0m\u001b[1;33m(\u001b[0m\u001b[0mself\u001b[0m\u001b[1;33m,\u001b[0m \u001b[0mfn\u001b[0m\u001b[1;33m,\u001b[0m \u001b[1;33m*\u001b[0m\u001b[0margs\u001b[0m\u001b[1;33m)\u001b[0m\u001b[1;33m:\u001b[0m\u001b[1;33m\u001b[0m\u001b[0m\n\u001b[0;32m   1138\u001b[0m     \u001b[1;32mtry\u001b[0m\u001b[1;33m:\u001b[0m\u001b[1;33m\u001b[0m\u001b[0m\n\u001b[1;32m-> 1139\u001b[1;33m       \u001b[1;32mreturn\u001b[0m \u001b[0mfn\u001b[0m\u001b[1;33m(\u001b[0m\u001b[1;33m*\u001b[0m\u001b[0margs\u001b[0m\u001b[1;33m)\u001b[0m\u001b[1;33m\u001b[0m\u001b[0m\n\u001b[0m\u001b[0;32m   1140\u001b[0m     \u001b[1;32mexcept\u001b[0m \u001b[0merrors\u001b[0m\u001b[1;33m.\u001b[0m\u001b[0mOpError\u001b[0m \u001b[1;32mas\u001b[0m \u001b[0me\u001b[0m\u001b[1;33m:\u001b[0m\u001b[1;33m\u001b[0m\u001b[0m\n\u001b[0;32m   1141\u001b[0m       \u001b[0mmessage\u001b[0m \u001b[1;33m=\u001b[0m \u001b[0mcompat\u001b[0m\u001b[1;33m.\u001b[0m\u001b[0mas_text\u001b[0m\u001b[1;33m(\u001b[0m\u001b[0me\u001b[0m\u001b[1;33m.\u001b[0m\u001b[0mmessage\u001b[0m\u001b[1;33m)\u001b[0m\u001b[1;33m\u001b[0m\u001b[0m\n",
      "\u001b[1;32m~\\Anaconda3\\lib\\site-packages\\tensorflow\\python\\client\\session.py\u001b[0m in \u001b[0;36m_run_fn\u001b[1;34m(session, feed_dict, fetch_list, target_list, options, run_metadata)\u001b[0m\n\u001b[0;32m   1119\u001b[0m         return tf_session.TF_Run(session, options,\n\u001b[0;32m   1120\u001b[0m                                  \u001b[0mfeed_dict\u001b[0m\u001b[1;33m,\u001b[0m \u001b[0mfetch_list\u001b[0m\u001b[1;33m,\u001b[0m \u001b[0mtarget_list\u001b[0m\u001b[1;33m,\u001b[0m\u001b[1;33m\u001b[0m\u001b[0m\n\u001b[1;32m-> 1121\u001b[1;33m                                  status, run_metadata)\n\u001b[0m\u001b[0;32m   1122\u001b[0m \u001b[1;33m\u001b[0m\u001b[0m\n\u001b[0;32m   1123\u001b[0m     \u001b[1;32mdef\u001b[0m \u001b[0m_prun_fn\u001b[0m\u001b[1;33m(\u001b[0m\u001b[0msession\u001b[0m\u001b[1;33m,\u001b[0m \u001b[0mhandle\u001b[0m\u001b[1;33m,\u001b[0m \u001b[0mfeed_dict\u001b[0m\u001b[1;33m,\u001b[0m \u001b[0mfetch_list\u001b[0m\u001b[1;33m)\u001b[0m\u001b[1;33m:\u001b[0m\u001b[1;33m\u001b[0m\u001b[0m\n",
      "\u001b[1;31mKeyboardInterrupt\u001b[0m: "
     ]
    }
   ],
   "source": [
    "num_pixels = 32 * 32 * 3   # 3072\n",
    "num_classes = 10\n",
    "\n",
    "from keras.optimizers import Adam\n",
    "\n",
    "# define baseline model\n",
    "def baseline_plus_hidden():\n",
    "    # create model\n",
    "    model = Sequential()\n",
    "    model.add(Dense(num_pixels, input_dim=num_pixels, kernel_initializer='normal', activation='relu'))\n",
    "    model.add(Dropout(0.5))\n",
    "    model.add(Dense(64, activation='relu'))\n",
    "    model.add(Dropout(0.5))\n",
    "    model.add(Dense(num_classes, kernel_initializer='normal', activation='softmax'))\n",
    "    # Compile model\n",
    "    adam = keras.optimizers.Adam(lr=0.001, beta_1=0.9, beta_2=0.999, epsilon=1e-08, decay=0.0)\n",
    "    model.compile(loss='categorical_crossentropy', optimizer=adam, metrics=['accuracy'])\n",
    "    return model\n",
    "\n",
    "# build the model\n",
    "model = baseline_plus_hidden()\n",
    "# Fit the model\n",
    "model.fit(x_train, y_train, validation_data=(x_test, y_test), epochs=10, batch_size=200, verbose=2)\n",
    "# Final evaluation of the model\n",
    "scores = model.evaluate(x_test, y_test, verbose=0)\n",
    "print(\"Baseline Error: %.2f%%\" % (100-scores[1]*100))"
   ]
  },
  {
   "cell_type": "code",
   "execution_count": 25,
   "metadata": {},
   "outputs": [
    {
     "name": "stdout",
     "output_type": "stream",
     "text": [
      "Train on 50000 samples, validate on 10000 samples\n",
      "Epoch 1/10\n",
      "97s - loss: 2.2646 - acc: 0.1595 - val_loss: 2.1757 - val_acc: 0.2011\n",
      "Epoch 2/10\n",
      "91s - loss: 2.1155 - acc: 0.2015 - val_loss: 2.0545 - val_acc: 0.2521\n",
      "Epoch 3/10\n",
      "90s - loss: 2.0453 - acc: 0.2362 - val_loss: 1.9957 - val_acc: 0.2803\n",
      "Epoch 4/10\n",
      "90s - loss: 2.0002 - acc: 0.2583 - val_loss: 1.9531 - val_acc: 0.2946\n",
      "Epoch 5/10\n",
      "89s - loss: 1.9686 - acc: 0.2740 - val_loss: 1.9255 - val_acc: 0.3062\n",
      "Epoch 6/10\n",
      "89s - loss: 1.9516 - acc: 0.2825 - val_loss: 1.9076 - val_acc: 0.3120\n",
      "Epoch 7/10\n",
      "89s - loss: 1.9357 - acc: 0.2923 - val_loss: 1.8935 - val_acc: 0.3189\n",
      "Epoch 8/10\n",
      "89s - loss: 1.9218 - acc: 0.2991 - val_loss: 1.8787 - val_acc: 0.3208\n",
      "Epoch 9/10\n",
      "89s - loss: 1.9071 - acc: 0.3066 - val_loss: 1.8670 - val_acc: 0.3248\n",
      "Epoch 10/10\n",
      "90s - loss: 1.8976 - acc: 0.3110 - val_loss: 1.8522 - val_acc: 0.3332\n"
     ]
    },
    {
     "data": {
      "text/plain": [
       "<keras.callbacks.History at 0x23a216e17b8>"
      ]
     },
     "execution_count": 25,
     "metadata": {},
     "output_type": "execute_result"
    },
    {
     "name": "stdout",
     "output_type": "stream",
     "text": [
      "Baseline Error: 66.68%\n"
     ]
    }
   ],
   "source": [
    "num_pixels = 32 * 32 * 3   # 3072\n",
    "num_classes = 10\n",
    "\n",
    "from keras.optimizers import Adam\n",
    "\n",
    "# define baseline model\n",
    "def baseline_plus_hidden():\n",
    "    # create model\n",
    "    model = Sequential()\n",
    "    model.add(Dense(num_pixels, input_dim=num_pixels, kernel_initializer='normal', activation='relu'))\n",
    "    model.add(Dropout(0.5))\n",
    "    model.add(Dense(64, activation='relu'))\n",
    "    model.add(Dropout(0.5))\n",
    "    model.add(Dense(num_classes, kernel_initializer='normal', activation='softmax'))\n",
    "    # Compile model\n",
    "    adam = keras.optimizers.Adam(lr=0.0001, beta_1=0.9, beta_2=0.999, epsilon=1e-08, decay=0.0)\n",
    "    model.compile(loss='categorical_crossentropy', optimizer=adam, metrics=['accuracy'])\n",
    "    return model\n",
    "\n",
    "# build the model\n",
    "model = baseline_plus_hidden()\n",
    "# Fit the model\n",
    "model.fit(x_train, y_train, validation_data=(x_test, y_test), epochs=10, batch_size=200, verbose=2)\n",
    "# Final evaluation of the model\n",
    "scores = model.evaluate(x_test, y_test, verbose=0)\n",
    "print(\"Baseline Error: %.2f%%\" % (100-scores[1]*100))"
   ]
  },
  {
   "cell_type": "code",
   "execution_count": 17,
   "metadata": {
    "collapsed": true
   },
   "outputs": [],
   "source": [
    "from keras.models import Sequential\n",
    "from keras.layers import Dense\n",
    "from keras.layers import Dropout\n",
    "from keras.layers import Flatten\n",
    "from keras.layers.convolutional import Conv2D\n",
    "from keras.layers.convolutional import MaxPooling2D\n",
    "from keras.utils import np_utils\n",
    "# from keras import backend as K\n",
    "# K.set_image_dim_ordering('tf')"
   ]
  },
  {
   "cell_type": "code",
   "execution_count": 74,
   "metadata": {
    "collapsed": true
   },
   "outputs": [],
   "source": [
    "# # load data\n",
    "# (X_train, y_train), (X_test, y_test) = cifar10.load_data()\n",
    "# # reshape to be [samples][pixels][width][height]\n",
    "# X_train = X_train.reshape(X_train.shape[0], 3, 32, 32).astype('float32')\n",
    "# X_test = X_test.reshape(X_test.shape[0], 3, 32, 32).astype('float32')"
   ]
  },
  {
   "cell_type": "code",
   "execution_count": 19,
   "metadata": {},
   "outputs": [
    {
     "data": {
      "text/plain": [
       "10"
      ]
     },
     "execution_count": 19,
     "metadata": {},
     "output_type": "execute_result"
    }
   ],
   "source": [
    "# # normalize inputs from 0-255 to 0-1\n",
    "# x_train = x_train / 255\n",
    "# x_test = x_test / 255\n",
    "# # one hot encode outputs\n",
    "# y_train = np_utils.to_categorical(y_train)\n",
    "# y_test = np_utils.to_categorical(y_test)\n",
    "# num_classes = y_train.shape[1]\n",
    "# num_classes"
   ]
  },
  {
   "cell_type": "code",
   "execution_count": 18,
   "metadata": {
    "collapsed": true
   },
   "outputs": [],
   "source": [
    "X_train = x_train.reshape(50000, 32, 32, 3)\n",
    "X_test = x_test.reshape(10000, 32, 32, 3)"
   ]
  },
  {
   "cell_type": "code",
   "execution_count": 55,
   "metadata": {
    "collapsed": true
   },
   "outputs": [],
   "source": [
    "def convolution_model():\n",
    "    # create model\n",
    "    model = Sequential()\n",
    "    model.add(Conv2D(32, (5, 5), input_shape=(32, 32, 3), activation='relu'))\n",
    "    model.add(MaxPooling2D(pool_size=(2, 2)))\n",
    "    model.add(Dropout(0.2))\n",
    "    model.add(Flatten())\n",
    "    model.add(Dense(128, activation='relu'))\n",
    "    model.add(Dense(10, activation='softmax'))\n",
    "    # Compile model\n",
    "    adam = keras.optimizers.Adam(lr=0.001, beta_1=0.9, beta_2=0.999, epsilon=1e-08, decay=0.0)\n",
    "    model.compile(loss='categorical_crossentropy', optimizer=adam, metrics=['accuracy'])\n",
    "    return model"
   ]
  },
  {
   "cell_type": "code",
   "execution_count": 57,
   "metadata": {
    "scrolled": true
   },
   "outputs": [
    {
     "name": "stdout",
     "output_type": "stream",
     "text": [
      "Train on 50000 samples, validate on 10000 samples\n",
      "Epoch 1/10\n",
      "67s - loss: 2.0858 - acc: 0.2374 - val_loss: 1.9498 - val_acc: 0.3084\n",
      "Epoch 2/10\n",
      "64s - loss: 1.8942 - acc: 0.3228 - val_loss: 1.8188 - val_acc: 0.3567\n",
      "Epoch 3/10\n",
      "71s - loss: 1.7938 - acc: 0.3618 - val_loss: 1.7492 - val_acc: 0.3727\n",
      "Epoch 4/10\n",
      "78s - loss: 1.7305 - acc: 0.3837 - val_loss: 1.6826 - val_acc: 0.4070\n",
      "Epoch 5/10\n",
      "75s - loss: 1.6815 - acc: 0.4017 - val_loss: 1.6410 - val_acc: 0.4181\n",
      "Epoch 6/10\n",
      "65s - loss: 1.6424 - acc: 0.4150 - val_loss: 1.5986 - val_acc: 0.4317\n",
      "Epoch 7/10\n",
      "64s - loss: 1.6049 - acc: 0.4249 - val_loss: 1.5761 - val_acc: 0.4405\n",
      "Epoch 8/10\n",
      "77s - loss: 1.5757 - acc: 0.4361 - val_loss: 1.5376 - val_acc: 0.4544\n",
      "Epoch 9/10\n",
      "83s - loss: 1.5490 - acc: 0.4449 - val_loss: 1.5118 - val_acc: 0.4647\n",
      "Epoch 10/10\n",
      "80s - loss: 1.5279 - acc: 0.4540 - val_loss: 1.4950 - val_acc: 0.4709\n"
     ]
    },
    {
     "data": {
      "text/plain": [
       "<keras.callbacks.History at 0x23a2cdf59b0>"
      ]
     },
     "execution_count": 57,
     "metadata": {},
     "output_type": "execute_result"
    },
    {
     "name": "stdout",
     "output_type": "stream",
     "text": [
      "Baseline Error: 52.91%\n"
     ]
    }
   ],
   "source": [
    "# build the model\n",
    "model = convolution_model()\n",
    "# Fit the model\n",
    "model.fit(X_train, y_train, validation_data=(X_test, y_test), epochs=10, batch_size=200, verbose=1)\n",
    "# Final evaluation of the model\n",
    "scores = model.evaluate(X_test, y_test, verbose=1)\n",
    "print(\"Convolution Error: %.2f%%\" % (100-scores[1]*100))"
   ]
  },
  {
   "cell_type": "code",
   "execution_count": 60,
   "metadata": {},
   "outputs": [
    {
     "name": "stdout",
     "output_type": "stream",
     "text": [
      "Train on 50000 samples, validate on 10000 samples\n",
      "Epoch 1/100\n",
      "121s - loss: 2.0900 - acc: 0.2266 - val_loss: 1.9423 - val_acc: 0.3001\n",
      "Epoch 2/100\n",
      "113s - loss: 1.9325 - acc: 0.2956 - val_loss: 1.8936 - val_acc: 0.3120\n",
      "Epoch 3/100\n",
      "124s - loss: 1.8715 - acc: 0.3237 - val_loss: 1.8090 - val_acc: 0.3490\n",
      "Epoch 4/100\n",
      "124s - loss: 1.8107 - acc: 0.3503 - val_loss: 1.7542 - val_acc: 0.3762\n",
      "Epoch 5/100\n",
      "127s - loss: 1.7631 - acc: 0.3670 - val_loss: 1.7163 - val_acc: 0.3847\n",
      "Epoch 6/100\n",
      "128s - loss: 1.7113 - acc: 0.3856 - val_loss: 1.6528 - val_acc: 0.4069\n",
      "Epoch 7/100\n",
      "114s - loss: 1.6704 - acc: 0.4022 - val_loss: 1.6225 - val_acc: 0.4219\n",
      "Epoch 8/100\n",
      "112s - loss: 1.6427 - acc: 0.4143 - val_loss: 1.6010 - val_acc: 0.4307\n",
      "Epoch 9/100\n",
      "112s - loss: 1.6166 - acc: 0.4235 - val_loss: 1.5680 - val_acc: 0.4386\n",
      "Epoch 10/100\n",
      "109s - loss: 1.5987 - acc: 0.4279 - val_loss: 1.5679 - val_acc: 0.4404\n",
      "Epoch 11/100\n",
      "107s - loss: 1.5783 - acc: 0.4367 - val_loss: 1.5380 - val_acc: 0.4490\n",
      "Epoch 12/100\n",
      "107s - loss: 1.5611 - acc: 0.4428 - val_loss: 1.5351 - val_acc: 0.4537\n",
      "Epoch 13/100\n",
      "113s - loss: 1.5456 - acc: 0.4472 - val_loss: 1.5219 - val_acc: 0.4535\n",
      "Epoch 14/100\n",
      "118s - loss: 1.5297 - acc: 0.4529 - val_loss: 1.4917 - val_acc: 0.4668\n",
      "Epoch 15/100\n",
      "112s - loss: 1.5190 - acc: 0.4559 - val_loss: 1.4885 - val_acc: 0.4704\n",
      "Epoch 16/100\n",
      "108s - loss: 1.5027 - acc: 0.4611 - val_loss: 1.4748 - val_acc: 0.4760\n",
      "Epoch 17/100\n",
      "116s - loss: 1.4885 - acc: 0.4675 - val_loss: 1.4619 - val_acc: 0.4782\n",
      "Epoch 18/100\n",
      "137s - loss: 1.4772 - acc: 0.4724 - val_loss: 1.4579 - val_acc: 0.4736\n",
      "Epoch 19/100\n",
      "135s - loss: 1.4644 - acc: 0.4765 - val_loss: 1.4442 - val_acc: 0.4818\n",
      "Epoch 20/100\n",
      "123s - loss: 1.4529 - acc: 0.4805 - val_loss: 1.4358 - val_acc: 0.4857\n",
      "Epoch 21/100\n",
      "124s - loss: 1.4437 - acc: 0.4822 - val_loss: 1.4291 - val_acc: 0.4903\n",
      "Epoch 22/100\n",
      "139s - loss: 1.4306 - acc: 0.4883 - val_loss: 1.4128 - val_acc: 0.4930\n",
      "Epoch 23/100\n",
      "146s - loss: 1.4202 - acc: 0.4930 - val_loss: 1.4292 - val_acc: 0.4911\n",
      "Epoch 24/100\n",
      "125s - loss: 1.4126 - acc: 0.4938 - val_loss: 1.3992 - val_acc: 0.5010\n",
      "Epoch 25/100\n",
      "130s - loss: 1.4041 - acc: 0.4987 - val_loss: 1.4085 - val_acc: 0.4965\n",
      "Epoch 26/100\n",
      "130s - loss: 1.3960 - acc: 0.5000 - val_loss: 1.3840 - val_acc: 0.5055\n",
      "Epoch 27/100\n",
      "123s - loss: 1.3867 - acc: 0.5035 - val_loss: 1.3846 - val_acc: 0.5042\n",
      "Epoch 28/100\n",
      "126s - loss: 1.3780 - acc: 0.5092 - val_loss: 1.3785 - val_acc: 0.5108\n",
      "Epoch 29/100\n",
      "120s - loss: 1.3727 - acc: 0.5095 - val_loss: 1.3648 - val_acc: 0.5135\n",
      "Epoch 30/100\n",
      "118s - loss: 1.3623 - acc: 0.5134 - val_loss: 1.3547 - val_acc: 0.5182\n",
      "Epoch 31/100\n",
      "128s - loss: 1.3539 - acc: 0.5170 - val_loss: 1.3619 - val_acc: 0.5166\n",
      "Epoch 32/100\n",
      "130s - loss: 1.3464 - acc: 0.5210 - val_loss: 1.3391 - val_acc: 0.5251\n",
      "Epoch 33/100\n",
      "128s - loss: 1.3355 - acc: 0.5216 - val_loss: 1.3405 - val_acc: 0.5229\n",
      "Epoch 34/100\n",
      "119s - loss: 1.3318 - acc: 0.5244 - val_loss: 1.3394 - val_acc: 0.5231\n",
      "Epoch 35/100\n",
      "120s - loss: 1.3216 - acc: 0.5291 - val_loss: 1.3441 - val_acc: 0.5178\n",
      "Epoch 36/100\n",
      "123s - loss: 1.3139 - acc: 0.5338 - val_loss: 1.3174 - val_acc: 0.5286\n",
      "Epoch 37/100\n",
      "122s - loss: 1.3057 - acc: 0.5328 - val_loss: 1.3135 - val_acc: 0.5320\n",
      "Epoch 38/100\n",
      "115s - loss: 1.2963 - acc: 0.5359 - val_loss: 1.3217 - val_acc: 0.5309\n",
      "Epoch 39/100\n",
      "122s - loss: 1.2934 - acc: 0.5397 - val_loss: 1.3011 - val_acc: 0.5360\n",
      "Epoch 40/100\n",
      "120s - loss: 1.2843 - acc: 0.5415 - val_loss: 1.3037 - val_acc: 0.5343\n",
      "Epoch 41/100\n",
      "121s - loss: 1.2824 - acc: 0.5421 - val_loss: 1.2999 - val_acc: 0.5382\n",
      "Epoch 42/100\n",
      "119s - loss: 1.2752 - acc: 0.5451 - val_loss: 1.3140 - val_acc: 0.5342\n",
      "Epoch 43/100\n",
      "118s - loss: 1.2713 - acc: 0.5462 - val_loss: 1.2865 - val_acc: 0.5420\n",
      "Epoch 44/100\n",
      "118s - loss: 1.2597 - acc: 0.5488 - val_loss: 1.2864 - val_acc: 0.5402\n",
      "Epoch 45/100\n",
      "118s - loss: 1.2579 - acc: 0.5505 - val_loss: 1.2841 - val_acc: 0.5441\n",
      "Epoch 46/100\n",
      "123s - loss: 1.2522 - acc: 0.5508 - val_loss: 1.2752 - val_acc: 0.5461\n",
      "Epoch 47/100\n",
      "115s - loss: 1.2453 - acc: 0.5548 - val_loss: 1.2681 - val_acc: 0.5474\n",
      "Epoch 48/100\n",
      "119s - loss: 1.2363 - acc: 0.5587 - val_loss: 1.2745 - val_acc: 0.5458\n",
      "Epoch 49/100\n",
      "118s - loss: 1.2338 - acc: 0.5589 - val_loss: 1.2745 - val_acc: 0.5492\n",
      "Epoch 50/100\n",
      "117s - loss: 1.2265 - acc: 0.5623 - val_loss: 1.2623 - val_acc: 0.5537\n",
      "Epoch 51/100\n",
      "120s - loss: 1.2303 - acc: 0.5599 - val_loss: 1.2785 - val_acc: 0.5499\n",
      "Epoch 52/100\n",
      "121s - loss: 1.2184 - acc: 0.5651 - val_loss: 1.2629 - val_acc: 0.5492\n",
      "Epoch 53/100\n",
      "139s - loss: 1.2157 - acc: 0.5665 - val_loss: 1.2515 - val_acc: 0.5540\n",
      "Epoch 54/100\n",
      "126s - loss: 1.2092 - acc: 0.5663 - val_loss: 1.2508 - val_acc: 0.5552\n",
      "Epoch 55/100\n",
      "124s - loss: 1.2069 - acc: 0.5688 - val_loss: 1.2449 - val_acc: 0.5569\n",
      "Epoch 56/100\n",
      "154s - loss: 1.2003 - acc: 0.5714 - val_loss: 1.2441 - val_acc: 0.5576\n",
      "Epoch 57/100\n",
      "145s - loss: 1.1947 - acc: 0.5736 - val_loss: 1.2542 - val_acc: 0.5538\n",
      "Epoch 58/100\n",
      "141s - loss: 1.1917 - acc: 0.5729 - val_loss: 1.2417 - val_acc: 0.5560\n",
      "Epoch 59/100\n",
      "147s - loss: 1.1891 - acc: 0.5760 - val_loss: 1.2475 - val_acc: 0.5546\n",
      "Epoch 60/100\n",
      "140s - loss: 1.1871 - acc: 0.5746 - val_loss: 1.2517 - val_acc: 0.5546\n",
      "Epoch 61/100\n",
      "144s - loss: 1.1814 - acc: 0.5799 - val_loss: 1.2279 - val_acc: 0.5614\n",
      "Epoch 62/100\n",
      "139s - loss: 1.1744 - acc: 0.5794 - val_loss: 1.2351 - val_acc: 0.5584\n",
      "Epoch 63/100\n",
      "139s - loss: 1.1676 - acc: 0.5831 - val_loss: 1.2301 - val_acc: 0.5628\n",
      "Epoch 64/100\n",
      "135s - loss: 1.1667 - acc: 0.5826 - val_loss: 1.2593 - val_acc: 0.5528\n",
      "Epoch 65/100\n",
      "129s - loss: 1.1614 - acc: 0.5844 - val_loss: 1.2509 - val_acc: 0.5555\n",
      "Epoch 66/100\n",
      "158s - loss: 1.1647 - acc: 0.5834 - val_loss: 1.2338 - val_acc: 0.5597\n",
      "Epoch 67/100\n",
      "123s - loss: 1.1564 - acc: 0.5884 - val_loss: 1.2303 - val_acc: 0.5615\n",
      "Epoch 68/100\n",
      "121s - loss: 1.1505 - acc: 0.5906 - val_loss: 1.2216 - val_acc: 0.5631\n",
      "Epoch 69/100\n",
      "120s - loss: 1.1486 - acc: 0.5897 - val_loss: 1.2219 - val_acc: 0.5643\n",
      "Epoch 70/100\n",
      "124s - loss: 1.1457 - acc: 0.5923 - val_loss: 1.2211 - val_acc: 0.5657\n",
      "Epoch 71/100\n",
      "127s - loss: 1.1402 - acc: 0.5951 - val_loss: 1.2128 - val_acc: 0.5691\n",
      "Epoch 72/100\n",
      "124s - loss: 1.1370 - acc: 0.5950 - val_loss: 1.2183 - val_acc: 0.5671\n",
      "Epoch 73/100\n",
      "125s - loss: 1.1331 - acc: 0.5961 - val_loss: 1.2345 - val_acc: 0.5604\n",
      "Epoch 74/100\n",
      "122s - loss: 1.1298 - acc: 0.5961 - val_loss: 1.2149 - val_acc: 0.5670\n",
      "Epoch 75/100\n",
      "120s - loss: 1.1253 - acc: 0.5979 - val_loss: 1.2088 - val_acc: 0.5711\n",
      "Epoch 76/100\n",
      "135s - loss: 1.1233 - acc: 0.6007 - val_loss: 1.2141 - val_acc: 0.5682\n",
      "Epoch 77/100\n",
      "142s - loss: 1.1252 - acc: 0.5971 - val_loss: 1.2048 - val_acc: 0.5715\n",
      "Epoch 78/100\n",
      "137s - loss: 1.1172 - acc: 0.6022 - val_loss: 1.2099 - val_acc: 0.5669\n",
      "Epoch 79/100\n",
      "129s - loss: 1.1125 - acc: 0.6017 - val_loss: 1.2256 - val_acc: 0.5654\n",
      "Epoch 80/100\n",
      "119s - loss: 1.1104 - acc: 0.6047 - val_loss: 1.2152 - val_acc: 0.5702\n",
      "Epoch 81/100\n",
      "126s - loss: 1.1069 - acc: 0.6039 - val_loss: 1.2006 - val_acc: 0.5722\n",
      "Epoch 82/100\n",
      "134s - loss: 1.1024 - acc: 0.6067 - val_loss: 1.2042 - val_acc: 0.5733\n",
      "Epoch 83/100\n",
      "121s - loss: 1.0978 - acc: 0.6091 - val_loss: 1.2092 - val_acc: 0.5732\n",
      "Epoch 84/100\n",
      "125s - loss: 1.0977 - acc: 0.6080 - val_loss: 1.2022 - val_acc: 0.5710\n",
      "Epoch 85/100\n",
      "139s - loss: 1.0956 - acc: 0.6082 - val_loss: 1.2351 - val_acc: 0.5623\n",
      "Epoch 86/100\n",
      "138s - loss: 1.0941 - acc: 0.6076 - val_loss: 1.2014 - val_acc: 0.5747\n",
      "Epoch 87/100\n",
      "139s - loss: 1.0905 - acc: 0.6094 - val_loss: 1.2015 - val_acc: 0.5718\n",
      "Epoch 88/100\n",
      "138s - loss: 1.0888 - acc: 0.6118 - val_loss: 1.2017 - val_acc: 0.5735\n",
      "Epoch 89/100\n",
      "138s - loss: 1.0821 - acc: 0.6125 - val_loss: 1.2084 - val_acc: 0.5711\n",
      "Epoch 90/100\n",
      "137s - loss: 1.0759 - acc: 0.6189 - val_loss: 1.2157 - val_acc: 0.5708\n",
      "Epoch 91/100\n",
      "138s - loss: 1.0756 - acc: 0.6161 - val_loss: 1.2239 - val_acc: 0.5655\n",
      "Epoch 92/100\n",
      "139s - loss: 1.0720 - acc: 0.6147 - val_loss: 1.2212 - val_acc: 0.5659\n",
      "Epoch 93/100\n",
      "139s - loss: 1.0746 - acc: 0.6155 - val_loss: 1.1976 - val_acc: 0.5706\n",
      "Epoch 94/100\n",
      "138s - loss: 1.0715 - acc: 0.6171 - val_loss: 1.2096 - val_acc: 0.5685\n",
      "Epoch 95/100\n",
      "137s - loss: 1.0701 - acc: 0.6190 - val_loss: 1.2040 - val_acc: 0.5734\n",
      "Epoch 96/100\n",
      "142s - loss: 1.0668 - acc: 0.6204 - val_loss: 1.2007 - val_acc: 0.5739\n",
      "Epoch 97/100\n",
      "142s - loss: 1.0662 - acc: 0.6200 - val_loss: 1.2065 - val_acc: 0.5703\n",
      "Epoch 98/100\n"
     ]
    },
    {
     "name": "stdout",
     "output_type": "stream",
     "text": [
      "142s - loss: 1.0560 - acc: 0.6214 - val_loss: 1.1992 - val_acc: 0.5745\n",
      "Epoch 99/100\n",
      "142s - loss: 1.0582 - acc: 0.6199 - val_loss: 1.1968 - val_acc: 0.5788\n",
      "Epoch 100/100\n",
      "141s - loss: 1.0545 - acc: 0.6236 - val_loss: 1.1952 - val_acc: 0.5790\n"
     ]
    },
    {
     "data": {
      "text/plain": [
       "<keras.callbacks.History at 0x23a3df9c5c0>"
      ]
     },
     "execution_count": 60,
     "metadata": {},
     "output_type": "execute_result"
    },
    {
     "name": "stdout",
     "output_type": "stream",
     "text": [
      "Convolution Error with 2 hidden layers: 42.10%\n"
     ]
    }
   ],
   "source": [
    "def convolution2_model():\n",
    "    # create model\n",
    "    model = Sequential()\n",
    "    model.add(Conv2D(32, (5, 5), input_shape=(32, 32, 3), activation='relu'))\n",
    "    model.add(MaxPooling2D(pool_size=(2, 2)))\n",
    "    model.add(Conv2D(64, (5, 5), activation='relu'))\n",
    "    model.add(MaxPooling2D(pool_size=(2, 2)))\n",
    "    model.add(Dropout(0.2))\n",
    "    model.add(Flatten())\n",
    "    model.add(Dense(128, activation='relu'))\n",
    "    model.add(Dense(10, activation='softmax'))\n",
    "    # Compile model\n",
    "    adam = keras.optimizers.Adam(lr=0.001, beta_1=0.9, beta_2=0.999, epsilon=1e-08, decay=0.0)\n",
    "    model.compile(loss='categorical_crossentropy', optimizer=adam, metrics=['accuracy'])\n",
    "    return model\n",
    "\n",
    "# build the model\n",
    "model = convolution2_model()\n",
    "# Fit the model\n",
    "model.fit(X_train, y_train, validation_data=(X_test, y_test), epochs=100, batch_size=200, verbose=1)\n",
    "# Final evaluation of the model\n",
    "scores = model.evaluate(X_test, y_test, verbose=1)\n",
    "print(\"Convolution Error with 2 hidden layers: %.2f%%\" % (100-scores[1]*100))"
   ]
  },
  {
   "cell_type": "code",
   "execution_count": 61,
   "metadata": {},
   "outputs": [
    {
     "name": "stdout",
     "output_type": "stream",
     "text": [
      "Train on 50000 samples, validate on 10000 samples\n",
      "Epoch 1/100\n",
      "50000/50000 [==============================] - 121s - loss: 2.1601 - acc: 0.1895 - val_loss: 1.9577 - val_acc: 0.3027\n",
      "Epoch 2/100\n",
      "50000/50000 [==============================] - 119s - loss: 1.9034 - acc: 0.3120 - val_loss: 1.8156 - val_acc: 0.3453\n",
      "Epoch 3/100\n",
      "50000/50000 [==============================] - 114s - loss: 1.8069 - acc: 0.3484 - val_loss: 1.7329 - val_acc: 0.3801\n",
      "Epoch 4/100\n",
      "50000/50000 [==============================] - 116s - loss: 1.7427 - acc: 0.3728 - val_loss: 1.6711 - val_acc: 0.4038\n",
      "Epoch 5/100\n",
      "50000/50000 [==============================] - 114s - loss: 1.6954 - acc: 0.3920 - val_loss: 1.6296 - val_acc: 0.4156\n",
      "Epoch 6/100\n",
      "50000/50000 [==============================] - 114s - loss: 1.6609 - acc: 0.4050 - val_loss: 1.6083 - val_acc: 0.4239\n",
      "Epoch 7/100\n",
      "50000/50000 [==============================] - 114s - loss: 1.6316 - acc: 0.4154 - val_loss: 1.5842 - val_acc: 0.4345\n",
      "Epoch 8/100\n",
      "50000/50000 [==============================] - 113s - loss: 1.6075 - acc: 0.4249 - val_loss: 1.5519 - val_acc: 0.4493\n",
      "Epoch 9/100\n",
      "50000/50000 [==============================] - 115s - loss: 1.5877 - acc: 0.4307 - val_loss: 1.5301 - val_acc: 0.4584\n",
      "Epoch 10/100\n",
      "50000/50000 [==============================] - 116s - loss: 1.5700 - acc: 0.4387 - val_loss: 1.5154 - val_acc: 0.4615\n",
      "Epoch 11/100\n",
      "50000/50000 [==============================] - 115s - loss: 1.5484 - acc: 0.4483 - val_loss: 1.4962 - val_acc: 0.4689\n",
      "Epoch 12/100\n",
      "50000/50000 [==============================] - 115s - loss: 1.5320 - acc: 0.4531 - val_loss: 1.4845 - val_acc: 0.4735\n",
      "Epoch 13/100\n",
      "50000/50000 [==============================] - 116s - loss: 1.5193 - acc: 0.4594 - val_loss: 1.4817 - val_acc: 0.4707\n",
      "Epoch 14/100\n",
      "50000/50000 [==============================] - 116s - loss: 1.5048 - acc: 0.4650 - val_loss: 1.4640 - val_acc: 0.4836\n",
      "Epoch 15/100\n",
      "50000/50000 [==============================] - 116s - loss: 1.4918 - acc: 0.4678 - val_loss: 1.4462 - val_acc: 0.4928\n",
      "Epoch 16/100\n",
      "50000/50000 [==============================] - 117s - loss: 1.4779 - acc: 0.4723 - val_loss: 1.4428 - val_acc: 0.4934\n",
      "Epoch 17/100\n",
      "50000/50000 [==============================] - 115s - loss: 1.4696 - acc: 0.4746 - val_loss: 1.4322 - val_acc: 0.4960\n",
      "Epoch 18/100\n",
      "50000/50000 [==============================] - 114s - loss: 1.4556 - acc: 0.4818 - val_loss: 1.4203 - val_acc: 0.4952\n",
      "Epoch 19/100\n",
      "50000/50000 [==============================] - 114s - loss: 1.4469 - acc: 0.4848 - val_loss: 1.4140 - val_acc: 0.5031\n",
      "Epoch 20/100\n",
      "50000/50000 [==============================] - 114s - loss: 1.4387 - acc: 0.4854 - val_loss: 1.4079 - val_acc: 0.5013\n",
      "Epoch 21/100\n",
      "50000/50000 [==============================] - 115s - loss: 1.4291 - acc: 0.4906 - val_loss: 1.3913 - val_acc: 0.5087\n",
      "Epoch 22/100\n",
      "50000/50000 [==============================] - 115s - loss: 1.4183 - acc: 0.4959 - val_loss: 1.3889 - val_acc: 0.5099\n",
      "Epoch 23/100\n",
      "50000/50000 [==============================] - 115s - loss: 1.4113 - acc: 0.4959 - val_loss: 1.3917 - val_acc: 0.5010\n",
      "Epoch 24/100\n",
      "50000/50000 [==============================] - 114s - loss: 1.4048 - acc: 0.4984 - val_loss: 1.3701 - val_acc: 0.5167\n",
      "Epoch 25/100\n",
      "50000/50000 [==============================] - 115s - loss: 1.3970 - acc: 0.5038 - val_loss: 1.3650 - val_acc: 0.5178\n",
      "Epoch 26/100\n",
      "50000/50000 [==============================] - 114s - loss: 1.3908 - acc: 0.5052 - val_loss: 1.3598 - val_acc: 0.5206\n",
      "Epoch 27/100\n",
      "50000/50000 [==============================] - 115s - loss: 1.3814 - acc: 0.5087 - val_loss: 1.3562 - val_acc: 0.5212\n",
      "Epoch 28/100\n",
      "50000/50000 [==============================] - 115s - loss: 1.3757 - acc: 0.5107 - val_loss: 1.3478 - val_acc: 0.5266\n",
      "Epoch 29/100\n",
      "50000/50000 [==============================] - 116s - loss: 1.3709 - acc: 0.5142 - val_loss: 1.3448 - val_acc: 0.5245\n",
      "Epoch 30/100\n",
      "50000/50000 [==============================] - 117s - loss: 1.3643 - acc: 0.5152 - val_loss: 1.3448 - val_acc: 0.5230\n",
      "Epoch 31/100\n",
      "50000/50000 [==============================] - 116s - loss: 1.3557 - acc: 0.5169 - val_loss: 1.3319 - val_acc: 0.5269\n",
      "Epoch 32/100\n",
      "50000/50000 [==============================] - 117s - loss: 1.3486 - acc: 0.5189 - val_loss: 1.3282 - val_acc: 0.5261\n",
      "Epoch 33/100\n",
      "50000/50000 [==============================] - 115s - loss: 1.3466 - acc: 0.5209 - val_loss: 1.3302 - val_acc: 0.5241\n",
      "Epoch 34/100\n",
      "50000/50000 [==============================] - 116s - loss: 1.3383 - acc: 0.5238 - val_loss: 1.3212 - val_acc: 0.5291\n",
      "Epoch 35/100\n",
      "50000/50000 [==============================] - 115s - loss: 1.3325 - acc: 0.5271 - val_loss: 1.3238 - val_acc: 0.5270\n",
      "Epoch 36/100\n",
      "50000/50000 [==============================] - 116s - loss: 1.3292 - acc: 0.5265 - val_loss: 1.3109 - val_acc: 0.5334\n",
      "Epoch 37/100\n",
      "50000/50000 [==============================] - 115s - loss: 1.3216 - acc: 0.5304 - val_loss: 1.3219 - val_acc: 0.5349\n",
      "Epoch 38/100\n",
      "50000/50000 [==============================] - 115s - loss: 1.3183 - acc: 0.5343 - val_loss: 1.3072 - val_acc: 0.5348\n",
      "Epoch 39/100\n",
      "50000/50000 [==============================] - 115s - loss: 1.3139 - acc: 0.5339 - val_loss: 1.3073 - val_acc: 0.5330\n",
      "Epoch 40/100\n",
      "50000/50000 [==============================] - 116s - loss: 1.3087 - acc: 0.5369 - val_loss: 1.3008 - val_acc: 0.5372\n",
      "Epoch 41/100\n",
      "50000/50000 [==============================] - 116s - loss: 1.3091 - acc: 0.5337 - val_loss: 1.3001 - val_acc: 0.5387\n",
      "Epoch 42/100\n",
      "50000/50000 [==============================] - 115s - loss: 1.3040 - acc: 0.5380 - val_loss: 1.2966 - val_acc: 0.5388\n",
      "Epoch 43/100\n",
      "50000/50000 [==============================] - 114s - loss: 1.2969 - acc: 0.5409 - val_loss: 1.2975 - val_acc: 0.5329\n",
      "Epoch 44/100\n",
      "50000/50000 [==============================] - 115s - loss: 1.2916 - acc: 0.5435 - val_loss: 1.2938 - val_acc: 0.5386\n",
      "Epoch 45/100\n",
      "50000/50000 [==============================] - 115s - loss: 1.2854 - acc: 0.5435 - val_loss: 1.2833 - val_acc: 0.5446\n",
      "Epoch 46/100\n",
      "50000/50000 [==============================] - 115s - loss: 1.2848 - acc: 0.5456 - val_loss: 1.2870 - val_acc: 0.5426\n",
      "Epoch 47/100\n",
      "50000/50000 [==============================] - 114s - loss: 1.2815 - acc: 0.5448 - val_loss: 1.2871 - val_acc: 0.5433\n",
      "Epoch 48/100\n",
      "50000/50000 [==============================] - 114s - loss: 1.2784 - acc: 0.5466 - val_loss: 1.2882 - val_acc: 0.5454\n",
      "Epoch 49/100\n",
      "50000/50000 [==============================] - 114s - loss: 1.2733 - acc: 0.5483 - val_loss: 1.2806 - val_acc: 0.5474\n",
      "Epoch 50/100\n",
      "50000/50000 [==============================] - 114s - loss: 1.2733 - acc: 0.5470 - val_loss: 1.2813 - val_acc: 0.5475\n",
      "Epoch 51/100\n",
      "50000/50000 [==============================] - 115s - loss: 1.2666 - acc: 0.5474 - val_loss: 1.2733 - val_acc: 0.551354\n",
      "Epoch 52/100\n",
      "50000/50000 [==============================] - 115s - loss: 1.2641 - acc: 0.5514 - val_loss: 1.2762 - val_acc: 0.5486\n",
      "Epoch 53/100\n",
      "50000/50000 [==============================] - 115s - loss: 1.2551 - acc: 0.5545 - val_loss: 1.2754 - val_acc: 0.5476\n",
      "Epoch 54/100\n",
      "50000/50000 [==============================] - 115s - loss: 1.2577 - acc: 0.5538 - val_loss: 1.2706 - val_acc: 0.5503\n",
      "Epoch 55/100\n",
      "50000/50000 [==============================] - 116s - loss: 1.2562 - acc: 0.5524 - val_loss: 1.2660 - val_acc: 0.5557\n",
      "Epoch 56/100\n",
      "50000/50000 [==============================] - 117s - loss: 1.2522 - acc: 0.5556 - val_loss: 1.2645 - val_acc: 0.5539\n",
      "Epoch 57/100\n",
      "50000/50000 [==============================] - 117s - loss: 1.2502 - acc: 0.5547 - val_loss: 1.2636 - val_acc: 0.5530\n",
      "Epoch 58/100\n",
      "50000/50000 [==============================] - 117s - loss: 1.2438 - acc: 0.5560 - val_loss: 1.2634 - val_acc: 0.5521\n",
      "Epoch 59/100\n",
      "50000/50000 [==============================] - 116s - loss: 1.2461 - acc: 0.5589 - val_loss: 1.2646 - val_acc: 0.5533\n",
      "Epoch 60/100\n",
      "50000/50000 [==============================] - 118s - loss: 1.2396 - acc: 0.5598 - val_loss: 1.2747 - val_acc: 0.5526\n",
      "Epoch 61/100\n",
      "50000/50000 [==============================] - 118s - loss: 1.2387 - acc: 0.5606 - val_loss: 1.2707 - val_acc: 0.5535\n",
      "Epoch 62/100\n",
      "50000/50000 [==============================] - 117s - loss: 1.2363 - acc: 0.5604 - val_loss: 1.2676 - val_acc: 0.5539\n",
      "Epoch 63/100\n",
      "50000/50000 [==============================] - 112s - loss: 1.2336 - acc: 0.5626 - val_loss: 1.2612 - val_acc: 0.5504\n",
      "Epoch 64/100\n",
      "50000/50000 [==============================] - 111s - loss: 1.2276 - acc: 0.5628 - val_loss: 1.2540 - val_acc: 0.5581\n",
      "Epoch 65/100\n",
      "50000/50000 [==============================] - 111s - loss: 1.2268 - acc: 0.5634 - val_loss: 1.2509 - val_acc: 0.5604\n",
      "Epoch 66/100\n",
      "50000/50000 [==============================] - 111s - loss: 1.2239 - acc: 0.5652 - val_loss: 1.2536 - val_acc: 0.5547\n",
      "Epoch 67/100\n",
      "50000/50000 [==============================] - 112s - loss: 1.2256 - acc: 0.5656 - val_loss: 1.2536 - val_acc: 0.5532\n",
      "Epoch 68/100\n",
      "50000/50000 [==============================] - 112s - loss: 1.2208 - acc: 0.5669 - val_loss: 1.2563 - val_acc: 0.5573- E - ETA: \n",
      "Epoch 69/100\n",
      "50000/50000 [==============================] - 111s - loss: 1.2185 - acc: 0.5673 - val_loss: 1.2548 - val_acc: 0.5564\n",
      "Epoch 70/100\n",
      "50000/50000 [==============================] - 112s - loss: 1.2137 - acc: 0.5665 - val_loss: 1.2627 - val_acc: 0.5580\n",
      "Epoch 71/100\n",
      "50000/50000 [==============================] - 112s - loss: 1.2137 - acc: 0.5653 - val_loss: 1.2536 - val_acc: 0.5564\n",
      "Epoch 72/100\n",
      "50000/50000 [==============================] - 112s - loss: 1.2122 - acc: 0.5691 - val_loss: 1.2492 - val_acc: 0.5591\n",
      "Epoch 73/100\n",
      "50000/50000 [==============================] - 111s - loss: 1.2114 - acc: 0.5694 - val_loss: 1.2449 - val_acc: 0.5593\n",
      "Epoch 74/100\n",
      "50000/50000 [==============================] - 111s - loss: 1.2067 - acc: 0.5726 - val_loss: 1.2513 - val_acc: 0.5563\n",
      "Epoch 75/100\n",
      "50000/50000 [==============================] - 111s - loss: 1.2068 - acc: 0.5714 - val_loss: 1.2483 - val_acc: 0.5567\n",
      "Epoch 76/100\n",
      "50000/50000 [==============================] - 113s - loss: 1.2011 - acc: 0.5742 - val_loss: 1.2452 - val_acc: 0.5603\n",
      "Epoch 77/100\n",
      "50000/50000 [==============================] - 113s - loss: 1.2041 - acc: 0.5702 - val_loss: 1.2424 - val_acc: 0.5625\n",
      "Epoch 78/100\n",
      "50000/50000 [==============================] - 117s - loss: 1.1984 - acc: 0.5730 - val_loss: 1.2385 - val_acc: 0.5616\n",
      "Epoch 79/100\n",
      "50000/50000 [==============================] - 115s - loss: 1.1962 - acc: 0.5756 - val_loss: 1.2514 - val_acc: 0.5611\n",
      "Epoch 80/100\n",
      "50000/50000 [==============================] - 115s - loss: 1.1969 - acc: 0.5748 - val_loss: 1.2459 - val_acc: 0.5609\n",
      "Epoch 81/100\n",
      "50000/50000 [==============================] - 116s - loss: 1.1931 - acc: 0.5745 - val_loss: 1.2416 - val_acc: 0.5622\n",
      "Epoch 82/100\n",
      "50000/50000 [==============================] - 115s - loss: 1.1939 - acc: 0.5746 - val_loss: 1.2406 - val_acc: 0.5645\n",
      "Epoch 83/100\n",
      "50000/50000 [==============================] - 115s - loss: 1.1885 - acc: 0.5767 - val_loss: 1.2438 - val_acc: 0.5605\n",
      "Epoch 84/100\n",
      "50000/50000 [==============================] - 115s - loss: 1.1887 - acc: 0.5767 - val_loss: 1.2528 - val_acc: 0.5625\n",
      "Epoch 85/100\n",
      "50000/50000 [==============================] - 115s - loss: 1.1857 - acc: 0.5795 - val_loss: 1.2505 - val_acc: 0.5593\n",
      "Epoch 86/100\n",
      "50000/50000 [==============================] - 114s - loss: 1.1853 - acc: 0.5797 - val_loss: 1.2555 - val_acc: 0.5569\n",
      "Epoch 87/100\n",
      "50000/50000 [==============================] - 115s - loss: 1.1825 - acc: 0.5794 - val_loss: 1.2410 - val_acc: 0.5625\n",
      "Epoch 88/100\n",
      "50000/50000 [==============================] - 115s - loss: 1.1812 - acc: 0.5791 - val_loss: 1.2499 - val_acc: 0.5553\n",
      "Epoch 89/100\n",
      "50000/50000 [==============================] - 116s - loss: 1.1807 - acc: 0.5785 - val_loss: 1.2465 - val_acc: 0.5565\n",
      "Epoch 90/100\n",
      "50000/50000 [==============================] - 116s - loss: 1.1791 - acc: 0.5818 - val_loss: 1.2493 - val_acc: 0.5624\n",
      "Epoch 91/100\n",
      "50000/50000 [==============================] - 116s - loss: 1.1792 - acc: 0.5793 - val_loss: 1.2455 - val_acc: 0.5601\n",
      "Epoch 92/100\n",
      "50000/50000 [==============================] - 117s - loss: 1.1739 - acc: 0.5835 - val_loss: 1.2401 - val_acc: 0.5611\n",
      "Epoch 93/100\n",
      "50000/50000 [==============================] - 117s - loss: 1.1739 - acc: 0.5822 - val_loss: 1.2483 - val_acc: 0.5556\n",
      "Epoch 94/100\n",
      "50000/50000 [==============================] - 115s - loss: 1.1702 - acc: 0.5848 - val_loss: 1.2371 - val_acc: 0.5625\n",
      "Epoch 95/100\n",
      "50000/50000 [==============================] - 119s - loss: 1.1710 - acc: 0.5813 - val_loss: 1.2421 - val_acc: 0.5593\n",
      "Epoch 96/100\n",
      "50000/50000 [==============================] - 120s - loss: 1.1712 - acc: 0.5826 - val_loss: 1.2423 - val_acc: 0.5594\n",
      "Epoch 97/100\n",
      "50000/50000 [==============================] - 105s - loss: 1.1654 - acc: 0.5845 - val_loss: 1.2382 - val_acc: 0.5627\n",
      "Epoch 98/100\n",
      "50000/50000 [==============================] - 119s - loss: 1.1664 - acc: 0.5837 - val_loss: 1.2420 - val_acc: 0.5593\n",
      "Epoch 99/100\n",
      "50000/50000 [==============================] - 115s - loss: 1.1670 - acc: 0.5849 - val_loss: 1.2461 - val_acc: 0.5587\n",
      "Epoch 100/100\n",
      "50000/50000 [==============================] - 120s - loss: 1.1621 - acc: 0.5851 - val_loss: 1.2311 - val_acc: 0.5646\n"
     ]
    },
    {
     "data": {
      "text/plain": [
       "<keras.callbacks.History at 0x23a4c42d198>"
      ]
     },
     "execution_count": 61,
     "metadata": {},
     "output_type": "execute_result"
    },
    {
     "name": "stdout",
     "output_type": "stream",
     "text": [
      " 9984/10000 [============================>.] - ETA: 0sConvolution Error with 2 hidden layers: 43.54%\n"
     ]
    }
   ],
   "source": [
    "def convolution2b_model():\n",
    "    # create model\n",
    "    model = Sequential()\n",
    "    model.add(Conv2D(32, (3, 3), input_shape=(32, 32, 3), activation='relu'))\n",
    "    model.add(MaxPooling2D(pool_size=(2, 2)))\n",
    "    model.add(Conv2D(64, (3, 3), activation='relu'))\n",
    "    model.add(MaxPooling2D(pool_size=(2, 2)))\n",
    "    model.add(Dropout(0.2))\n",
    "    model.add(Flatten())\n",
    "    model.add(Dense(128, activation='relu'))\n",
    "    model.add(Dense(10, activation='softmax'))\n",
    "    # Compile model\n",
    "    adam = keras.optimizers.Adam(lr=0.001, beta_1=0.9, beta_2=0.999, epsilon=1e-08, decay=0.0)\n",
    "    model.compile(loss='categorical_crossentropy', optimizer=adam, metrics=['accuracy'])\n",
    "    return model\n",
    "\n",
    "# build the model\n",
    "model = convolution2b_model()\n",
    "# Fit the model\n",
    "model.fit(X_train, y_train, validation_data=(X_test, y_test), epochs=100, batch_size=100, verbose=1)\n",
    "# Final evaluation of the model\n",
    "scores = model.evaluate(X_test, y_test, verbose=1)\n",
    "print(\"Convolution Error with 2 hidden layers: %.2f%%\" % (100-scores[1]*100))"
   ]
  },
  {
   "cell_type": "code",
   "execution_count": 71,
   "metadata": {},
   "outputs": [
    {
     "name": "stdout",
     "output_type": "stream",
     "text": [
      "Train on 45000 samples, validate on 5000 samples\n",
      "Epoch 1/20\n",
      "45000/45000 [==============================] - 79s - loss: 2.2802 - acc: 0.1318 - val_loss: 2.1988 - val_acc: 0.2144\n",
      "Epoch 2/20\n",
      "45000/45000 [==============================] - 71s - loss: 2.0982 - acc: 0.2379 - val_loss: 2.0283 - val_acc: 0.2706\n",
      "Epoch 3/20\n",
      "45000/45000 [==============================] - 70s - loss: 1.9941 - acc: 0.2813 - val_loss: 1.9567 - val_acc: 0.2958\n",
      "Epoch 4/20\n",
      "45000/45000 [==============================] - 70s - loss: 1.9303 - acc: 0.3058 - val_loss: 1.8910 - val_acc: 0.3214\n",
      "Epoch 5/20\n",
      "45000/45000 [==============================] - 71s - loss: 1.8735 - acc: 0.3279 - val_loss: 1.8422 - val_acc: 0.3382\n",
      "Epoch 6/20\n",
      "45000/45000 [==============================] - 71s - loss: 1.8186 - acc: 0.3486 - val_loss: 1.7939 - val_acc: 0.3574\n",
      "Epoch 7/20\n",
      "45000/45000 [==============================] - 70s - loss: 1.7771 - acc: 0.3642 - val_loss: 1.7535 - val_acc: 0.3640\n",
      "Epoch 8/20\n",
      "45000/45000 [==============================] - 70s - loss: 1.7461 - acc: 0.3751 - val_loss: 1.7275 - val_acc: 0.3770\n",
      "Epoch 9/20\n",
      "45000/45000 [==============================] - 71s - loss: 1.7238 - acc: 0.3838 - val_loss: 1.7043 - val_acc: 0.3820\n",
      "Epoch 10/20\n",
      "45000/45000 [==============================] - 70s - loss: 1.7037 - acc: 0.3910 - val_loss: 1.6840 - val_acc: 0.3970\n",
      "Epoch 11/20\n",
      "45000/45000 [==============================] - 70s - loss: 1.6900 - acc: 0.3964 - val_loss: 1.6719 - val_acc: 0.3982\n",
      "Epoch 12/20\n",
      "45000/45000 [==============================] - 71s - loss: 1.6759 - acc: 0.4025 - val_loss: 1.6552 - val_acc: 0.4024\n",
      "Epoch 13/20\n",
      "45000/45000 [==============================] - 70s - loss: 1.6653 - acc: 0.4043 - val_loss: 1.6477 - val_acc: 0.4036\n",
      "Epoch 14/20\n",
      "45000/45000 [==============================] - 71s - loss: 1.6559 - acc: 0.4088 - val_loss: 1.6298 - val_acc: 0.4170\n",
      "Epoch 15/20\n",
      "45000/45000 [==============================] - 70s - loss: 1.6410 - acc: 0.4129 - val_loss: 1.6134 - val_acc: 0.4210\n",
      "Epoch 16/20\n",
      "45000/45000 [==============================] - 71s - loss: 1.6294 - acc: 0.4199 - val_loss: 1.6167 - val_acc: 0.4140\n",
      "Epoch 17/20\n",
      "45000/45000 [==============================] - 70s - loss: 1.6238 - acc: 0.4205 - val_loss: 1.5961 - val_acc: 0.4266\n",
      "Epoch 18/20\n",
      "45000/45000 [==============================] - 70s - loss: 1.6111 - acc: 0.4244 - val_loss: 1.5826 - val_acc: 0.4362\n",
      "Epoch 19/20\n",
      "45000/45000 [==============================] - 71s - loss: 1.6005 - acc: 0.4296 - val_loss: 1.5819 - val_acc: 0.4308\n",
      "Epoch 20/20\n",
      "45000/45000 [==============================] - 69s - loss: 1.5933 - acc: 0.4326 - val_loss: 1.5640 - val_acc: 0.4374\n"
     ]
    },
    {
     "data": {
      "text/plain": [
       "[<matplotlib.lines.Line2D at 0x23a55646278>]"
      ]
     },
     "execution_count": 71,
     "metadata": {},
     "output_type": "execute_result"
    },
    {
     "name": "stdout",
     "output_type": "stream",
     "text": [
      " 9984/10000 [============================>.] - ETA: 0sConvolution Error with 2 hidden layers: 55.09%\n"
     ]
    },
    {
     "data": {
      "image/png": "[encoded data removed]",
      "text/plain": [
       "<matplotlib.figure.Figure at 0x23a52a949b0>"
      ]
     },
     "metadata": {},
     "output_type": "display_data"
    }
   ],
   "source": [
    "def convolution2b_model():\n",
    "    # create model\n",
    "    model = Sequential()\n",
    "    model.add(Conv2D(32, (3, 3), input_shape=(32, 32, 3), activation='relu'))\n",
    "    model.add(MaxPooling2D(pool_size=(2, 2)))\n",
    "    model.add(Conv2D(64, (3, 3), activation='relu'))\n",
    "    model.add(MaxPooling2D(pool_size=(2, 2)))\n",
    "    model.add(Dropout(0.2))\n",
    "    model.add(Flatten())\n",
    "    model.add(Dense(128, activation='relu'))\n",
    "    model.add(Dense(10, activation='softmax'))\n",
    "    # Compile model\n",
    "    adam = keras.optimizers.Adam(lr=0.001, beta_1=0.9, beta_2=0.999, epsilon=1e-08, decay=0.0)\n",
    "    model.compile(loss='categorical_crossentropy', optimizer=adam, metrics=['accuracy'])\n",
    "    return model\n",
    "\n",
    "# build the model\n",
    "model = convolution2b_model()\n",
    "# Fit the model\n",
    "results = model.fit(X_train, y_train, validation_split=0.1, epochs=20, batch_size=1000, verbose=1)\n",
    "plt.plot(results.history['loss'])\n",
    "# Final evaluation of the model\n",
    "scores = model.evaluate(X_test, y_test, verbose=1)\n",
    "print(\"Convolution Error with 2 hidden layers: %.2f%%\" % (100-scores[1]*100))"
   ]
  },
  {
   "cell_type": "code",
   "execution_count": 80,
   "metadata": {},
   "outputs": [
    {
     "data": {
      "text/plain": [
       "[<matplotlib.lines.Line2D at 0x23a55e0d940>]"
      ]
     },
     "execution_count": 80,
     "metadata": {},
     "output_type": "execute_result"
    },
    {
     "data": {
      "text/plain": [
       "[<matplotlib.lines.Line2D at 0x23a555827b8>]"
      ]
     },
     "execution_count": 80,
     "metadata": {},
     "output_type": "execute_result"
    },
    {
     "data": {
      "text/plain": [
       "[<matplotlib.lines.Line2D at 0x23a55e12278>]"
      ]
     },
     "execution_count": 80,
     "metadata": {},
     "output_type": "execute_result"
    },
    {
     "data": {
      "text/plain": [
       "[<matplotlib.lines.Line2D at 0x23a55e12860>]"
      ]
     },
     "execution_count": 80,
     "metadata": {},
     "output_type": "execute_result"
    },
    {
     "data": {
      "image/png": "[encoded data removed]",
      "text/plain": [
       "<matplotlib.figure.Figure at 0x23a55582710>"
      ]
     },
     "metadata": {},
     "output_type": "display_data"
    }
   ],
   "source": [
    "plt.plot(results.history['loss'])\n",
    "plt.plot(results.history['acc'])\n",
    "plt.plot(results.history['val_loss'])\n",
    "plt.plot(results.history['val_acc'])"
   ]
  },
  {
   "cell_type": "code",
   "execution_count": 81,
   "metadata": {},
   "outputs": [
    {
     "data": {
      "text/plain": [
       "[1.5527589864730835, 0.4491]"
      ]
     },
     "execution_count": 81,
     "metadata": {},
     "output_type": "execute_result"
    }
   ],
   "source": [
    "scores"
   ]
  },
  {
   "cell_type": "markdown",
   "metadata": {},
   "source": [
    "https://cambridgespark.com/content/tutorials/convolutional-neural-networks-with-keras/index.html"
   ]
  },
  {
   "cell_type": "code",
   "execution_count": null,
   "metadata": {
    "collapsed": true
   },
   "outputs": [],
   "source": [
    "batch_size = 32 # in each iteration, we consider 32 training examples at once\n",
    "num_epochs = 200 # we iterate 200 times over the entire training set\n",
    "kernel_size = 3 # we will use 3x3 kernels throughout\n",
    "pool_size = 2 # we will use 2x2 pooling throughout\n",
    "conv_depth_1 = 32 # we will initially have 32 kernels per conv. layer...\n",
    "conv_depth_2 = 64 # ...switching to 64 after the first pooling layer\n",
    "drop_prob_1 = 0.25 # dropout after pooling with probability 0.25\n",
    "drop_prob_2 = 0.5 # dropout in the FC layer with probability 0.5\n",
    "hidden_size = 512 # the FC layer will have 512 neurons"
   ]
  },
  {
   "cell_type": "code",
   "execution_count": null,
   "metadata": {
    "collapsed": true
   },
   "outputs": [],
   "source": [
    "def convolution2c_model():\n",
    "    # create model\n",
    "    model = Sequential()\n",
    "    model.add(Conv2D(32, (1, 1), input_shape=(32, 32, 3), activation='relu'))\n",
    "    model.add(Conv2D(32, (1, 1), input_shape=(32, 32, 3), activation='relu'))\n",
    "    model.add(MaxPooling2D(pool_size=(2, 2)))\n",
    "    model.add(Conv2D(64, (3, 3), activation='relu'))\n",
    "    model.add(MaxPooling2D(pool_size=(2, 2)))\n",
    "    model.add(Dropout(0.2))\n",
    "    model.add(Flatten())\n",
    "    model.add(Dense(128, activation='relu'))\n",
    "    model.add(Dense(10, activation='softmax'))\n",
    "    # Compile model\n",
    "    adam = keras.optimizers.Adam(lr=0.001, beta_1=0.9, beta_2=0.999, epsilon=1e-08, decay=0.0)\n",
    "    model.compile(loss='categorical_crossentropy', optimizer=adam, metrics=['accuracy'])\n",
    "    return model\n",
    "\n",
    "# build the model\n",
    "model = convolution2c_model()\n",
    "# Fit the model\n",
    "results = model.fit(X_train, y_train, validation_split=0.1, epochs=20, batch_size=1000, verbose=1)\n",
    "plt.plot(results.history['loss'])\n",
    "# Final evaluation of the model\n",
    "scores = model.evaluate(X_test, y_test, verbose=1)\n",
    "print(\"Convolution Error with 2 hidden layers: %.2f%%\" % (100-scores[1]*100))"
   ]
  },
  {
   "cell_type": "code",
   "execution_count": null,
   "metadata": {},
   "outputs": [
    {
     "name": "stdout",
     "output_type": "stream",
     "text": [
      "Train on 40000 samples, validate on 10000 samples\n",
      "Epoch 1/20\n",
      "40000/40000 [==============================] - 188s - loss: 2.2569 - acc: 0.1401 - val_loss: 2.0831 - val_acc: 0.2112\n",
      "Epoch 2/20\n",
      "40000/40000 [==============================] - 187s - loss: 2.0371 - acc: 0.2528 - val_loss: 1.9771 - val_acc: 0.2858\n",
      "Epoch 3/20\n",
      "40000/40000 [==============================] - 172s - loss: 1.9618 - acc: 0.2895 - val_loss: 1.9126 - val_acc: 0.3121\n",
      "Epoch 4/20\n",
      "40000/40000 [==============================] - 177s - loss: 1.8903 - acc: 0.3172 - val_loss: 1.8360 - val_acc: 0.3430\n",
      "Epoch 5/20\n",
      "40000/40000 [==============================] - 168s - loss: 1.8336 - acc: 0.3391 - val_loss: 1.7885 - val_acc: 0.3602\n",
      "Epoch 6/20\n",
      "40000/40000 [==============================] - 175s - loss: 1.7958 - acc: 0.3573 - val_loss: 1.7617 - val_acc: 0.3783\n",
      "Epoch 7/20\n",
      "40000/40000 [==============================] - 190s - loss: 1.7660 - acc: 0.3683 - val_loss: 1.7174 - val_acc: 0.3926\n",
      "Epoch 8/20\n",
      "40000/40000 [==============================] - 174s - loss: 1.7400 - acc: 0.3787 - val_loss: 1.6971 - val_acc: 0.3954\n",
      "Epoch 9/20\n",
      "40000/40000 [==============================] - 186s - loss: 1.7192 - acc: 0.3850 - val_loss: 1.6750 - val_acc: 0.4030\n",
      "Epoch 10/20\n",
      "40000/40000 [==============================] - 177s - loss: 1.6900 - acc: 0.3954 - val_loss: 1.6381 - val_acc: 0.4113\n",
      "Epoch 11/20\n",
      "40000/40000 [==============================] - 179s - loss: 1.6706 - acc: 0.4022 - val_loss: 1.6228 - val_acc: 0.4183\n",
      "Epoch 12/20\n",
      "40000/40000 [==============================] - 176s - loss: 1.6354 - acc: 0.4136 - val_loss: 1.5916 - val_acc: 0.4294\n",
      "Epoch 13/20\n",
      "40000/40000 [==============================] - 174s - loss: 1.6244 - acc: 0.4170 - val_loss: 1.5899 - val_acc: 0.4334\n",
      "Epoch 14/20\n",
      "40000/40000 [==============================] - 180s - loss: 1.6093 - acc: 0.4236 - val_loss: 1.5692 - val_acc: 0.4322\n",
      "Epoch 15/20\n",
      "40000/40000 [==============================] - 173s - loss: 1.5927 - acc: 0.4302 - val_loss: 1.5567 - val_acc: 0.4406\n",
      "Epoch 16/20\n",
      "40000/40000 [==============================] - 168s - loss: 1.5771 - acc: 0.4366 - val_loss: 1.5349 - val_acc: 0.4462\n",
      "Epoch 17/20\n",
      "40000/40000 [==============================] - 168s - loss: 1.5637 - acc: 0.4371 - val_loss: 1.5326 - val_acc: 0.4492\n",
      "Epoch 18/20\n",
      "40000/40000 [==============================] - 170s - loss: 1.5423 - acc: 0.4461 - val_loss: 1.5273 - val_acc: 0.4509\n",
      "Epoch 19/20\n",
      "40000/40000 [==============================] - 192s - loss: 1.5374 - acc: 0.4501 - val_loss: 1.5014 - val_acc: 0.4610\n",
      "Epoch 20/20\n",
      "40000/40000 [==============================] - 609s - loss: 1.5243 - acc: 0.4549 - val_loss: 1.4995 - val_acc: 0.4606\n",
      " 9984/10000 [============================>.] - ETA: 0s"
     ]
    },
    {
     "data": {
      "text/plain": [
       "[1.4842249984741211, 0.46929999999999999]"
      ]
     },
     "execution_count": 88,
     "metadata": {},
     "output_type": "execute_result"
    },
    {
     "name": "stdout",
     "output_type": "stream",
     "text": [
      "Convolution Error with 2 hidden layers: 53.07%\n"
     ]
    }
   ],
   "source": [
    "def convolution3_model():\n",
    "    # create model\n",
    "    model = Sequential()\n",
    "    model.add(Conv2D(32, (3, 3), input_shape=(32, 32, 3), activation='relu'))\n",
    "    model.add(Conv2D(32, (3, 3), activation='relu'))\n",
    "    model.add(MaxPooling2D(pool_size=(2, 2)))\n",
    "    model.add(Dropout(0.25))\n",
    "    model.add(Conv2D(64, (3, 3), activation='relu'))\n",
    "    model.add(Conv2D(64, (3, 3), activation='relu'))\n",
    "    model.add(MaxPooling2D(pool_size=(2, 2)))\n",
    "    model.add(Dropout(0.5))\n",
    "    model.add(Flatten())\n",
    "    model.add(Dense(512, activation='relu'))\n",
    "    model.add(Dense(10, activation='softmax'))\n",
    "    # Compile model\n",
    "    adam = keras.optimizers.Adam(lr=0.001, beta_1=0.9, beta_2=0.999, epsilon=1e-08, decay=0.0)\n",
    "    model.compile(loss='categorical_crossentropy', optimizer=adam, metrics=['accuracy'])\n",
    "    return model\n",
    "\n",
    "# build the model\n",
    "model = convolution3_model()\n",
    "# Fit the model\n",
    "results = model.fit(X_train, y_train, validation_split=0.2, epochs=20, batch_size=1000, verbose=1)\n",
    "plt.plot(results.history['loss'])\n",
    "# Final evaluation of the model\n",
    "scores = model.evaluate(X_test, y_test, verbose=1)\n",
    "scores\n",
    "print(\"Convolution Error with 2 hidden layers: %.2f%%\" % (100-scores[1]*100))"
   ]
  },
  {
   "cell_type": "code",
   "execution_count": null,
   "metadata": {
    "collapsed": true
   },
   "outputs": [],
   "source": [
    "# Use scikit-learn to grid search the batch size and epochs\n",
    "import numpy\n",
    "from sklearn.model_selection import GridSearchCV\n",
    "from keras.models import Sequential\n",
    "from keras.layers import Dense\n",
    "from keras.wrappers.scikit_learn import KerasClassifier\n",
    "# Function to create model, required for KerasClassifier\n",
    "def convolution3_model():\n",
    "    # create model\n",
    "    model = Sequential()\n",
    "    model.add(Conv2D(32, (3, 3), input_shape=(32, 32, 3), activation='relu'))\n",
    "    model.add(Conv2D(32, (3, 3), activation='relu'))\n",
    "    model.add(MaxPooling2D(pool_size=(2, 2)))\n",
    "    model.add(Dropout(0.25))\n",
    "    model.add(Conv2D(64, (3, 3), activation='relu'))\n",
    "    model.add(Conv2D(64, (3, 3), activation='relu'))\n",
    "    model.add(MaxPooling2D(pool_size=(2, 2)))\n",
    "    model.add(Dropout(0.5))\n",
    "    model.add(Flatten())\n",
    "    model.add(Dense(512, activation='relu'))\n",
    "    model.add(Dense(10, activation='softmax'))\n",
    "    # Compile model\n",
    "    adam = keras.optimizers.Adam(lr=0.001, beta_1=0.9, beta_2=0.999, epsilon=1e-08, decay=0.0)\n",
    "    model.compile(loss='categorical_crossentropy', optimizer=adam, metrics=['accuracy'])\n",
    "    return model\n",
    "# # fix random seed for reproducibility\n",
    "# seed = 7\n",
    "# numpy.random.seed(seed)\n",
    "# # load dataset\n",
    "# dataset = numpy.loadtxt(\"pima-indians-diabetes.csv\", delimiter=\",\")\n",
    "# # split into input (X) and output (Y) variables\n",
    "# X = dataset[:,0:8]\n",
    "# Y = dataset[:,8]\n",
    "# create model\n",
    "model = KerasClassifier(build_fn=convolution3_model, verbose=1)\n",
    "# define the grid search parameters\n",
    "batch_size = [10, 50, 100, 250, 500, 1000]\n",
    "epochs = [20, 50, 100]\n",
    "param_grid = dict(batch_size=batch_size, epochs=epochs)\n",
    "grid = GridSearchCV(estimator=model, param_grid=param_grid, n_jobs=-1)\n",
    "grid_result = grid.fit(X_train, y_train)\n",
    "# summarize results\n",
    "print(\"Best: %f using %s\" % (grid_result.best_score_, grid_result.best_params_))\n",
    "means = grid_result.cv_results_['mean_test_score']\n",
    "stds = grid_result.cv_results_['std_test_score']\n",
    "params = grid_result.cv_results_['params']\n",
    "for mean, stdev, param in zip(means, stds, params):\n",
    "    print(\"%f (%f) with: %r\" % (mean, stdev, param))"
   ]
  },
  {
   "cell_type": "markdown",
   "metadata": {},
   "source": [
    "The following code was adapted from:\n",
    "https://notebooks.azure.com/anon-yqopra/libraries/pydata/html/workspace.ipynb"
   ]
  },
  {
   "cell_type": "code",
   "execution_count": null,
   "metadata": {
    "collapsed": true
   },
   "outputs": [],
   "source": [
    "len(x_train), len(y_train), len(x_test), len(y_test)"
   ]
  },
  {
   "cell_type": "code",
   "execution_count": null,
   "metadata": {
    "collapsed": true
   },
   "outputs": [],
   "source": [
    "import matplotlib\n",
    "import matplotlib.pyplot as plt\n",
    "\n",
    "def display_images_and_labels(images, labels):\n",
    "    \"\"\"Display the first image of each label.\"\"\"\n",
    "    unique_labels = set(labels)\n",
    "    plt.figure(figsize=(15, 15))\n",
    "    i = 1\n",
    "    for label in unique_labels:\n",
    "        # Pick the first image for each label.\n",
    "        image = images[labels.index(label)]\n",
    "        plt.subplot(8, 8, i)  # A grid of 8 rows x 8 columns\n",
    "        plt.axis('off')\n",
    "        plt.title(\"Label {0} ({1})\".format(label, labels.count(label)))\n",
    "        i += 1\n",
    "        _ = plt.imshow(image)\n",
    "    plt.show()"
   ]
  },
  {
   "cell_type": "code",
   "execution_count": null,
   "metadata": {
    "collapsed": true
   },
   "outputs": [],
   "source": [
    "display_images_and_labels(x_train, y_train)"
   ]
  },
  {
   "cell_type": "code",
   "execution_count": null,
   "metadata": {
    "collapsed": true
   },
   "outputs": [],
   "source": []
  },
  {
   "cell_type": "code",
   "execution_count": null,
   "metadata": {
    "collapsed": true
   },
   "outputs": [],
   "source": []
  },
  {
   "cell_type": "code",
   "execution_count": null,
   "metadata": {
    "collapsed": true
   },
   "outputs": [],
   "source": []
  }
 ],
 "metadata": {
  "kernelspec": {
   "display_name": "Python 3",
   "language": "python",
   "name": "python3"
  },
  "language_info": {
   "codemirror_mode": {
    "name": "ipython",
    "version": 3
   },
   "file_extension": ".py",
   "mimetype": "text/x-python",
   "name": "python",
   "nbconvert_exporter": "python",
   "pygments_lexer": "ipython3",
   "version": "3.6.2"
  }
 },
 "nbformat": 4,
 "nbformat_minor": 2
}
